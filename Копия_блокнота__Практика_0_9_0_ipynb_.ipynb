{
  "nbformat": 4,
  "nbformat_minor": 0,
  "metadata": {
    "colab": {
      "provenance": []
    },
    "kernelspec": {
      "name": "python3",
      "display_name": "Python 3"
    },
    "language_info": {
      "name": "python"
    }
  },
  "cells": [
    {
      "cell_type": "markdown",
      "source": [
        "ФИО"
      ],
      "metadata": {
        "id": "8hJfL9b2l439"
      }
    },
    {
      "cell_type": "code",
      "source": [
        "Пластеева Ксения Евгеньевна"
      ],
      "metadata": {
        "id": "wRnqvYOkl6EX"
      },
      "execution_count": null,
      "outputs": []
    },
    {
      "cell_type": "markdown",
      "source": [
        "# Дисклеймер"
      ],
      "metadata": {
        "id": "weOtPwPQmgpD"
      }
    },
    {
      "cell_type": "markdown",
      "source": [
        "В данной практике вам необходимо применить все ваши знания по темам:\n",
        "\n",
        "- Функции\n",
        "- Словари\n",
        "- Списки\n",
        "- Множества\n",
        "- Условные конструкции\n",
        "- Запросы\n",
        "\n",
        "и все что было изучено на прошлых практических занятиях\n",
        "\n",
        "В каждом задании кратко описаны функции, которые необходимо реализовать, детали реализации вы должны продумать самостоятельно"
      ],
      "metadata": {
        "id": "LznB3uscmjDa"
      }
    },
    {
      "cell_type": "markdown",
      "source": [
        "# Задание 0"
      ],
      "metadata": {
        "id": "7nSJIqkTvC_C"
      }
    },
    {
      "cell_type": "markdown",
      "source": [
        "Создайте функцию по нахождению уникальных элементов из двух списков\n",
        "\n",
        "\n",
        "\n",
        "```\n",
        "a = [1, 2, 3, 4]\n",
        "b = [3, 4, 5, 6]\n",
        "```\n",
        "\n"
      ],
      "metadata": {
        "id": "exACjTiVvGUe"
      }
    },
    {
      "cell_type": "code",
      "source": [
        "a = [1, 2, 3, 4]\n",
        "b = [3, 4, 5, 6]\n",
        "\n",
        "def unique(first, second):\n",
        "  close = first + second\n",
        "  print(set(close))\n",
        "\n",
        "unique(a, b)"
      ],
      "metadata": {
        "colab": {
          "base_uri": "https://localhost:8080/"
        },
        "id": "Bb73NP-VvYU1",
        "outputId": "68858a6b-4d8e-499c-bdaf-f0aa404c1cad"
      },
      "execution_count": null,
      "outputs": [
        {
          "output_type": "stream",
          "name": "stdout",
          "text": [
            "{1, 2, 3, 4, 5, 6}\n"
          ]
        }
      ]
    },
    {
      "cell_type": "markdown",
      "source": [
        "# Задание 1"
      ],
      "metadata": {
        "id": "SVWNlBALpCNo"
      }
    },
    {
      "cell_type": "markdown",
      "source": [
        "Симулятор виртуального питомца\n",
        "\n",
        "Цель: создать виртуальный симулятор домашних животных, в котором пользователи смогут заводить питомцев и ухаживать за ними.\n",
        "\n",
        "Требования:\n",
        "\n",
        "- Функция для усыновления питомца (имя, тип, возраст).\n",
        "- Функция для того, чтобы покормить питомца, поиграть с ним или уложить его спать.\n",
        "- Функция для отображения состояния питомца (голод, радость, энергия)."
      ],
      "metadata": {
        "id": "RcKA-VEqpC7f"
      }
    },
    {
      "cell_type": "code",
      "source": [
        "from random import choice as ch\n",
        "from random import randint as rnd\n",
        "\n",
        "\n",
        "answer_1 = input('Хотите усыновить питомца? ')\n",
        "\n",
        "names = ['Мими', 'Нана', 'Сима', 'Бадди', 'Джейк']\n",
        "types = ['кролик', 'щенок', 'котёнок', 'хомяк', 'попугай']\n",
        "\n",
        "if answer_1 == 'да':\n",
        "  print('Отлично!')\n",
        "  name_of_pet = ch(names)\n",
        "  type_of_pet = ch(types)\n",
        "  age = rnd(1, 12)\n",
        "  if age == 1:\n",
        "    text = 'месяц'\n",
        "  elif age >= 2 and age <= 4:\n",
        "    text = 'месяца'\n",
        "  elif age >= 5:\n",
        "    text = 'месяцев'\n",
        "  print('Характеристики вашего питомца: имя -', name_of_pet, ', тип -', type_of_pet, ', возраст -', age, text)\n",
        "else:\n",
        "  print('До скорых встреч!')\n",
        "\n",
        "answer_2 = input('Вы готовы заботиться о питомце? ')\n",
        "\n",
        "if answer_2 == 'да':\n",
        "  option = input('Что хотите сделать с питомцем? (покормить, уложить спать, поиграть, отобразить состояние питомца, перестать заботиться) ')\n",
        "  fullness = 0\n",
        "  gladness = 0\n",
        "  energy = 0\n",
        "  while option != 'перестать заботиться':\n",
        "    if option == 'покормить':\n",
        "      print('Питомец сыт и счастлив, что у него есть такой хояин, как вы!')\n",
        "      print('+10 к сытости')\n",
        "      fullness = fullness + 10\n",
        "      gladness = gladness + 5\n",
        "      energy = energy - 10\n",
        "      option = input('Хотите сделать с питомцем что-то ещё? ')\n",
        "    elif option == 'уложить спать':\n",
        "      print('Питомец спит и мечтает о следующей встрече с вами!')\n",
        "      print('+10 к энергии')\n",
        "      fullness = fullness - 15\n",
        "      gladness = gladness + 5\n",
        "      energy = energy + 10\n",
        "      option = input('Хотите сделать с питомцем что-то ещё? ')\n",
        "    elif option == 'поиграть':\n",
        "      print('Ваш питомец никогда не забудет время, проведённое с вами!')\n",
        "      print('+10 к радости')\n",
        "      fullness = fullness - 5\n",
        "      gladness = gladness + 10\n",
        "      energy = energy - 10\n",
        "      option = input('Хотите сделать с питомцем что-то ещё? ')\n",
        "    elif option == 'отобразить состояние питомца':\n",
        "      print('Состояние: сытость', fullness, ', радость', gladness, ', энергия', energy)\n",
        "      option = input('Хотите сделать с питомцем что-то ещё? ')\n",
        "  print('Жаль, что уже уходите. Питомец будет ждать вашего возвращения!')\n",
        "else:\n",
        "  print('Питомец дождётся вашей готовности!')\n",
        "\n"
      ],
      "metadata": {
        "id": "hE7mF-HXpJLO",
        "colab": {
          "base_uri": "https://localhost:8080/"
        },
        "outputId": "f6611582-2a6d-4ec0-dcce-cff6942f9dba"
      },
      "execution_count": null,
      "outputs": [
        {
          "output_type": "stream",
          "name": "stdout",
          "text": [
            "Хотите усыновить питомца? да\n",
            "Отлично!\n",
            "Характеристики вашего питомца: имя - Бадди , тип - котёнок , возраст - 7 месяцев\n",
            "Вы готовы заботиться о питомце?да\n",
            "Что хотите сделать с питомцем? (покормить, уложить спать, поиграть, отобразить состояние питомца, перестать заботиться)поиграть\n",
            "Ваш питомец никогда не забудет время, проведённое с вами!\n",
            "+10 к радости\n",
            "Хотите сделать с питомцем что-то ещё?уложить спать\n",
            "Питомец спит и мечтает о следующей встрече с вами!\n",
            "+10 к энергии\n",
            "Хотите сделать с питомцем что-то ещё?покормить\n",
            "Питомец сыт и счастлив, что у него есть такой хояин, как вы!\n",
            "+10 к сытости\n",
            "Хотите сделать с питомцем что-то ещё?отобразить состояние питомца\n",
            "Состояние: сытость -10 , радость 20 , энергия -10\n",
            "Хотите сделать с питомцем что-то ещё?перестать заботиться\n",
            "Жаль, что уже уходите. Питомец ждёт вашего возвращения!\n"
          ]
        }
      ]
    },
    {
      "cell_type": "markdown",
      "source": [
        "# Задание 2"
      ],
      "metadata": {
        "id": "qZ7qFQnmssNd"
      }
    },
    {
      "cell_type": "markdown",
      "source": [
        "Рыцарь и дракон\n",
        "\n",
        "Цель: создать небольшую игру, в которой вам необходимо играть за рыцаря и сразиться с драконом\n",
        "\n",
        "Требования:\n",
        "\n",
        "- Создание персонажа (имя, информация о доспехах, оружии, урон, здоровье)\n",
        "- Управление персонажем и мини сюжет\n",
        "- Создание дракона (Имя, информация о здоровье и уроне)\n",
        "- Боевая система (нанесение и получение урона, урон должен быть случайным в заданном диапазоне)\n",
        "- Реализовать бой между драконом и рыцарем"
      ],
      "metadata": {
        "id": "UaccTe7ltNvg"
      }
    },
    {
      "cell_type": "code",
      "source": [
        "\n",
        "from random import randint as rnd\n",
        "\n",
        "\n",
        "def fight(d_name, d_health, d_damage, p_health, p_damage):\n",
        "  print('Вы замечаете дракона по имени', d_name)\n",
        "  print('Его характеристики: здоровье', d_health, ', максимальный урон', d_damage)\n",
        "  print('Вам предстоит сразиться с ним. Битва начинается!')\n",
        "  print()\n",
        "  while p_health > 0 and d_health > 0:\n",
        "    print('Ваша очередь бить')\n",
        "    tap = input('Нажмите любую клавишу, если готовы ')\n",
        "    delta_1 = rnd(10, p_damage)\n",
        "    d_health = d_health - delta_1\n",
        "    print('Вам удалось нанести дракону урон! Теперь его здоровье равно', d_health)\n",
        "    print('Теперь бьёт дракон')\n",
        "    delta_2 = rnd(10, d_damage)\n",
        "    p_health = p_health - delta_2\n",
        "    print('Своим ударом дракон понижает ваше здоровье до', p_health)\n",
        "    print()\n",
        "  if d_health <= 0:\n",
        "    print('Поздравляем! Дракон побеждён')\n",
        "  elif p_health <= 0:\n",
        "    print('Вам не удалось победить дракона. Возможно, получится в следующий раз)')\n",
        "\n",
        "\n",
        "print('Добро пожаловать в игру Рыцарь и Дракон!')\n",
        "\n",
        "name_player = input('Введите имя персонажа: ')\n",
        "armor = int(input('Выберите доспехи (1 - цельные, 2 - подвижно-составные): '))\n",
        "weapon = int(input('Выберите оружие (1 - холодное, 2 - огнестрельное): '))\n",
        "\n",
        "health_p = 0\n",
        "damage_p = 0\n",
        "\n",
        "if armor == 1 and weapon == 1:\n",
        "  health_p = 125\n",
        "  damage_p = 15\n",
        "elif armor == 2 and weapon == 1:\n",
        "  health_p = 75\n",
        "  damage_p = 25\n",
        "elif armor == 1 and weapon == 2:\n",
        "  health_p = 125\n",
        "  damage_p = 25\n",
        "elif armor == 2 and weapon == 2:\n",
        "  health_p = 125\n",
        "  damage_p = 35\n",
        "\n",
        "print('Урон персонажа:', damage_p, ', здоровье: ', health_p)\n",
        "\n",
        "print()\n",
        "print('Вы - персонаж по имени', name_player, '- движетесь по тёмному лесу.')\n",
        "print('Неожиданно тропинка разделяется.')\n",
        "way = input('Стоит повернуть налево или направо? ')\n",
        "print()\n",
        "\n",
        "if way == 'налево':\n",
        "  print('Вы решаете свернуть налево.')\n",
        "  print('После долгих скитайний по темноте Вы находите водоём. В котором ...')\n",
        "  name_dragon = 'Левиафан'\n",
        "  health_d = 100\n",
        "  damage_d = 25\n",
        "  fight(name_dragon, health_d, damage_d, health_p, damage_p)\n",
        "elif way == 'направо':\n",
        "  print('Вы решаете свернуть направо.')\n",
        "  print('Преодолев болото, Вы продолжаете свой путь.')\n",
        "  print('Как вдруг проваливаетесь в пещеру, в которой ...')\n",
        "  name_dragon = 'Нидхёгг'\n",
        "  health_d = 125\n",
        "  damage_d = 30\n",
        "  fight(name_dragon, health_d, damage_d, health_p, damage_p)\n",
        "\n"
      ],
      "metadata": {
        "id": "LCcxp5Q0srjY",
        "colab": {
          "base_uri": "https://localhost:8080/"
        },
        "outputId": "552156a9-3076-43b0-9daa-443b8fffe9d5"
      },
      "execution_count": null,
      "outputs": [
        {
          "output_type": "stream",
          "name": "stdout",
          "text": [
            "Добро пожаловать в игру Рыцарь и Дракон!\n",
            "Введите имя персонажа: ог\n",
            "Выберите доспехи (1 - цельные, 2 - подвижно-составные): 1\n",
            "Выберите оружие (1 - холодное, 2 - огнестрельное): 1\n",
            "Урон персонажа: 15 , здоровье:  125\n",
            "\n",
            "Вы - персонаж по имени ог - движетесь по тёмному лесу.\n",
            "Неожиданно тропинка разделяется.\n",
            "Стоит повернуть налево или направо? налево\n",
            "\n",
            "Вы решаете свернуть налево.\n",
            "После долгих скитайний по темноте Вы находите водоём. В котором ...\n",
            "Вы замечаете дракона по имени Левиафан\n",
            "Его характеристики: здоровье 100 , максимальный урон 25\n",
            "Вам предстоит сразиться с ним. Битва начинается!\n",
            "\n",
            "Ваша очередь бить\n",
            "Нажмите любую клавишу, если готовы д\n",
            "Вам удалось нанести дракону урон! Теперь его здоровье равно 90\n",
            "Теперь бьёт дракон\n",
            "Своим ударом дракон понижает ваше здоровье до 115\n",
            "\n",
            "Ваша очередь бить\n",
            "Нажмите любую клавишу, если готовы р\n",
            "Вам удалось нанести дракону урон! Теперь его здоровье равно 80\n",
            "Теперь бьёт дракон\n",
            "Своим ударом дракон понижает ваше здоровье до 95\n",
            "\n",
            "Ваша очередь бить\n",
            "Нажмите любую клавишу, если готовы д\n",
            "Вам удалось нанести дракону урон! Теперь его здоровье равно 69\n",
            "Теперь бьёт дракон\n",
            "Своим ударом дракон понижает ваше здоровье до 70\n",
            "\n",
            "Ваша очередь бить\n",
            "Нажмите любую клавишу, если готовы ж\n",
            "Вам удалось нанести дракону урон! Теперь его здоровье равно 54\n",
            "Теперь бьёт дракон\n",
            "Своим ударом дракон понижает ваше здоровье до 60\n",
            "\n",
            "Ваша очередь бить\n",
            "Нажмите любую клавишу, если готовы з\n",
            "Вам удалось нанести дракону урон! Теперь его здоровье равно 41\n",
            "Теперь бьёт дракон\n",
            "Своим ударом дракон понижает ваше здоровье до 46\n",
            "\n",
            "Ваша очередь бить\n",
            "Нажмите любую клавишу, если готовы з\n",
            "Вам удалось нанести дракону урон! Теперь его здоровье равно 28\n",
            "Теперь бьёт дракон\n",
            "Своим ударом дракон понижает ваше здоровье до 35\n",
            "\n",
            "Ваша очередь бить\n",
            "Нажмите любую клавишу, если готовы д\n",
            "Вам удалось нанести дракону урон! Теперь его здоровье равно 17\n",
            "Теперь бьёт дракон\n",
            "Своим ударом дракон понижает ваше здоровье до 21\n",
            "\n",
            "Ваша очередь бить\n",
            "Нажмите любую клавишу, если готовы з\n",
            "Вам удалось нанести дракону урон! Теперь его здоровье равно 5\n",
            "Теперь бьёт дракон\n",
            "Своим ударом дракон понижает ваше здоровье до 11\n",
            "\n",
            "Ваша очередь бить\n",
            "Нажмите любую клавишу, если готовы з\n",
            "Вам удалось нанести дракону урон! Теперь его здоровье равно -10\n",
            "Теперь бьёт дракон\n",
            "Своим ударом дракон понижает ваше здоровье до -6\n",
            "\n",
            "Поздравляем! Дракон побеждён\n"
          ]
        }
      ]
    },
    {
      "cell_type": "markdown",
      "source": [
        "# Задание 3\n"
      ],
      "metadata": {
        "id": "N8oFiEXol3e2"
      }
    },
    {
      "cell_type": "markdown",
      "source": [
        "Цель - создать менеджера команды Pokémon, который позволит пользователям:\n",
        "\n",
        "- Добавлять покемонов в свою команду. (если такого покемона еще нет в команде)\n",
        "- Удалять покемонов из их команды.\n",
        "- Просматривать подробную информацию обо всех покемонах в команде.\n",
        "- Находить покемона по имени.\n",
        "- Устраивать тренировочный бой между двумя покемонами\n",
        "\n",
        "Для данной задачи используйте: https://pokeapi.co/\n"
      ],
      "metadata": {
        "id": "9p4WQG_Vl7wB"
      }
    },
    {
      "cell_type": "code",
      "source": [
        "pip install requests"
      ],
      "metadata": {
        "colab": {
          "base_uri": "https://localhost:8080/"
        },
        "id": "_9AbEFM2HfyF",
        "outputId": "633e45ab-e1e3-402c-d5f7-53fe61f8a15e"
      },
      "execution_count": null,
      "outputs": [
        {
          "output_type": "stream",
          "name": "stdout",
          "text": [
            "Requirement already satisfied: requests in /usr/local/lib/python3.10/dist-packages (2.32.3)\n",
            "Requirement already satisfied: charset-normalizer<4,>=2 in /usr/local/lib/python3.10/dist-packages (from requests) (3.4.0)\n",
            "Requirement already satisfied: idna<4,>=2.5 in /usr/local/lib/python3.10/dist-packages (from requests) (3.10)\n",
            "Requirement already satisfied: urllib3<3,>=1.21.1 in /usr/local/lib/python3.10/dist-packages (from requests) (2.2.3)\n",
            "Requirement already satisfied: certifi>=2017.4.17 in /usr/local/lib/python3.10/dist-packages (from requests) (2024.8.30)\n"
          ]
        }
      ]
    },
    {
      "cell_type": "code",
      "source": [
        "import requests\n",
        "import random\n",
        "\n",
        "\n",
        "def pokemon_data(pokemon_name):\n",
        "  url = f'https://pokeapi.co/api/v2/pokemon/{pokemon_name}'\n",
        "  response = requests.get(url)\n",
        "  if response.status_code == 200:\n",
        "    return response.json()\n",
        "  else:\n",
        "    print(f'Ошибка!')\n",
        "    return None\n",
        "\n",
        "\n",
        "def add_pokemon_to_team(team, pokemon_name):\n",
        "  if pokemon_name in team:\n",
        "    print(f'Покемон {pokemon_name} уже есть в команде.')\n",
        "    return None\n",
        "  poremon_data = pokemon_data(pokemon_name)\n",
        "  if pokemon_data:\n",
        "    team[pokemon_name] = pokemon_data\n",
        "    print(f'Покемон {pokemon_name} добавлен в команду.')\n",
        "  else:\n",
        "    print(f'Не удалось добавить покемона {pokemon_name} в команду.')\n",
        "  return team\n",
        "\n",
        "\n",
        "def remove_pokemon_from_team(team, pokemon_name):\n",
        "  if pokemon_name in team:\n",
        "    del team[pokemon_name]\n",
        "    print(f'Покемон {pokemon_name} удален из команды.')\n",
        "  else:\n",
        "    print(f'Покемон {pokemon_name} не найден в команде.')\n",
        "  return team\n",
        "\n",
        "\n",
        "def view_team_details(team):\n",
        "  print(f'Информация о покемонах в команде:')\n",
        "  for pokemon_name, pokemon_data in team.items():\n",
        "    print(f'{pokemon_name}:')\n",
        "    if 'id' in pokemon_data:\n",
        "      pokemon_id = pokemon_data['id']\n",
        "    else:\n",
        "      pokemon_id = 'Неизвестно'\n",
        "    print(f'ID: {pokemon_id}')\n",
        "    types = pokemon_data['types']\n",
        "    type_names = []\n",
        "    for t in types:\n",
        "      type_names.append(t)\n",
        "    type_string = ', '.join(type_names)\n",
        "    print(f'Типы: {type_string}')\n",
        "    if 'weight' in pokemon_data:\n",
        "      weight = pokemon_data['weight']\n",
        "    else:\n",
        "      weight = 'Неизвестно'\n",
        "    print(f'Вес: {weight}')\n",
        "    if 'height' in pokemon_data:\n",
        "      height = pokemon_data['height']\n",
        "    else:\n",
        "      height = 'Неизвестно'\n",
        "    print(f'Рост: {height}')\n",
        "\n",
        "\n",
        "def find_pokemon(team, pokemon_name):\n",
        "  try:\n",
        "    pokemon_data = team[pokemon_name]\n",
        "    if pokemon_data:\n",
        "      print(f'Информация о покемоне {pokemon_name}:')\n",
        "      if 'id' in pokemon_data:\n",
        "        id = pokemon_data['id']\n",
        "      else:\n",
        "        id = 'Неизвестно'\n",
        "      print(f'ID: {id}')\n",
        "      types_name = []\n",
        "      types = pokemon_data['types']\n",
        "      for t in types:\n",
        "        types_name.append(t)\n",
        "      types_string = ', '.join(types_name)\n",
        "      print(f'Типы: {types_string}')\n",
        "      if 'weight' in pokemon_data:\n",
        "        weight = pokemon_data['weight']\n",
        "      else:\n",
        "        weight = 'Неизвестно'\n",
        "      print(f'Вес: {weight}')\n",
        "      if 'height' in pokemon_data:\n",
        "        height = pokemon_data['height']\n",
        "      else:\n",
        "        height = 'Неизвестно'\n",
        "      print(f'Рост: {height}')\n",
        "  except:\n",
        "    print(f'Покемон {pokemon_name} не в команде.')\n",
        "\n",
        "\n",
        "def training_battle(team, pokemon1_name, pokemon2_name):\n",
        "  pokemon1 = team.get(pokemon1_name)\n",
        "  pokemon2 = team.get(pokemon2_name)\n",
        "  if pokemon1 and pokemon2:\n",
        "    print(f'Тренировочный бой: {pokemon1_name} и {pokemon2_name}')\n",
        "    pokemon1_stats = {}\n",
        "    for stat in pokemon1.get('stats', []):\n",
        "      pokemon1_stats[stat['stat']['name']] = stat['base_stat']\n",
        "    pokemon2_stats = {}\n",
        "    for stat in pokemon2.get('stats', []):\n",
        "      pokemon2_stats[stat['stat']['name']] = stat['base_stat']\n",
        "    pokemon1_hp = pokemon1_stats['hp']\n",
        "    print(f'HP {pokemon1_name}: {pokemon1_hp}')\n",
        "    pokemon2_hp = pokemon2_stats['hp']\n",
        "    print(f'HP {pokemon2_name}: {pokemon2_hp}')\n",
        "    while pokemon1_hp > 0 and pokemon2_hp > 0:\n",
        "      damage1 = random.randint(0, 10)\n",
        "      damage2 = random.randint(0, 10)\n",
        "      pokemon1_hp -= damage2\n",
        "      pokemon2_hp -= damage1\n",
        "    if pokemon1_hp <= 0:\n",
        "      print(f'{pokemon2_name} одержал победу в тренировочном бою!')\n",
        "    elif pokemon2_hp <= 0:\n",
        "      print(f'{pokemon1_name} одержал победу в тренировочном бою!')\n",
        "    else:\n",
        "      print(f'Ничья')\n",
        "  elif not pokemon1:\n",
        "    print(f\"Покемон '{pokemon1_name}' не найден в команде.\")\n",
        "  elif not pokemon2:\n",
        "    print(f\"Покемон '{pokemon2_name}' не найден в команде.\")\n",
        "\n",
        "\n",
        "\n",
        "team = {}\n",
        "\n",
        "\n",
        "print(f'Доступные опции: 1. Добавление покемона в команду, 2. Удаление покемона из команды, 3. Просмотр информации о команде, 4. Поиск покемона в команде, 5. Тренировочный бой, 6. Выход.')\n",
        "option = int(input('Выберите опцию: '))\n",
        "\n",
        "while option != 6:\n",
        "  if option == 1:\n",
        "    pokemon_name = input('Введите имя покемона: ')\n",
        "    add_pokemon_to_team(team, pokemon_name)\n",
        "  elif option == 2:\n",
        "    pokemon_name = input('Введите имя покемона: ')\n",
        "    remove_pokemon_from_team(team, pokemon_name)\n",
        "  elif option == 3:\n",
        "    view_team_details(team)\n",
        "  elif option == 4:\n",
        "    pokemon_name = input('Введите имя покемона: ')\n",
        "    find_pokemon(team, pokemon_name)\n",
        "  elif option == 5:\n",
        "    pokemon1_name = input('Введите имя первого покемона: ')\n",
        "    pokemon2_name = input('Введите имя второго покемона: ')\n",
        "    training_battle(team, pokemon1_name, pokemon2_name)\n",
        "  option = int(input('Выберите опцию: '))\n",
        "\n",
        "print(f'До скорых встреч!')\n",
        "\n"
      ],
      "metadata": {
        "id": "NnGYp1MTqi5k",
        "colab": {
          "base_uri": "https://localhost:8080/"
        },
        "outputId": "ebe18142-757e-4146-c948-41480d6d4608"
      },
      "execution_count": null,
      "outputs": [
        {
          "output_type": "stream",
          "name": "stdout",
          "text": [
            "Доступные опции: 1. Добавление покемона в команду, 2. Удаление покемона из команды, 3. Просмотр информации о команде, 4. Поиск покемона в команде, 5. Тренировочный бой, 6. Выход.\n",
            "Выберите опцию: 1\n",
            "Введите имя покемона: pikachu\n",
            "Покемон pikachu добавлен в команду.\n",
            "Выберите опцию: 2\n",
            "Введите имя покемона: pikachu\n",
            "Покемон pikachu удален из команды.\n",
            "Выберите опцию: 4\n",
            "Введите имя покемона: pikachu\n",
            "Покемон pikachu не в команде.\n",
            "Выберите опцию: 6\n",
            "До скорых встреч!\n"
          ]
        }
      ]
    }
  ]
}
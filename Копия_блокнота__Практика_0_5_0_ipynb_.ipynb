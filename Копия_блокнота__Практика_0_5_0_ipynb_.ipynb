{
  "nbformat": 4,
  "nbformat_minor": 0,
  "metadata": {
    "colab": {
      "provenance": []
    },
    "kernelspec": {
      "name": "python3",
      "display_name": "Python 3"
    },
    "language_info": {
      "name": "python"
    }
  },
  "cells": [
    {
      "cell_type": "markdown",
      "source": [
        "ФИО:"
      ],
      "metadata": {
        "id": "Bu5gIJfHNPHw"
      }
    },
    {
      "cell_type": "code",
      "execution_count": null,
      "metadata": {
        "id": "CbHI8c7cM9Eg"
      },
      "outputs": [],
      "source": [
        "Пластеева Ксения Евгеньевна"
      ]
    },
    {
      "cell_type": "markdown",
      "source": [
        "# **Задание 1**"
      ],
      "metadata": {
        "id": "VrNrBpmocGRd"
      }
    },
    {
      "cell_type": "markdown",
      "source": [
        "\n",
        "\n",
        "Дан словарь, содержащий имена и возраст людей, напишите программу выводящую возраст человека по имени\n",
        "\n",
        "Дано:\n",
        "\n",
        "```\n",
        "{\"Alice\": 25, \"Bob\": 30, \"Charlie\": 35}\n",
        "```\n",
        "\n",
        "Вввод:\n",
        "\n",
        "\n",
        "```\n",
        "Alice\n",
        "```\n",
        "\n",
        "Вывод:\n",
        "\n",
        "\n",
        "```\n",
        "Alice 25\n",
        "```\n"
      ],
      "metadata": {
        "id": "XhV1bnm1bR2h"
      }
    },
    {
      "cell_type": "code",
      "source": [
        "data = {\"Alice\": 25, \"Bob\": 30, \"Charlie\": 35}\n",
        "name = input('Введите имя: ')\n",
        "print(name, data[name])"
      ],
      "metadata": {
        "id": "PElJj6DvsgjD",
        "colab": {
          "base_uri": "https://localhost:8080/"
        },
        "outputId": "2e83e2a8-6ade-491a-8b65-ad03d80d1ca3"
      },
      "execution_count": null,
      "outputs": [
        {
          "output_type": "stream",
          "name": "stdout",
          "text": [
            "Введите имя: Alice\n",
            "Alice 25\n"
          ]
        }
      ]
    },
    {
      "cell_type": "markdown",
      "source": [
        "# **Задание 2**\n"
      ],
      "metadata": {
        "id": "lpjJz-_YcJ-t"
      }
    },
    {
      "cell_type": "markdown",
      "source": [
        "\n",
        "\n",
        "Дан список, состоящий из целых чисел, необходимо написать функцию считающую сумму всех положительных четных чисел списка\n",
        "\n",
        "Ввод:\n",
        "\n",
        "```\n",
        "1, 2, 3, 4, 5, 6, 7, 8, 9\n",
        "```\n",
        "\n",
        "Вывод:\n",
        "\n",
        "\n",
        "```\n",
        "20\n",
        "```\n",
        "\n",
        "***Запрещено:***\n",
        "\n",
        "*   Использование готовых функций для суммирования чисел\n"
      ],
      "metadata": {
        "id": "tMEsAB4rUiWW"
      }
    },
    {
      "cell_type": "code",
      "source": [
        "def sum_integer_and_positive_numbers(lisst):\n",
        "  result = 0\n",
        "  for number in lisst:\n",
        "    if number%2==0 and number > 0:\n",
        "      result += number\n",
        "  return result\n",
        "\n",
        "\n",
        "numbers = [1, 2, 3, 4, 5, 6, 7, 8, 9]\n",
        "print(sum_integer_and_positive_numbers(numbers))"
      ],
      "metadata": {
        "id": "wDNUFLeqNQS_",
        "colab": {
          "base_uri": "https://localhost:8080/"
        },
        "outputId": "edf7f90d-e9e4-4d3d-b45b-5c8996767d49"
      },
      "execution_count": null,
      "outputs": [
        {
          "output_type": "stream",
          "name": "stdout",
          "text": [
            "20\n"
          ]
        }
      ]
    },
    {
      "cell_type": "markdown",
      "source": [
        "# **Задание 3**"
      ],
      "metadata": {
        "id": "WT_v-vz1dUZJ"
      }
    },
    {
      "cell_type": "markdown",
      "source": [
        "Дан словарь, содержащий название фрукта и его цвет, выведите список всех желтых фруктов\n",
        "\n",
        "\n",
        "Дано:\n",
        "\n",
        "```\n",
        "fruits_and_colors = {\n",
        "    \"apple\": \"red\",\n",
        "    \"banana\": \"yellow\",\n",
        "    \"mango\": \"yellow\",\n",
        "    \"orange\": \"orange\",\n",
        "    \"lemon\": \"yellow\",\n",
        "    \"grape\": \"purple\"\n",
        "}\n",
        "```\n",
        "\n",
        "Вывод:\n",
        "\n",
        "\n",
        "```\n",
        "Yellow fruits:\n",
        "banana\n",
        "lemon\n",
        "mango\n",
        "```\n",
        "\n"
      ],
      "metadata": {
        "id": "ZI5Xeh2DdXgF"
      }
    },
    {
      "cell_type": "code",
      "source": [
        "fruits_and_colors = {\n",
        "    \"apple\": \"red\",\n",
        "    \"banana\": \"yellow\",\n",
        "    \"mango\": \"yellow\",\n",
        "    \"orange\": \"orange\",\n",
        "    \"lemon\": \"yellow\",\n",
        "    \"grape\": \"purple\"\n",
        "}\n",
        "\n",
        "yellow_fruits =[]\n",
        "\n",
        "for key, value in fruits_and_colors.items():\n",
        "  if value == \"yellow\":\n",
        "    yellow_fruits.append(key)\n",
        "\n",
        "print('Yellow fruits:')\n",
        "print(yellow_fruits[0])\n",
        "print(yellow_fruits[1])\n",
        "print(yellow_fruits[2])"
      ],
      "metadata": {
        "id": "aNzFTkhKdkTG",
        "colab": {
          "base_uri": "https://localhost:8080/"
        },
        "outputId": "7f0860c2-a942-40d5-b21c-490311e3a11b"
      },
      "execution_count": null,
      "outputs": [
        {
          "output_type": "stream",
          "name": "stdout",
          "text": [
            "Yellow fruits:\n",
            "banana\n",
            "mango\n",
            "lemon\n"
          ]
        }
      ]
    },
    {
      "cell_type": "markdown",
      "source": [
        "# **Задание 4**\n"
      ],
      "metadata": {
        "id": "iHtMGt2icM7w"
      }
    },
    {
      "cell_type": "markdown",
      "source": [
        "\n",
        "\n",
        "Дан словарь, необходимо написать функцию меняющую ключ и значение местами\n",
        "\n",
        "Дано:\n",
        "\n",
        "\n",
        "```\n",
        "{\"a\": 1, \"b\": 2, \"c\": 3}\n",
        "```\n",
        "\n",
        "Вывод:\n",
        "\n",
        "```\n",
        "{1: 'a', 2: 'b', 3: 'c'}\n",
        "```\n",
        "\n"
      ],
      "metadata": {
        "id": "rS3THsnBQ_EB"
      }
    },
    {
      "cell_type": "code",
      "source": [
        "old_dict = {\"a\": 1, \"b\": 2, \"c\": 3}\n",
        "\n",
        "new_keys = []\n",
        "new_values = []\n",
        "new_dict = {}\n",
        "\n",
        "for key, value in old_dict.items():\n",
        "  new_keys.append(value)\n",
        "  new_values.append(key)\n",
        "\n",
        "new_dict = dict(zip(new_keys, new_values))\n",
        "print(new_dict)"
      ],
      "metadata": {
        "id": "MNRusyLDcQ59",
        "colab": {
          "base_uri": "https://localhost:8080/"
        },
        "outputId": "3fbbce4c-7775-458d-968f-57765cbbf6db"
      },
      "execution_count": null,
      "outputs": [
        {
          "output_type": "stream",
          "name": "stdout",
          "text": [
            "{1: 'a', 2: 'b', 3: 'c'}\n"
          ]
        }
      ]
    },
    {
      "cell_type": "markdown",
      "source": [
        "# **Задание 5**"
      ],
      "metadata": {
        "id": "x6ff5nd0cUxD"
      }
    },
    {
      "cell_type": "markdown",
      "source": [
        "Дан список слов, неограниченной длинны, сформируйте словарь, где в качестве ключа будет слово, а в качестве значения количество слов\n",
        "\n",
        "**Критерии**\n",
        "\n",
        "\n",
        "*   Словарь необходимо отсортировать по убыванию количества элементов в списке.\n",
        "*   Подсчет элементов должен быть реализован в отдельной функции\n",
        "*   Сортировка пары `ключ:значение` должна быть реализована также в виде отдельной функции\n",
        "\n",
        "\n",
        "\n",
        "\n",
        "Дано:\n",
        "```\n",
        "['apple','banana','orange','apple','apple','banana']\n",
        "```\n",
        "\n",
        "\n",
        "Вывод:\n",
        "```\n",
        "{'apple':3, 'banana': 2, 'orange': 1}\n",
        "```\n",
        "\n",
        "***Запрещено:***\n",
        "\n",
        "*   Использование готовых функций для сортировки\n",
        "*   Использование готовых функций для подсчета элементов\n",
        "\n"
      ],
      "metadata": {
        "id": "ypQNHOG4NQz3"
      }
    },
    {
      "cell_type": "code",
      "source": [
        "words = ['apple', 'banana', 'orange', 'apple', 'apple', 'banana']\n",
        "\n",
        "def count_words(lisst):\n",
        "  count_words = {}\n",
        "  for word in lisst:\n",
        "    if word in count_words:\n",
        "      count_words[word] += 1\n",
        "    else:\n",
        "      count_words[word] = 1\n",
        "  return count_words\n",
        "\n",
        "\n",
        "def sorting_words(dictt):\n",
        "  items = list(dictt.items())\n",
        "  amount = len(items)\n",
        "  for i in range(1, amount):\n",
        "    key_value = items[i]\n",
        "    k = i - 1\n",
        "    while k >= 0 and key_value[1] > items[k][1]:\n",
        "      items[k + 1] = items[k]\n",
        "      k -= 1\n",
        "    items[k + 1] = key_value\n",
        "  return dict(items)\n",
        "\n",
        "\n",
        "words_count = count_words(words)\n",
        "\n",
        "sorted_words_count = sorting_words(words_count)\n",
        "\n",
        "print(sorted_words_count)\n",
        "\n"
      ],
      "metadata": {
        "id": "J10PjdVQUbyq",
        "colab": {
          "base_uri": "https://localhost:8080/"
        },
        "outputId": "27348ea5-ce65-4b07-9bc7-7a37c92302c2"
      },
      "execution_count": null,
      "outputs": [
        {
          "output_type": "stream",
          "name": "stdout",
          "text": [
            "{'apple': 3, 'banana': 2, 'orange': 1}\n"
          ]
        }
      ]
    },
    {
      "cell_type": "markdown",
      "source": [
        "# **Задание 6**"
      ],
      "metadata": {
        "id": "d7fDUr2WcY_G"
      }
    },
    {
      "cell_type": "markdown",
      "source": [
        "Дан словарь, содержащий информацию о людях, необходимо:\n",
        "\n",
        "\n",
        "\n",
        "*   Вывести всех людей старше 30 лет\n",
        "*   Вывести список городов и количество людей из словаря проживающих в них\n",
        "*   Вывести список профессий и список людей для каждой профессии\n",
        "\n",
        "**Критерии**\n",
        "\n",
        "Каждый из пунктов необходимо реализовать в виде функции\n",
        "\n"
      ],
      "metadata": {
        "id": "m11qdVhSWBi7"
      }
    },
    {
      "cell_type": "code",
      "source": [
        "people_info = {\n",
        "    \"Alice\": {\"age\": 25, \"city\": \"New York\", \"occupation\": \"Engineer\"},\n",
        "    \"Bob\": {\"age\": 30, \"city\": \"Los Angeles\", \"occupation\": \"Designer\"},\n",
        "    \"Charlie\": {\"age\": 35, \"city\": \"Chicago\", \"occupation\": \"Teacher\"},\n",
        "    \"Diana\": {\"age\": 28, \"city\": \"Miami\", \"occupation\": \"Doctor\"},\n",
        "    \"Ethan\": {\"age\": 40, \"city\": \"Seattle\", \"occupation\": \"Chef\"},\n",
        "    \"Frank\": {\"age\": 32, \"city\": \"Atlanta\", \"occupation\": \"Lawyer\"},\n",
        "    \"Gabriella\": {\"age\": 29, \"city\": \"San Francisco\", \"occupation\": \"Software Engineer\"},\n",
        "    \"Harrison\": {\"age\": 38, \"city\": \"Denver\", \"occupation\": \"Architect\"},\n",
        "    \"Isabella\": {\"age\": 26, \"city\": \"Washington D.C.\", \"occupation\": \"Journalist\"},\n",
        "    \"Julian\": {\"age\": 42, \"city\": \"Miami\", \"occupation\": \"Musician\"},\n",
        "    \"Kate\": {\"age\": 31, \"city\": \"Philadelphia\", \"occupation\": \"Nurse\"},\n",
        "    \"Lucas\": {\"age\": 36, \"city\": \"Nashville\", \"occupation\": \"Businessman\"},\n",
        "    \"Mia\": {\"age\": 27, \"city\": \"Atlanta\", \"occupation\": \"Artist\"},\n",
        "    \"Natalie\": {\"age\": 39, \"city\": \"Portland\", \"occupation\": \"Writer\"},\n",
        "    \"Oliver\": {\"age\": 44, \"city\": \"Minneapolis\", \"occupation\": \"Professor\"},\n",
        "    \"Penelope\": {\"age\": 33, \"city\": \"San Diego\", \"occupation\": \"Marketing Manager\"},\n",
        "    \"Quincy\": {\"age\": 41, \"city\": \"Nashville\", \"occupation\": \"Singer\"},\n",
        "    \"Rachel\": {\"age\": 34, \"city\": \"Cleveland\", \"occupation\": \"Teacher\"},\n",
        "    \"Sophia\": {\"age\": 29, \"city\": \"Nashville\", \"occupation\": \"Engineer\"},\n",
        "    \"Tessa\": {\"age\": 37, \"city\": \"Miami\", \"occupation\": \"Lawyer\"}\n",
        "}\n",
        "\n",
        "\n",
        "def age_more_30(dictt):\n",
        "  result = []\n",
        "  for name, info in dictt.items():\n",
        "    if info['age'] > 30:\n",
        "      result.append(name)\n",
        "  return result\n",
        "\n",
        "\n",
        "def cities_counter(dictt):\n",
        "  result = {}\n",
        "  for name, info in dictt.items():\n",
        "    city = info['city']\n",
        "    if city in result:\n",
        "      result[city] += 1\n",
        "    else:\n",
        "      result[city] = 1\n",
        "  return result\n",
        "\n",
        "\n",
        "def jobs_counter(dictt):\n",
        "  jobs = {}\n",
        "  for name, info in dictt.items():\n",
        "    job = info['occupation']\n",
        "    if job in jobs:\n",
        "      jobs[job].append(name)\n",
        "    else:\n",
        "      jobs[job] = [name]\n",
        "  return jobs\n",
        "\n",
        "\n",
        "print(age_more_30(people_info))\n",
        "print(cities_counter(people_info))\n",
        "print(jobs_counter(people_info))"
      ],
      "metadata": {
        "id": "lSNtB39OWtFl",
        "colab": {
          "base_uri": "https://localhost:8080/"
        },
        "outputId": "6846a6dd-0d87-4179-91e3-ae8da22c0821"
      },
      "execution_count": null,
      "outputs": [
        {
          "output_type": "stream",
          "name": "stdout",
          "text": [
            "['Charlie', 'Ethan', 'Frank', 'Harrison', 'Julian', 'Kate', 'Lucas', 'Natalie', 'Oliver', 'Penelope', 'Quincy', 'Rachel', 'Tessa']\n",
            "{'New York': 1, 'Los Angeles': 1, 'Chicago': 1, 'Miami': 3, 'Seattle': 1, 'Atlanta': 2, 'San Francisco': 1, 'Denver': 1, 'Washington D.C.': 1, 'Philadelphia': 1, 'Nashville': 3, 'Portland': 1, 'Minneapolis': 1, 'San Diego': 1, 'Cleveland': 1}\n",
            "{'Engineer': ['Alice', 'Sophia'], 'Designer': ['Bob'], 'Teacher': ['Charlie', 'Rachel'], 'Doctor': ['Diana'], 'Chef': ['Ethan'], 'Lawyer': ['Frank', 'Tessa'], 'Software Engineer': ['Gabriella'], 'Architect': ['Harrison'], 'Journalist': ['Isabella'], 'Musician': ['Julian'], 'Nurse': ['Kate'], 'Businessman': ['Lucas'], 'Artist': ['Mia'], 'Writer': ['Natalie'], 'Professor': ['Oliver'], 'Marketing Manager': ['Penelope'], 'Singer': ['Quincy']}\n"
          ]
        }
      ]
    },
    {
      "cell_type": "markdown",
      "source": [
        "# **Задание 7**"
      ],
      "metadata": {
        "id": "27IuB2YScezw"
      }
    },
    {
      "cell_type": "markdown",
      "source": [
        "Задание: Разработка системы отзывов о предметах\n",
        "\n",
        "Описание: Создать программу на Python для хранения и управления отзывами о предметах учебного курса. Программа должна позволять пользователям добавлять, просматривать и удалять отзывы, а также вычислять средний балл по заданному предмету.\n",
        "\n",
        "**Функционал:**\n",
        "\n",
        "*   Добавление отзыва и оценки:\n",
        "   *   Пользователь может ввести название предмета, оценку (от 1 до 5) и текст отзыва.\n",
        "   *   Отзывы должны храниться в структуре данных (например, словаре), где ключом будет название предмета, а значением - список отзывов (каждый отзыв может хранить оценку и комментарий).\n",
        "*   Просмотр отзывов и оценок:\n",
        "   *   Пользователь может запросить отзывы для указанного предмета.\n",
        "   *   Если для указанного предмета есть отзывы, программа должна отобразить список всех отзывов и соответствующих оценок.\n",
        "*   Удаление отзыва:\n",
        "   *   Пользователь может удалить отзыв по индексу. Необходимо заранее уведомить пользователя о том, какие отзывы доступны для удаления.\n",
        "   *   Программа должна обработать ситуацию, когда индекс введен неправильно.\n",
        "*   Вычисление среднего балла по предмету:\n",
        "   *   Пользователь может ввести название предмета, и программа должна вычислить и вывести средний балл по всем отзывам для этого предмета.\n",
        "   *   Если отзывов нет, программа должна сообщить об этом.\n",
        "\n",
        "\n",
        "**Критерии:**\n",
        "\n",
        "*   Код должен быть оформлен в виде функций\n",
        "*   Необходимо обрабатывать неправильный ввод пользователя\n",
        "*   Должны быть комментарии к функциям\n",
        "*   Присутсвует весь дополнительный функционал\n",
        "\n",
        "\n",
        "\n",
        "**Опционально:**\n",
        "\n",
        "Предлагаю вам добавить свои критерии оценки или вопросы, на которые должен ответить студент, чтобы оценить пару\n",
        "\n",
        "\n"
      ],
      "metadata": {
        "id": "Fd95-S9cYhct"
      }
    },
    {
      "cell_type": "code",
      "source": [
        "def give_a_feedback(feedbacks):                   # функция для добавления отзыва\n",
        "  subject = input('Введите название предмета: ')\n",
        "  estimation = int(input('Введите оценку предмета: '))\n",
        "  feedback = input('Введите текст отзыва: ')\n",
        "  review = [estimation, feedback]         # объединение оценки и отзыва в список\n",
        "  if subject not in feedbacks:\n",
        "    feedbacks[subject] = []               # создание списка отзывов для предмета\n",
        "    feedbacks[subject].append(review)     # добавление отзыва в список\n",
        "  else:\n",
        "    feedbacks[subject].append(review)     # добавление отзыва в уже имеющийся список\n",
        "  return feedbacks\n",
        "\n",
        "\n",
        "def watch_reviews(feedbacks):\n",
        "  subject = input('Введите название предмета: ')\n",
        "  if subject not in feedbacks:\n",
        "    return f'Отзывов на этот предмет нет'\n",
        "  else:\n",
        "    return feedbacks[subject]               # возвращение списка отзывов для данного предмета\n",
        "\n",
        "\n",
        "def delete_review(feedbacks):\n",
        "  print(feedbacks)\n",
        "  subject = input('Введите название предмета: ')\n",
        "  index = int(input('Введите номер отзыва, который хотите удалить: '))\n",
        "  if 0 < index <= len(feedbacks[subject]):\n",
        "    del feedbacks[subject][index - 1]\n",
        "    return feedbacks\n",
        "  else:\n",
        "    return f'Неверный индекс отзыва'\n",
        "\n",
        "\n",
        "def count_average_score(feedbacks):\n",
        "  score = 0\n",
        "  amount = 0\n",
        "  subject = input('Введите название предмета: ')\n",
        "  if subject not in feedbacks:\n",
        "    return f'Отзывов на этот предмет нет'\n",
        "  else:\n",
        "    for lisst in feedbacks[subject]:\n",
        "      score += lisst[0]\n",
        "      amount += 1\n",
        "  average_score = score / amount\n",
        "  return f'Средний балл для предмета {subject}: {average_score}'\n",
        "\n",
        "\n",
        "reviews = {}\n",
        "print(give_a_feedback(reviews))\n",
        "print(give_a_feedback(reviews))\n",
        "print(give_a_feedback(reviews))\n",
        "print(watch_reviews(reviews))\n",
        "print(delete_review(reviews))\n",
        "print(count_average_score(reviews))"
      ],
      "metadata": {
        "id": "kzucJrCUa0o7",
        "colab": {
          "base_uri": "https://localhost:8080/"
        },
        "outputId": "f6ab845b-a8cb-4c5c-c5c0-59cff97d3712"
      },
      "execution_count": null,
      "outputs": [
        {
          "output_type": "stream",
          "name": "stdout",
          "text": [
            "Введите название предмета: прога\n",
            "Введите оценку предмета: 5\n",
            "Введите текст отзыва: ого\n",
            "{'прога': [[5, 'ого']]}\n",
            "Введите название предмета: прога\n",
            "Введите оценку предмета: 4\n",
            "Введите текст отзыва: йоу\n",
            "{'прога': [[5, 'ого'], [4, 'йоу']]}\n",
            "Введите название предмета: матан\n",
            "Введите оценку предмета: 5\n",
            "Введите текст отзыва: воу\n",
            "{'прога': [[5, 'ого'], [4, 'йоу']], 'матан': [[5, 'воу']]}\n",
            "Введите название предмета: матан\n",
            "[[5, 'воу']]\n",
            "{'прога': [[5, 'ого'], [4, 'йоу']], 'матан': [[5, 'воу']]}\n",
            "Введите название предмета: прога\n",
            "Введите номер отзыва, который хотите удалить: 5\n",
            "Неверный индекс отзыва\n",
            "Введите название предмета: прога\n",
            "Средний балл для предмета прога: 4.5\n"
          ]
        }
      ]
    }
  ]
}
{
  "nbformat": 4,
  "nbformat_minor": 0,
  "metadata": {
    "colab": {
      "provenance": []
    },
    "kernelspec": {
      "name": "python3",
      "display_name": "Python 3"
    },
    "language_info": {
      "name": "python"
    }
  },
  "cells": [
    {
      "cell_type": "markdown",
      "source": [
        "ФИО"
      ],
      "metadata": {
        "id": "phMKaFq3DN13"
      }
    },
    {
      "cell_type": "code",
      "execution_count": null,
      "metadata": {
        "id": "3CWpaI7SDK8t"
      },
      "outputs": [],
      "source": [
        "Пластеева Ксения Евгеньевна"
      ]
    },
    {
      "cell_type": "markdown",
      "source": [
        "**Во всей практике нельзя применять библиотеки предоставляющие готовые решения!**"
      ],
      "metadata": {
        "id": "jyIy3GOgFOCe"
      }
    },
    {
      "cell_type": "markdown",
      "source": [
        "# **Задача 1.**\n"
      ],
      "metadata": {
        "id": "XizmlL1RK2t3"
      }
    },
    {
      "cell_type": "markdown",
      "source": [
        "\n",
        "\n",
        "Типы данных Напишите программу на Python, которая принимает список чисел в качестве входных данных от пользователя, а затем выводит сумму, среднее значение и максимальное значение из списка.\n",
        "\n",
        "***Нельзя использовать: len(), min(), max(), average(), sum()***\n",
        "\n",
        "Ввод:\n",
        "```\n",
        "1 2 3 4 5 6 7\n",
        "```\n",
        "Вывод:\n",
        "\n",
        "```\n",
        "Сумма чисел: 28\n",
        "Среднее арифм.: 4.0\n",
        "Максимальное значение: 7\n",
        "```\n",
        "\n"
      ],
      "metadata": {
        "id": "p0v6KtHTFKSd"
      }
    },
    {
      "cell_type": "code",
      "source": [
        "numbers=input('Введите строку: ') # ввод строки пользователем\n",
        "numbers=numbers.split(' ') # преобразование строки в список\n",
        "new_list = [] # создание пустого списка\n",
        "ksenia=0 # введение переменной\n",
        "for el in numbers: # цикл\n",
        "  new_list.append(int(el)) # добавление элемента в список\n",
        "\n",
        "#цикл для суммы ( нужна переменная для суммы)\n",
        "for el in new_list: # цикл\n",
        "  ksenia= ksenia+el # изменение переменной (сумма)\n",
        "maria=0 # введение переменной\n",
        "print('Сумма чисел: ', ksenia) # вывести сумму на экран\n",
        "# цикл для среднего\n",
        "for el in new_list: # цикл\n",
        "  maria=maria+1 # изменение переменной (количество)\n",
        "\n",
        "print('Среднее арифм.: ', ksenia/maria) # вывести ср арифм на экран\n",
        "daria=0 # введение переменной\n",
        "# цикл + условие для максимального\n",
        "for el in new_list: #цикл\n",
        "  if daria<el: # условие\n",
        "    daria=el\n",
        "print('Максимальное значение: ', daria) # вывести макс значение на экран"
      ],
      "metadata": {
        "id": "0e1Virl0FpF6",
        "colab": {
          "base_uri": "https://localhost:8080/"
        },
        "outputId": "f79fda49-434b-45c2-f71e-eeedc21bbb72"
      },
      "execution_count": null,
      "outputs": [
        {
          "output_type": "stream",
          "name": "stdout",
          "text": [
            "Введите строку: 48\n",
            "Сумма чисел:  48\n",
            "Среднее арифм.:  48.0\n",
            "Максимальное значение:  48\n"
          ]
        }
      ]
    },
    {
      "cell_type": "markdown",
      "source": [
        "# **Задача 2.**"
      ],
      "metadata": {
        "id": "uFluc5OSK0NH"
      }
    },
    {
      "cell_type": "markdown",
      "source": [
        "\n",
        "Напишите программу на Python, которая принимает список слов в качестве входных данных от пользователя, а затем распечатывает список в обратном порядке.\n",
        "\n",
        "Ввод:\n",
        "\n",
        "```\n",
        "апельсин мандарин яблоко\n",
        "```\n",
        "\n",
        "Вывод:\n",
        "\n",
        "```\n",
        "яблоко мандарин апельсин\n",
        "```"
      ],
      "metadata": {
        "id": "6T8vg324GG4Z"
      }
    },
    {
      "cell_type": "code",
      "source": [
        "words=input('Введите слова: ')\n",
        "words=words.split(' ')\n",
        "slicer=words[ : :-1]\n",
        "print(slicer)"
      ],
      "metadata": {
        "id": "v3AWj4ufGKox",
        "colab": {
          "base_uri": "https://localhost:8080/"
        },
        "outputId": "a9be66e1-18ea-4191-94d9-ebba06fedfaa"
      },
      "execution_count": null,
      "outputs": [
        {
          "output_type": "stream",
          "name": "stdout",
          "text": [
            "Введите слова: кк пп аа\n",
            "['аа', 'пп', 'кк']\n"
          ]
        }
      ]
    },
    {
      "cell_type": "markdown",
      "source": [
        "# **Задача 3**"
      ],
      "metadata": {
        "id": "D1KkCxtIKxRx"
      }
    },
    {
      "cell_type": "markdown",
      "source": [
        "Простой чат-бот\n",
        "Создайте простого чат-бота, который отвечает на основные запросы пользователей. Программа должна использовать условные выражения для определения намерений пользователя и последующего соответствующего ответа.\n",
        "\n",
        "Чат бот может:\n",
        "\n",
        "- помогать складывать числа\n",
        "- подсказывать фильм, музыку и тд (из заранее созданного списка)\n",
        "- создавать список дел (а также выводить его, обновлять, очищать)\n",
        "\n",
        "Интерфейс чат-бота на ваше усмотрение, это могут быть как заранее определенные команды, так и к примеру вызов команды по номеру\n",
        "\n",
        "*Реализовать без использования функций*\n",
        "\n",
        "Пример:\n",
        "\n",
        "Ввод:\n",
        "\n",
        "```\n",
        "Олег, какую мызыку посоветуешь?\n",
        "```\n",
        "\n",
        "Вывод:\n",
        "\n",
        "```\n",
        "Я бы посоветовал вам: Led Zeppelin Stairway to Heaven\n",
        "```"
      ],
      "metadata": {
        "id": "Yq8Jgb9yHvSi"
      }
    },
    {
      "cell_type": "code",
      "source": [
        "import random\n",
        "\n",
        "option = int(input('Выберите функцию (1 - складывание чисел, 2 - подсказка фильмов или музыки, 3 - список дел): '))\n",
        "\n",
        "if option == 1:\n",
        "  a = int(input('Введите первое число: '))\n",
        "  b = int(input('Введите второе число: '))\n",
        "  c = a + b\n",
        "  print('Сумма чисел: ', c)\n",
        "\n",
        "music = ['Cry Me a River - Justin Timberlake', 'Whenever, Wherever - Shakira', 'Try - P!nk']\n",
        "film = ['1+1', 'Джентельмены', 'Остров проклятых']\n",
        "if option == 2:\n",
        "  choice = int(input('Выберите, что подсказать (1 - музыка, 2 - фильм): '))\n",
        "  if choice == 1:\n",
        "    print('Я бы посоветовал вам послушать песню', random.choice(music))\n",
        "  elif choice == 2:\n",
        "    print('Я бы посоветовал вам посмотреть фильм', random.choice(film))\n",
        "\n",
        "\n",
        "things_to_do = []\n",
        "if option == 3:\n",
        "  operation = int(input('Выберите, что сделать со списком (1 - показать список, 2 - добавить дело в список, 3 - удалить дело из списка, 4 - очистить список): '))\n",
        "  if operation == 1:\n",
        "    print(things_to_do)\n",
        "  elif operation == 2:\n",
        "    new_task = input('Введите новое дело: ')\n",
        "    things_to_do.append(new_task)\n",
        "    print('Новое дело добавлено в список!')\n",
        "  elif operation == 3:\n",
        "    old_task = input('Введите дело, которое нужно удалить: ')\n",
        "    things_to_do.remove(old_task)\n",
        "    print('Дело удалено из списка!')\n",
        "  elif operation == 4:\n",
        "    things_to_do.clear\n",
        "\n"
      ],
      "metadata": {
        "id": "fmW-tmUtINN9",
        "colab": {
          "base_uri": "https://localhost:8080/"
        },
        "outputId": "a44cd3cd-412d-464b-9f84-a1db18d1646b"
      },
      "execution_count": null,
      "outputs": [
        {
          "output_type": "stream",
          "name": "stdout",
          "text": [
            "Выберите функцию (1 - складывание чисел, 2 - подсказка фильмов или музыки, 3 - список дел): 2\n",
            "Выберите, что подсказать (1 - музыка, 2 - фильм): 1\n",
            "Я бы посоветовал вам послушать песню Try - P!nk\n"
          ]
        }
      ]
    },
    {
      "cell_type": "markdown",
      "source": [
        "# **Задача 4.**\n"
      ],
      "metadata": {
        "id": "PHXBfyc6Ko7D"
      }
    },
    {
      "cell_type": "markdown",
      "source": [
        "Камень, ножницы, бумага\n",
        "\n",
        "Создайте игру в Камень, ножницы, бумагу, в которой пользователь может играть против компьютера. Программа должна запросить выбор пользователя, а затем сгенерировать выбор компьютера. Затем программа должна определить победителя на основе правил игры.\n",
        "\n",
        "**Этап 1:**\n",
        "\n",
        "Определение победителя\n",
        "\n",
        "**Этап 2:**\n",
        "  \n",
        "Игра до 3 побед\n",
        "\n",
        "\n",
        "Ввод для \"Этап 1\":\n",
        "\n",
        "```\n",
        "Камень\n",
        "```\n",
        "\n",
        "Вывод:\n",
        "\n",
        "```\n",
        "Компьютер: Ножницы\n",
        "Игрок: Камень\n",
        "Победа: Игрок\n",
        "```"
      ],
      "metadata": {
        "id": "jnKWeYleI0j6"
      }
    },
    {
      "cell_type": "code",
      "source": [
        "import random\n",
        "comp=0\n",
        "play=0\n",
        "while comp < 3 and play < 3:\n",
        "    player=int(input('Игрок (1-камень, 2-ножницы, 3-бумага): '))\n",
        "    options=[1, 2, 3]\n",
        "    computer=random.choice(options)\n",
        "    print('Компьютер: ', computer)\n",
        "    if player == 2 and computer==3 or player==1 and computer==2 or player==3 and computer==1:\n",
        "        print('Победа: Игрок')\n",
        "        play=play+1\n",
        "    elif player==3 and computer==2 or player==2 and computer==1 or player==1 and computer==3:\n",
        "        print('Победа: Компьютер')\n",
        "        comp=comp+1\n",
        "    else:\n",
        "        print('Ничья')\n",
        "\n",
        "if comp==3:\n",
        "    print('Победа по итогам 3 раундов: Компьютер')\n",
        "else:\n",
        "    print('Победа по итогам 3 раундов: Игрок')"
      ],
      "metadata": {
        "id": "ooIPCRe_JHkX",
        "colab": {
          "base_uri": "https://localhost:8080/"
        },
        "outputId": "1b8bcd63-6e74-4cdb-c02a-77ca262f16df"
      },
      "execution_count": null,
      "outputs": [
        {
          "output_type": "stream",
          "name": "stdout",
          "text": [
            "Игрок (1-камень, 2-ножницы, 3-бумага): 1\n",
            "Компьютер:  1\n",
            "Ничья\n",
            "Игрок (1-камень, 2-ножницы, 3-бумага): 1\n",
            "Компьютер:  1\n",
            "Ничья\n",
            "Игрок (1-камень, 2-ножницы, 3-бумага): 1\n",
            "Компьютер:  2\n",
            "Победа: Игрок\n",
            "Игрок (1-камень, 2-ножницы, 3-бумага): 1\n",
            "Компьютер:  2\n",
            "Победа: Игрок\n",
            "Игрок (1-камень, 2-ножницы, 3-бумага): 1\n",
            "Компьютер:  1\n",
            "Ничья\n",
            "Игрок (1-камень, 2-ножницы, 3-бумага): 1\n",
            "Компьютер:  1\n",
            "Ничья\n",
            "Игрок (1-камень, 2-ножницы, 3-бумага): 2\n",
            "Компьютер:  2\n",
            "Ничья\n",
            "Игрок (1-камень, 2-ножницы, 3-бумага): 3\n",
            "Компьютер:  2\n",
            "Победа: Компьютер\n",
            "Игрок (1-камень, 2-ножницы, 3-бумага): 3\n",
            "Компьютер:  2\n",
            "Победа: Компьютер\n",
            "Игрок (1-камень, 2-ножницы, 3-бумага): 2\n",
            "Компьютер:  2\n",
            "Ничья\n",
            "Игрок (1-камень, 2-ножницы, 3-бумага): 1\n",
            "Компьютер:  3\n",
            "Победа: Компьютер\n",
            "Победа по итогам 3 раундов: Компьютер\n"
          ]
        }
      ]
    },
    {
      "cell_type": "markdown",
      "source": [
        "# **Задача 5.**"
      ],
      "metadata": {
        "id": "Hg4FJNFbLHQO"
      }
    },
    {
      "cell_type": "markdown",
      "source": [
        "Создайте игру \"Палач\" или \"Виселица\", в которой пользователь должен угадать слово, предлагая буквы. Программа должна выбрать случайное слово, а затем разрешить пользователю угадывать буквы. После каждого угадывания программа должна сообщать пользователю, есть ли в слове буква или нет.\n",
        "\n",
        "**Этап 1**\n",
        "Создать саму игру (игра должна иметь привлекательный интерфейс, соотвесвующий классической висилице)\n",
        "\n",
        "**Этап 2:**\n",
        "Ввести подсчет количества очков и ограничения на попытки\n",
        "\n",
        "**Этап 3:** Добавить возможность сразу угадать слово"
      ],
      "metadata": {
        "id": "OHqj3HJuLJgY"
      }
    },
    {
      "cell_type": "code",
      "source": [
        "import random\n",
        "\n",
        "words = ['алгебра', 'блокнот', 'галстук', 'деканат', 'загадка', 'косинус']\n",
        "\n",
        "answer = input('Ты готов угадывать слово? ')\n",
        "if answer == 'да' or answer == 'yes':\n",
        "  print()\n",
        "  word = random.choice(words)\n",
        "  letters = list(word)\n",
        "  guessing_list = []\n",
        "  attempt = 5\n",
        "\n",
        "  while attempt > 0:\n",
        "    guess = input('Введите букву: ')\n",
        "    if guess in letters:\n",
        "      print('Буква угадана правильно!')\n",
        "      for letter in letters:\n",
        "        if letter != guess:\n",
        "         letter = '-'\n",
        "      print('Так выглядит твоё слово сейчас: ', letters)\n",
        "      print()\n",
        "    else:\n",
        "      attempt = attempt -1\n",
        "      if attempt != 0:\n",
        "       print('Такой буквы нет в слове. Попробуй ещё!')\n",
        "       print()\n",
        "      else:\n",
        "        print()\n",
        "        print('Игра закончена. Этой буквы тоже нет в слове. Вы проиграли.')\n",
        "\n",
        "\n",
        "\n",
        "\n"
      ],
      "metadata": {
        "id": "0N2zCYwVLiIw",
        "colab": {
          "base_uri": "https://localhost:8080/",
          "height": 564
        },
        "outputId": "c6fbf7de-c05c-4d33-8b3a-7485f03bf2c4"
      },
      "execution_count": null,
      "outputs": [
        {
          "output_type": "stream",
          "name": "stdout",
          "text": [
            "Ты готов угадывать слово? да\n",
            "\n",
            "Введите букву: а\n",
            "Такой буквы нет в слове. Попробуй ещё!\n",
            "\n",
            "Введите букву: с\n",
            "Такой буквы нет в слове. Попробуй ещё!\n",
            "\n",
            "Введите букву: б\n",
            "Буква угадана правильно!\n",
            "Так выглядит твоё слово сейчас:  ['б', 'л', 'о', 'к', 'н', 'о', 'т']\n",
            "\n"
          ]
        },
        {
          "output_type": "error",
          "ename": "KeyboardInterrupt",
          "evalue": "Interrupted by user",
          "traceback": [
            "\u001b[0;31m---------------------------------------------------------------------------\u001b[0m",
            "\u001b[0;31mKeyboardInterrupt\u001b[0m                         Traceback (most recent call last)",
            "\u001b[0;32m<ipython-input-20-d80bdc9802f8>\u001b[0m in \u001b[0;36m<cell line: 6>\u001b[0;34m()\u001b[0m\n\u001b[1;32m     12\u001b[0m \u001b[0;34m\u001b[0m\u001b[0m\n\u001b[1;32m     13\u001b[0m   \u001b[0;32mwhile\u001b[0m \u001b[0mattempt\u001b[0m \u001b[0;34m>\u001b[0m \u001b[0;36m0\u001b[0m\u001b[0;34m:\u001b[0m\u001b[0;34m\u001b[0m\u001b[0;34m\u001b[0m\u001b[0m\n\u001b[0;32m---> 14\u001b[0;31m     \u001b[0mguess\u001b[0m \u001b[0;34m=\u001b[0m \u001b[0minput\u001b[0m\u001b[0;34m(\u001b[0m\u001b[0;34m'Введите букву: '\u001b[0m\u001b[0;34m)\u001b[0m\u001b[0;34m\u001b[0m\u001b[0;34m\u001b[0m\u001b[0m\n\u001b[0m\u001b[1;32m     15\u001b[0m     \u001b[0;32mif\u001b[0m \u001b[0mguess\u001b[0m \u001b[0;32min\u001b[0m \u001b[0mletters\u001b[0m\u001b[0;34m:\u001b[0m\u001b[0;34m\u001b[0m\u001b[0;34m\u001b[0m\u001b[0m\n\u001b[1;32m     16\u001b[0m       \u001b[0mprint\u001b[0m\u001b[0;34m(\u001b[0m\u001b[0;34m'Буква угадана правильно!'\u001b[0m\u001b[0;34m)\u001b[0m\u001b[0;34m\u001b[0m\u001b[0;34m\u001b[0m\u001b[0m\n",
            "\u001b[0;32m/usr/local/lib/python3.10/dist-packages/ipykernel/kernelbase.py\u001b[0m in \u001b[0;36mraw_input\u001b[0;34m(self, prompt)\u001b[0m\n\u001b[1;32m    849\u001b[0m                 \u001b[0;34m\"raw_input was called, but this frontend does not support input requests.\"\u001b[0m\u001b[0;34m\u001b[0m\u001b[0;34m\u001b[0m\u001b[0m\n\u001b[1;32m    850\u001b[0m             )\n\u001b[0;32m--> 851\u001b[0;31m         return self._input_request(str(prompt),\n\u001b[0m\u001b[1;32m    852\u001b[0m             \u001b[0mself\u001b[0m\u001b[0;34m.\u001b[0m\u001b[0m_parent_ident\u001b[0m\u001b[0;34m,\u001b[0m\u001b[0;34m\u001b[0m\u001b[0;34m\u001b[0m\u001b[0m\n\u001b[1;32m    853\u001b[0m             \u001b[0mself\u001b[0m\u001b[0;34m.\u001b[0m\u001b[0m_parent_header\u001b[0m\u001b[0;34m,\u001b[0m\u001b[0;34m\u001b[0m\u001b[0;34m\u001b[0m\u001b[0m\n",
            "\u001b[0;32m/usr/local/lib/python3.10/dist-packages/ipykernel/kernelbase.py\u001b[0m in \u001b[0;36m_input_request\u001b[0;34m(self, prompt, ident, parent, password)\u001b[0m\n\u001b[1;32m    893\u001b[0m             \u001b[0;32mexcept\u001b[0m \u001b[0mKeyboardInterrupt\u001b[0m\u001b[0;34m:\u001b[0m\u001b[0;34m\u001b[0m\u001b[0;34m\u001b[0m\u001b[0m\n\u001b[1;32m    894\u001b[0m                 \u001b[0;31m# re-raise KeyboardInterrupt, to truncate traceback\u001b[0m\u001b[0;34m\u001b[0m\u001b[0;34m\u001b[0m\u001b[0m\n\u001b[0;32m--> 895\u001b[0;31m                 \u001b[0;32mraise\u001b[0m \u001b[0mKeyboardInterrupt\u001b[0m\u001b[0;34m(\u001b[0m\u001b[0;34m\"Interrupted by user\"\u001b[0m\u001b[0;34m)\u001b[0m \u001b[0;32mfrom\u001b[0m \u001b[0;32mNone\u001b[0m\u001b[0;34m\u001b[0m\u001b[0;34m\u001b[0m\u001b[0m\n\u001b[0m\u001b[1;32m    896\u001b[0m             \u001b[0;32mexcept\u001b[0m \u001b[0mException\u001b[0m \u001b[0;32mas\u001b[0m \u001b[0me\u001b[0m\u001b[0;34m:\u001b[0m\u001b[0;34m\u001b[0m\u001b[0;34m\u001b[0m\u001b[0m\n\u001b[1;32m    897\u001b[0m                 \u001b[0mself\u001b[0m\u001b[0;34m.\u001b[0m\u001b[0mlog\u001b[0m\u001b[0;34m.\u001b[0m\u001b[0mwarning\u001b[0m\u001b[0;34m(\u001b[0m\u001b[0;34m\"Invalid Message:\"\u001b[0m\u001b[0;34m,\u001b[0m \u001b[0mexc_info\u001b[0m\u001b[0;34m=\u001b[0m\u001b[0;32mTrue\u001b[0m\u001b[0;34m)\u001b[0m\u001b[0;34m\u001b[0m\u001b[0;34m\u001b[0m\u001b[0m\n",
            "\u001b[0;31mKeyboardInterrupt\u001b[0m: Interrupted by user"
          ]
        }
      ]
    },
    {
      "cell_type": "markdown",
      "source": [
        "# **Дополнительно: Задача 6.**\n"
      ],
      "metadata": {
        "id": "w0x3QFGzKtDD"
      }
    },
    {
      "cell_type": "markdown",
      "source": [
        "\n",
        "**Цифра на определенном месте:**\n",
        "\n",
        "Последовательно записан натуральный ряд чисел.\n",
        "\n",
        "Какая цифра стоит в N позиции\n",
        "\n",
        "\n",
        "Вввод:\n",
        "\n",
        "```\n",
        "Введите номер позиции: 1234567890\n",
        "```\n",
        "\n",
        "Вывод:\n",
        "\n",
        "```\n",
        "8\n",
        "```"
      ],
      "metadata": {
        "id": "QqZArcpHJxVj"
      }
    },
    {
      "cell_type": "code",
      "source": [],
      "metadata": {
        "id": "LwjYwBGcKiJ9"
      },
      "execution_count": null,
      "outputs": []
    }
  ]
}
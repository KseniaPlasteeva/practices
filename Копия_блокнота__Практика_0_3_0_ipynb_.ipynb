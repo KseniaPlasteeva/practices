{
  "nbformat": 4,
  "nbformat_minor": 0,
  "metadata": {
    "colab": {
      "provenance": []
    },
    "kernelspec": {
      "name": "python3",
      "display_name": "Python 3"
    },
    "language_info": {
      "name": "python"
    }
  },
  "cells": [
    {
      "cell_type": "markdown",
      "source": [
        "ФИО"
      ],
      "metadata": {
        "id": "phMKaFq3DN13"
      }
    },
    {
      "cell_type": "code",
      "execution_count": null,
      "metadata": {
        "id": "3CWpaI7SDK8t"
      },
      "outputs": [],
      "source": [
        "Пластеева Ксения Евгеньевна"
      ]
    },
    {
      "cell_type": "markdown",
      "source": [
        "**Во всей практике нельзя применять библиотеки предоставляющие готовые решения!**"
      ],
      "metadata": {
        "id": "jyIy3GOgFOCe"
      }
    },
    {
      "cell_type": "markdown",
      "source": [
        "# **Задача 1.**\n"
      ],
      "metadata": {
        "id": "XizmlL1RK2t3"
      }
    },
    {
      "cell_type": "markdown",
      "source": [
        "\n",
        "\n",
        "Типы данных Напишите программу на Python, которая принимает список чисел в качестве входных данных от пользователя, а затем выводит сумму, среднее значение и максимальное значение из списка.\n",
        "\n",
        "***Нельзя использовать: len(), min(), max(), average(), sum()***\n",
        "\n",
        "Ввод:\n",
        "```\n",
        "1 2 3 4 5 6 7\n",
        "```\n",
        "Вывод:\n",
        "\n",
        "```\n",
        "Сумма чисел: 28\n",
        "Среднее арифм.: 4.0\n",
        "Максимальное значение: 7\n",
        "```\n",
        "\n"
      ],
      "metadata": {
        "id": "p0v6KtHTFKSd"
      }
    },
    {
      "cell_type": "code",
      "source": [
        "numbers = input('Введите строку: ')\n",
        "numbers = numbers.split(' ')\n",
        "\n",
        "new_list = []\n",
        "for el in numbers:\n",
        "  new_list.append(int(el))\n",
        "\n",
        "summa = 0\n",
        "for el in new_list:\n",
        "  summa += el\n",
        "print(f'Сумма чисел: {summa}')\n",
        "\n",
        "quantity = 0\n",
        "for el in new_list:\n",
        "  quantity += 1\n",
        "print(f'Среднее арифм.: {summa/quantity}')\n",
        "\n",
        "maximum = 0\n",
        "for el in new_list:\n",
        "  if maximum < el:\n",
        "    maximum = el\n",
        "print(f'Максимальное значение: {maximum}')"
      ],
      "metadata": {
        "id": "0e1Virl0FpF6",
        "colab": {
          "base_uri": "https://localhost:8080/"
        },
        "outputId": "9cd9cb92-aadc-4aff-b29e-0037bd7919c3"
      },
      "execution_count": null,
      "outputs": [
        {
          "output_type": "stream",
          "name": "stdout",
          "text": [
            "Введите строку: 4 9 13 78\n",
            "Сумма чисел: 104\n",
            "Среднее арифм.: 26.0\n",
            "Максимальное значение: 78\n"
          ]
        }
      ]
    },
    {
      "cell_type": "markdown",
      "source": [
        "# **Задача 2.**"
      ],
      "metadata": {
        "id": "uFluc5OSK0NH"
      }
    },
    {
      "cell_type": "markdown",
      "source": [
        "\n",
        "Напишите программу на Python, которая принимает список слов в качестве входных данных от пользователя, а затем распечатывает список в обратном порядке.\n",
        "\n",
        "Ввод:\n",
        "\n",
        "```\n",
        "апельсин мандарин яблоко\n",
        "```\n",
        "\n",
        "Вывод:\n",
        "\n",
        "```\n",
        "яблоко мандарин апельсин\n",
        "```"
      ],
      "metadata": {
        "id": "6T8vg324GG4Z"
      }
    },
    {
      "cell_type": "code",
      "source": [
        "words = input('Введите слова: ')\n",
        "list_1 = words.split(' ')\n",
        "slicer = list_1[::-1]\n",
        "result = ' '.join(slicer)\n",
        "print(result)"
      ],
      "metadata": {
        "id": "v3AWj4ufGKox",
        "colab": {
          "base_uri": "https://localhost:8080/"
        },
        "outputId": "c53296d6-125a-4e9b-aab1-5b74d433cccd"
      },
      "execution_count": null,
      "outputs": [
        {
          "output_type": "stream",
          "name": "stdout",
          "text": [
            "Введите слова: апельсин мандарин яблоко\n",
            "яблоко мандарин апельсин\n"
          ]
        }
      ]
    },
    {
      "cell_type": "markdown",
      "source": [
        "# **Задача 3**"
      ],
      "metadata": {
        "id": "D1KkCxtIKxRx"
      }
    },
    {
      "cell_type": "markdown",
      "source": [
        "Простой чат-бот\n",
        "Создайте простого чат-бота, который отвечает на основные запросы пользователей. Программа должна использовать условные выражения для определения намерений пользователя и последующего соответствующего ответа.\n",
        "\n",
        "Чат бот может:\n",
        "\n",
        "- помогать складывать числа\n",
        "- подсказывать фильм, музыку и тд (из заранее созданного списка)\n",
        "- создавать список дел (а также выводить его, обновлять, очищать)\n",
        "\n",
        "Интерфейс чат-бота на ваше усмотрение, это могут быть как заранее определенные команды, так и к примеру вызов команды по номеру\n",
        "\n",
        "*Реализовать без использования функций*\n",
        "\n",
        "Пример:\n",
        "\n",
        "Ввод:\n",
        "\n",
        "```\n",
        "Олег, какую мызыку посоветуешь?\n",
        "```\n",
        "\n",
        "Вывод:\n",
        "\n",
        "```\n",
        "Я бы посоветовал вам: Led Zeppelin Stairway to Heaven\n",
        "```"
      ],
      "metadata": {
        "id": "Yq8Jgb9yHvSi"
      }
    },
    {
      "cell_type": "code",
      "source": [
        "import random\n",
        "\n",
        "option = int(input('Выберите функцию (1 - складывание чисел, 2 - подсказка фильмов или музыки, 3 - список дел): '))\n",
        "\n",
        "if option == 1:\n",
        "  a = int(input('Введите первое число: '))\n",
        "  b = int(input('Введите второе число: '))\n",
        "  c = a + b\n",
        "  print('Сумма чисел: ', c)\n",
        "\n",
        "music = ['Cry Me a River - Justin Timberlake', 'Whenever, Wherever - Shakira', 'Try - P!nk']\n",
        "film = ['1+1', 'Джентельмены', 'Остров проклятых']\n",
        "if option == 2:\n",
        "  choice = int(input('Выберите, что подсказать (1 - музыка, 2 - фильм): '))\n",
        "  if choice == 1:\n",
        "    print('Я бы посоветовал вам послушать песню', random.choice(music))\n",
        "  elif choice == 2:\n",
        "    print('Я бы посоветовал вам посмотреть фильм', random.choice(film))\n",
        "\n",
        "if option == 3:\n",
        "  things_to_do = []\n",
        "  operation = int(input('Выберите, что сделать со списком (1 - показать список, 2 - добавить дело в список, 3 - удалить дело из списка, 4 - очистить список): '))\n",
        "  if operation == 1:\n",
        "    print(things_to_do)\n",
        "  elif operation == 2:\n",
        "    new_task = input('Введите новое дело: ')\n",
        "    things_to_do.append(new_task)\n",
        "    print('Новое дело добавлено в список!')\n",
        "  elif operation == 3:\n",
        "    old_task = input('Введите дело, которое нужно удалить: ')\n",
        "    things_to_do.remove(old_task)\n",
        "    print('Дело удалено из списка!')\n",
        "  elif operation == 4:\n",
        "    things_to_do.clear\n",
        "\n"
      ],
      "metadata": {
        "id": "fmW-tmUtINN9",
        "colab": {
          "base_uri": "https://localhost:8080/"
        },
        "outputId": "387fa498-d176-4a3c-c30e-f8c3e7bb9209"
      },
      "execution_count": null,
      "outputs": [
        {
          "output_type": "stream",
          "name": "stdout",
          "text": [
            "Выберите функцию (1 - складывание чисел, 2 - подсказка фильмов или музыки, 3 - список дел): 2\n",
            "Выберите, что подсказать (1 - музыка, 2 - фильм): 2\n",
            "Я бы посоветовал вам посмотреть фильм Остров проклятых\n"
          ]
        }
      ]
    },
    {
      "cell_type": "markdown",
      "source": [
        "# **Задача 4.**\n"
      ],
      "metadata": {
        "id": "PHXBfyc6Ko7D"
      }
    },
    {
      "cell_type": "markdown",
      "source": [
        "Камень, ножницы, бумага\n",
        "\n",
        "Создайте игру в Камень, ножницы, бумагу, в которой пользователь может играть против компьютера. Программа должна запросить выбор пользователя, а затем сгенерировать выбор компьютера. Затем программа должна определить победителя на основе правил игры.\n",
        "\n",
        "**Этап 1:**\n",
        "\n",
        "Определение победителя\n",
        "\n",
        "**Этап 2:**\n",
        "  \n",
        "Игра до 3 побед\n",
        "\n",
        "\n",
        "Ввод для \"Этап 1\":\n",
        "\n",
        "```\n",
        "Камень\n",
        "```\n",
        "\n",
        "Вывод:\n",
        "\n",
        "```\n",
        "Компьютер: Ножницы\n",
        "Игрок: Камень\n",
        "Победа: Игрок\n",
        "```"
      ],
      "metadata": {
        "id": "jnKWeYleI0j6"
      }
    },
    {
      "cell_type": "code",
      "source": [
        "import random\n",
        "\n",
        "\n",
        "comp = 0\n",
        "play = 0\n",
        "\n",
        "while comp < 3 and play < 3:\n",
        "    player = input('Игрок: ')\n",
        "    options = ['камень', 'ножницы', 'бумага']\n",
        "    computer = random.choice(options)\n",
        "    print('Компьютер: ', computer)\n",
        "    if player == 'ножницы' and computer == 'бумага' or player == 'камень' and computer == 'ножницы' or player == 'бумага' and computer == 'камень':\n",
        "        print('Победа: Игрок')\n",
        "        print('')\n",
        "        play += 1\n",
        "    elif player == 'бумага' and computer == 'ножницы' or player == 'ножницы' and computer == 'камень' or player == 'камень' and computer == 'бумага':\n",
        "        print('Победа: Компьютер')\n",
        "        print('')\n",
        "        comp=comp+1\n",
        "    else:\n",
        "        print('Ничья')\n",
        "        print('')\n",
        "\n",
        "if comp==3:\n",
        "    print('Победа по итогам 3 раундов: Компьютер')\n",
        "else:\n",
        "    print('Победа по итогам 3 раундов: Игрок')"
      ],
      "metadata": {
        "id": "ooIPCRe_JHkX",
        "colab": {
          "base_uri": "https://localhost:8080/"
        },
        "outputId": "6de36a63-7579-47aa-e3a4-ca3950a126db"
      },
      "execution_count": null,
      "outputs": [
        {
          "output_type": "stream",
          "name": "stdout",
          "text": [
            "Игрок: камень\n",
            "Компьютер:  ножницы\n",
            "Победа: Игрок\n",
            "\n",
            "Игрок: бумага\n",
            "Компьютер:  ножницы\n",
            "Победа: Компьютер\n",
            "\n",
            "Игрок: ножницы\n",
            "Компьютер:  камень\n",
            "Победа: Компьютер\n",
            "\n",
            "Игрок: ножницы\n",
            "Компьютер:  ножницы\n",
            "Ничья\n",
            "\n",
            "Игрок: ножницы\n",
            "Компьютер:  ножницы\n",
            "Ничья\n",
            "\n",
            "Игрок: ножницы\n",
            "Компьютер:  камень\n",
            "Победа: Компьютер\n",
            "\n",
            "Победа по итогам 3 раундов: Компьютер\n"
          ]
        }
      ]
    },
    {
      "cell_type": "markdown",
      "source": [
        "# **Задача 5.**"
      ],
      "metadata": {
        "id": "Hg4FJNFbLHQO"
      }
    },
    {
      "cell_type": "markdown",
      "source": [
        "Создайте игру \"Палач\" или \"Виселица\", в которой пользователь должен угадать слово, предлагая буквы. Программа должна выбрать случайное слово, а затем разрешить пользователю угадывать буквы. После каждого угадывания программа должна сообщать пользователю, есть ли в слове буква или нет.\n",
        "\n",
        "**Этап 1**\n",
        "Создать саму игру (игра должна иметь привлекательный интерфейс, соотвесвующий классической висилице)\n",
        "\n",
        "**Этап 2:**\n",
        "Ввести подсчет количества очков и ограничения на попытки\n",
        "\n",
        "**Этап 3:** Добавить возможность сразу угадать слово"
      ],
      "metadata": {
        "id": "OHqj3HJuLJgY"
      }
    },
    {
      "cell_type": "code",
      "source": [
        "import random\n",
        "\n",
        "words = ['алгебра', 'блокнот', 'галстук', 'деканат', 'загадка', 'косинус']\n",
        "\n",
        "print('Приветствуем вас в игре \"Виселица\"')\n",
        "print('Мы готовы начинать!')\n",
        "print()\n",
        "\n",
        "word = random.choice(words)\n",
        "letters = list(word)\n",
        "guesses = []\n",
        "for letter in letters:\n",
        "  guesses.append('_')\n",
        "print(f'Сейчас ваше слово выглядит так: {guesses}')\n",
        "print('Попробуйте его угадать. У вас есть 5 попыток.')\n",
        "print('')\n",
        "\n",
        "attempt = 5\n",
        "\n",
        "while attempt > 0:\n",
        "  guess = input('Введите букву: ')\n",
        "  if guess in letters:\n",
        "    print('Буква угадана правильно!')\n",
        "    for i, letter in enumerate(letters):\n",
        "      if letter == guess:\n",
        "         guesses[i] = guess\n",
        "    if \"_\" not in guesses:\n",
        "        print(\"Вы победили!\")\n",
        "        print('Загаданное слово: ', word)\n",
        "        break\n",
        "    print('Так выглядит твоё слово сейчас: ', guesses)\n",
        "    print()\n",
        "  else:\n",
        "    attempt -= 1\n",
        "    if attempt != 0:\n",
        "      print('Такой буквы нет в слове. Попробуй ещё!')\n",
        "      print()\n",
        "\n",
        "if attempt == 0:\n",
        "    print('Вы проиграли.')\n",
        "    print('Загаданное слово: ', word)\n"
      ],
      "metadata": {
        "colab": {
          "base_uri": "https://localhost:8080/"
        },
        "id": "hA3aFmyPjkWk",
        "outputId": "55790de1-845a-4c77-80dd-fd09ce3ade3d"
      },
      "execution_count": null,
      "outputs": [
        {
          "output_type": "stream",
          "name": "stdout",
          "text": [
            "Приветствуем вас в игре \"Виселица\"\n",
            "Мы готовы начинать!\n",
            "\n",
            "Сейчас ваше слово выглядит так: ['_', '_', '_', '_', '_', '_', '_']\n",
            "Попробуйте его угадать. У вас есть 5 попыток.\n",
            "\n",
            "Введите букву: а\n",
            "Такой буквы нет в слове. Попробуй ещё!\n",
            "\n",
            "Введите букву: к\n",
            "Буква угадана правильно!\n",
            "Так выглядит твоё слово сейчас:  ['к', '_', '_', '_', '_', '_', '_']\n",
            "\n",
            "Введите букву: о\n",
            "Буква угадана правильно!\n",
            "Так выглядит твоё слово сейчас:  ['к', 'о', '_', '_', '_', '_', '_']\n",
            "\n",
            "Введите букву: с\n",
            "Буква угадана правильно!\n",
            "Так выглядит твоё слово сейчас:  ['к', 'о', 'с', '_', '_', '_', 'с']\n",
            "\n",
            "Введите букву: и\n",
            "Буква угадана правильно!\n",
            "Так выглядит твоё слово сейчас:  ['к', 'о', 'с', 'и', '_', '_', 'с']\n",
            "\n",
            "Введите букву: н\n",
            "Буква угадана правильно!\n",
            "Так выглядит твоё слово сейчас:  ['к', 'о', 'с', 'и', 'н', '_', 'с']\n",
            "\n",
            "Введите букву: у\n",
            "Буква угадана правильно!\n",
            "Вы победили!\n",
            "Загаданное слово:  косинус\n"
          ]
        }
      ]
    },
    {
      "cell_type": "markdown",
      "source": [
        "# **Дополнительно: Задача 6.**\n"
      ],
      "metadata": {
        "id": "w0x3QFGzKtDD"
      }
    },
    {
      "cell_type": "markdown",
      "source": [
        "\n",
        "**Цифра на определенном месте:**\n",
        "\n",
        "Последовательно записан натуральный ряд чисел.\n",
        "\n",
        "Какая цифра стоит в N позиции\n",
        "\n",
        "\n",
        "Вввод:\n",
        "\n",
        "```\n",
        "Введите номер позиции: 1234567890\n",
        "```\n",
        "\n",
        "Вывод:\n",
        "\n",
        "```\n",
        "8\n",
        "```"
      ],
      "metadata": {
        "id": "QqZArcpHJxVj"
      }
    },
    {
      "cell_type": "code",
      "source": [],
      "metadata": {
        "id": "LwjYwBGcKiJ9"
      },
      "execution_count": null,
      "outputs": []
    }
  ]
}
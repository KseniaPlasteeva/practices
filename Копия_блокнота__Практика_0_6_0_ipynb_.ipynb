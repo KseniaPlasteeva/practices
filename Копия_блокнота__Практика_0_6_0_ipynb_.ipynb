{
  "nbformat": 4,
  "nbformat_minor": 0,
  "metadata": {
    "colab": {
      "provenance": []
    },
    "kernelspec": {
      "name": "python3",
      "display_name": "Python 3"
    },
    "language_info": {
      "name": "python"
    }
  },
  "cells": [
    {
      "cell_type": "markdown",
      "source": [
        "\n",
        "\n",
        "---\n",
        "\n"
      ],
      "metadata": {
        "id": "tKNG_RzWxG6g"
      }
    },
    {
      "cell_type": "markdown",
      "source": [
        "# **Дисклеймер**\n",
        "\n",
        "В данной практике будет введен дополнительный критерий: чистота и читаемость кода, а также соблюдение правил описанных в начале практики"
      ],
      "metadata": {
        "id": "cFcrKfclKWh0"
      }
    },
    {
      "cell_type": "markdown",
      "source": [
        "\n",
        "\n",
        "---\n",
        "\n"
      ],
      "metadata": {
        "id": "0SnE87X1xDlV"
      }
    },
    {
      "cell_type": "markdown",
      "source": [
        "# Задание 1\n",
        "\n",
        "**Задача:**\n",
        "\n",
        "Напишите функцию очищающий список от дубликтов\n",
        "\n",
        "\n",
        "*Запрещено:*\n",
        "\n",
        "*   Использовать set() или готовые функции очищающие список от дубликатов\n",
        "\n",
        "Вввод:\n",
        "\n",
        "```\n",
        "apple banana apple 1 3 4 4 5\n",
        "```\n",
        "\n",
        "\n",
        "Вывод:\n",
        "\n",
        "```\n",
        "apple banana 1 3 4 5\n",
        "```\n",
        "\n"
      ],
      "metadata": {
        "id": "VxawR9NubT_F"
      }
    },
    {
      "cell_type": "code",
      "source": [
        "def duplicate_clener(x):\n",
        "  if x not in new_list:\n",
        "    new_list.append(x)\n",
        "  return new_list\n",
        "\n",
        "\n",
        "old_list = ['apple', 'banana', 'apple', 1, 3, 4, 4, 5]\n",
        "new_list = []\n",
        "\n",
        "for el in old_list:\n",
        "  duplicate_clener(el)\n",
        "print(new_list)"
      ],
      "metadata": {
        "id": "ml5gnbPXbeju",
        "colab": {
          "base_uri": "https://localhost:8080/"
        },
        "outputId": "b46d4db3-eea5-448a-b9fc-f31fc8780cf8"
      },
      "execution_count": null,
      "outputs": [
        {
          "output_type": "stream",
          "name": "stdout",
          "text": [
            "['apple', 'banana', 1, 3, 4, 5]\n"
          ]
        }
      ]
    },
    {
      "cell_type": "markdown",
      "source": [
        "# Задание 2\n",
        "\n",
        "**Задача:**\n",
        "\n",
        "Написать функцию для нахождения простых чисел в диапазоне\n",
        "\n",
        "Ввод:\n",
        "\n",
        "```\n",
        "10, 50\n",
        "```\n",
        "\n",
        "Вывод:\n",
        "\n",
        "```\n",
        "11, 13, 17, 19, 23, 29, 31, 37, 41, 43, 47\n",
        "```"
      ],
      "metadata": {
        "id": "y05x0eD0cVCC"
      }
    },
    {
      "cell_type": "code",
      "source": [
        "def num_is_prime(number):\n",
        "  quantity = 0\n",
        "  for num in range(1, number+1):\n",
        "    if number % num == 0:\n",
        "      quantity=quantity+1\n",
        "  if quantity == 2:\n",
        "    return True\n",
        "  else:\n",
        "    return False\n",
        "\n",
        "list_1=[]\n",
        "for el in range(10, 51):\n",
        "  num_is_prime(el)\n",
        "  if num_is_prime(el):\n",
        "    list_1.append(el)\n",
        "\n",
        "print(list_1)"
      ],
      "metadata": {
        "id": "XSMJnLgrc6Bf",
        "colab": {
          "base_uri": "https://localhost:8080/"
        },
        "outputId": "6995f630-35fe-4877-b653-7b2584602879"
      },
      "execution_count": null,
      "outputs": [
        {
          "output_type": "stream",
          "name": "stdout",
          "text": [
            "[11, 13, 17, 19, 23, 29, 31, 37, 41, 43, 47]\n"
          ]
        }
      ]
    },
    {
      "cell_type": "markdown",
      "source": [
        "# Задание 3\n",
        "\n",
        "Напишите функцию для объединения двух списков (список ключей и список значении) в словарь\n",
        "\n",
        "*Запрещено:*\n",
        "\n",
        "*   Использования готовых функции для объединения списков (пример: zip() )\n",
        "\n",
        "Дано:\n",
        "\n",
        "```\n",
        "keys = ['a', 'b', 'c', 'e' ]\n",
        "values = [1, 2, 3, 4]\n",
        "```\n",
        "\n",
        "Вывод:\n",
        "```\n",
        "{'a': 1, 'b': 2, 'c': 3, 'e': 4}\n",
        "```\n",
        "\n",
        "\n"
      ],
      "metadata": {
        "id": "vYM0LyxxdElN"
      }
    },
    {
      "cell_type": "code",
      "source": [
        "keys = ['a', 'b', 'c', 'e' ]\n",
        "values = [1, 2, 3, 4]\n",
        "keys_plus_values = {}\n",
        "\n",
        "for i in range(0, len(keys)):\n",
        "  keys_plus_values[keys[i]] = values[i]\n",
        "\n",
        "print(keys_plus_values)"
      ],
      "metadata": {
        "id": "CRvhHTjCdvjS",
        "colab": {
          "base_uri": "https://localhost:8080/"
        },
        "outputId": "c6419b06-bee9-4c37-cb2d-fcc2ae366431"
      },
      "execution_count": null,
      "outputs": [
        {
          "output_type": "stream",
          "name": "stdout",
          "text": [
            "{'a': 1, 'b': 2, 'c': 3, 'e': 4}\n"
          ]
        }
      ]
    },
    {
      "cell_type": "markdown",
      "source": [
        "# Задание 4\n",
        "\n",
        "Напишите функцию(ии) для подсчета статистических параметров:\n",
        "*   Сумму\n",
        "*   Среднее арифметическое\n",
        "*   Медиану\n",
        "*   Моду\n",
        "\n",
        "\n",
        "*Запрещено:*\n",
        "\n",
        "*   sum()\n",
        "*   sorted()\n",
        "*   и других функции предоставляющих готовое решение задания\n",
        "\n",
        "Дано:\n",
        "\n",
        "```\n",
        "numbers = [1, 2, 2, 3, 4, 5, 6, 7, 8 ,9 ,10]\n",
        "\n",
        "```\n",
        "\n",
        "Вывод:\n",
        "```\n",
        "{'mean': 5.181818181818182, 'median': 5, 'mode': 2, 'sum': 57}\n",
        "```\n"
      ],
      "metadata": {
        "id": "L_w8H8i-fQcP"
      }
    },
    {
      "cell_type": "code",
      "source": [
        "def sum_of_all(lisst):\n",
        "  amount = 0\n",
        "  for x in lisst:\n",
        "    amount += x\n",
        "  return amount\n",
        "\n",
        "\n",
        "def arithmetic_mean(lisst):\n",
        "  summa = sum_of_all(lisst)\n",
        "  total = 0\n",
        "  for x in lisst:\n",
        "    total += 1\n",
        "  mean = summa / total\n",
        "  return mean\n",
        "\n",
        "\n",
        "def median_count(lisst):\n",
        "  if len(lisst) % 2 == 0:\n",
        "    median = (lisst[len(lisst) / 2 - 1] + lisst[len(lisst) / 2 + 1]) / 2\n",
        "  else:\n",
        "    median = lisst[len(lisst) // 2]\n",
        "  return median\n",
        "\n",
        "\n",
        "def mode_count(lisst):\n",
        "  counts = {}\n",
        "  for el in lisst:\n",
        "    if el in counts:\n",
        "      counts[el] += 1\n",
        "    else:\n",
        "      counts[el] = 1\n",
        "  max_count = 0\n",
        "  for number, count in counts.items():\n",
        "    if count > max_count:\n",
        "      max_count = count\n",
        "      mode = number\n",
        "  return mode\n",
        "\n",
        "\n",
        "\n",
        "numbers = [1, 2, 2, 3, 4, 5, 6, 7, 8 ,9 ,10]\n",
        "\n",
        "mean = arithmetic_mean(numbers)\n",
        "median = median_count(numbers)\n",
        "mode = mode_count(numbers)\n",
        "summa = sum_of_all(numbers)\n",
        "result = {'mean': mean, 'median': median, 'mode': mode, 'sum': summa}\n",
        "print(result)"
      ],
      "metadata": {
        "id": "dW6jW_rjfuba",
        "colab": {
          "base_uri": "https://localhost:8080/"
        },
        "outputId": "7b56ffc6-befc-4d33-86f5-e26eb88ba6e2"
      },
      "execution_count": null,
      "outputs": [
        {
          "output_type": "stream",
          "name": "stdout",
          "text": [
            "{'mean': 5.181818181818182, 'median': 5, 'mode': 2, 'sum': 57}\n"
          ]
        }
      ]
    },
    {
      "cell_type": "markdown",
      "source": [
        "# Задание 5\n",
        "\n",
        "На ввод поступает строка символов. Строка состоит из слов, которые отделены друг от друга пробелами. Необходимо вывести самое длинное слово и его порядковый номер.\n",
        "\n",
        "*Запрещено:*\n",
        "\n",
        "*   len()\n",
        "\n",
        "Дано:\n",
        "\n",
        "```\n",
        "Страдание и боль всегда обязательны для широкого сознания и глубокого сердца.\n",
        "\n",
        "```\n",
        "\n",
        "Вывод:\n",
        "```\n",
        "Самое длинное слово с номером 5: обязательны\n",
        "```"
      ],
      "metadata": {
        "id": "hZW0NZ7SgTcp"
      }
    },
    {
      "cell_type": "code",
      "source": [
        "def count_symbols(words):\n",
        "  count_dict = {}\n",
        "  for word in words:\n",
        "    count = 0\n",
        "    for symbol in word:\n",
        "      count += 1\n",
        "      count_dict[word] = count\n",
        "  return count_dict\n",
        "\n",
        "\n",
        "def find_max(dict_):\n",
        "  max_k = 0\n",
        "  max_v = 0\n",
        "  for k, v in dict_.items():\n",
        "    if v > max_v:\n",
        "      max_k = k\n",
        "      max_v = v\n",
        "  return max_k, max_v\n",
        "\n",
        "string = 'Страдание и боль всегда обязательны для широкого сознания и глубокого сердца.'\n",
        "words = string.split(' ')\n",
        "dict_ = count_symbols(words)\n",
        "max_word, amount = find_max(dict_)\n",
        "\n",
        "index = words.index(max_word)\n",
        "result = index + 1\n",
        "\n",
        "print(f'Самое длинное слово с номером {result}: {max_word}')"
      ],
      "metadata": {
        "id": "rC5DpHHLsDYp",
        "colab": {
          "base_uri": "https://localhost:8080/"
        },
        "outputId": "4c877b83-f3f5-47ed-96f3-951993f2ffe2"
      },
      "execution_count": null,
      "outputs": [
        {
          "output_type": "stream",
          "name": "stdout",
          "text": [
            "Самое длинное слово с номером 5: обязательны\n"
          ]
        }
      ]
    },
    {
      "cell_type": "markdown",
      "source": [
        "# Задание 6\n",
        "\n",
        "Напишите программу, для управления оценками студентов, со следующими функциями:\n",
        "\n",
        "* Добавление информации о студенте и его оценках.\n",
        "* Подсчет среднего балла студента.\n",
        "* Получение списка всех студентов с их средними баллами.\n",
        "* Поиск студента по имени и вывод его оценок и среднего балла.\n",
        "\n",
        "\n",
        "\n"
      ],
      "metadata": {
        "id": "k5BzJW5ZeaQN"
      }
    },
    {
      "cell_type": "code",
      "source": [
        "students = {}\n",
        "\n",
        "def add_info(dicct):\n",
        "  name = input('Введите имя студента: ')\n",
        "  marks = input('Введите оценки студента: ')\n",
        "  dicct[name] = marks\n",
        "  return dicct\n",
        "\n",
        "\n",
        "def count_average_score(dicct):\n",
        "  name = input('Введите имя студента: ')\n",
        "  marks_string = dicct[name]\n",
        "  marks = marks_string.split(' ')\n",
        "  summa = 0\n",
        "  amount = 0\n",
        "  for mark in marks:\n",
        "    summa += int(mark)\n",
        "    amount += 1\n",
        "  average_score = summa / amount\n",
        "  return f'Средний балл студента: {average_score}'\n",
        "\n",
        "\n",
        "def all_students_with_average_score(dicct):\n",
        "  new_dict = {}\n",
        "  for name, marks in dicct.items():\n",
        "    marks_string = dicct[name]\n",
        "    marks = marks_string.split(' ')\n",
        "    summa = 0\n",
        "    amount = 0\n",
        "    for mark in marks:\n",
        "      summa += int(mark)\n",
        "      amount += 1\n",
        "    average_score = summa / amount\n",
        "    new_dict[name] = average_score\n",
        "  return new_dict\n",
        "\n",
        "\n",
        "def student_with_average_score(dicct):\n",
        "  name = input('Введите имя студента: ')\n",
        "  print(f'Его оценки: {dicct[name]}')\n",
        "  marks_string = dicct[name]\n",
        "  marks = marks_string.split(' ')\n",
        "  summa = 0\n",
        "  amount = 0\n",
        "  for mark in marks:\n",
        "    summa += int(mark)\n",
        "    amount += 1\n",
        "  average_score = summa / amount\n",
        "  return f'Средний балл студента: {average_score}'\n",
        "\n",
        "\n",
        "print(add_info(students))\n",
        "print(add_info(students))\n",
        "print(count_average_score(students))\n",
        "print(all_students_with_average_score(students))\n",
        "print(student_with_average_score(students))"
      ],
      "metadata": {
        "id": "cvhlltVbdyoL",
        "colab": {
          "base_uri": "https://localhost:8080/"
        },
        "outputId": "dded888d-7fbd-482e-d2b8-b1172a276629"
      },
      "execution_count": null,
      "outputs": [
        {
          "output_type": "stream",
          "name": "stdout",
          "text": [
            "Введите имя студента: Ксения\n",
            "Введите оценки студента: 5 5 5 4 4 4 3 3 3\n",
            "{'Ксения': '5 5 5 4 4 4 3 3 3'}\n",
            "Введите имя студента: Мария\n",
            "Введите оценки студента: 3 4 5 3 5 5\n",
            "{'Ксения': '5 5 5 4 4 4 3 3 3', 'Мария': '3 4 5 3 5 5'}\n",
            "Введите имя студента: Мария\n",
            "Средний балл студента: 4.166666666666667\n",
            "{'Ксения': 4.0, 'Мария': 4.166666666666667}\n",
            "Введите имя студента: Ксения\n",
            "Его оценки: 5 5 5 4 4 4 3 3 3\n",
            "Средний балл студента: 4.0\n"
          ]
        }
      ]
    },
    {
      "cell_type": "markdown",
      "source": [
        "# Задание 7\n",
        "\n",
        "\n",
        "**Задача:**\n",
        "\n",
        "Создайте приложение-викторину с командной строкой, которое задает пользователям вопросы по различным темам и отслеживает их результаты.\n",
        "\n",
        "Ключевые особенности:\n",
        "\n",
        "*   Хранение данных о вопросах и ответах на них, а также баллов за каждый вопрос\n",
        "*   Реализуйте функцию для представления вопросов, принятия ответов пользователей и предоставления обратной связи о том, являются ли ответы правильными или неправильными.\n",
        "*  После завершения викторины отобразите общий балл пользователя из числа ответов на вопросы.\n",
        "*  Реализуйте функцию добавления нового вопроса\n",
        "*  Реализуйте функцию перемешивания вопросов, для отображения случайного вопроса\n"
      ],
      "metadata": {
        "id": "iQ8Z-7PYgu1_"
      }
    },
    {
      "cell_type": "code",
      "source": [
        "from random import choice as ch\n",
        "\n",
        "\n",
        "def add_new_question(dict_of_questions):\n",
        "  question = input('Введите новый вопрос: ')\n",
        "  answer = input('Введите ответ на него: ')\n",
        "  score = int(input(('Введите количество баллов за правильный ответ: ')))\n",
        "  listt = [answer, score]\n",
        "  dict_of_questions[question] = listt\n",
        "  print('Вопрос добавлен!')\n",
        "  return dict_of_questions\n",
        "\n",
        "\n",
        "def quiz(dict_of_questions, mark):\n",
        "  question = ch(list(dict_of_questions))\n",
        "  print(question)\n",
        "  answer = input('Ответ: ')\n",
        "  lisst = dict_of_questions[question]\n",
        "  right_answer = lisst[0]\n",
        "  delta_score = lisst[1]\n",
        "  if answer == right_answer:\n",
        "    mark += delta_score\n",
        "    return f'Ответ правильный! Ваш балл: {mark}'\n",
        "  else:\n",
        "    return f'Ответ неправильный! Ваш балл {mark}'\n",
        "\n",
        "\n",
        "questions = {\n",
        "             'Сколько планет в нашей Солнечной системе?' : ['Восемь', 1],\n",
        "             'Какая страна является домом для кенгуру?' : ['Австралия', 1],\n",
        "             'Кто написал «Гамлета»?' : ['Уильям Шекспир', 1],\n",
        "             'Какой супергерой может карабкаться по стенам и зданиям?' : ['Человек-паук', 1],\n",
        "             'Какой певческий голос самый высокий: сопрано, тенор или баритон?' : ['Сопрано', 2]\n",
        "             }\n",
        "score = 0\n",
        "\n",
        "print('Начинаем викторину!')\n",
        "print(quiz(questions, score))\n",
        "print('')\n",
        "print('Следующий вопрос!')\n",
        "print(quiz(questions, score))\n",
        "print('')\n",
        "print('Следующий вопрос!')\n",
        "print(quiz(questions, score))\n",
        "print('')\n",
        "print('Викторина завершена.')\n",
        "\n",
        "answer = input('Хотите ли вы добавить свой вопрос? ')\n",
        "if answer == 'да':\n",
        "  add_new_question(questions)\n",
        "else:\n",
        "  print('До новых встреч!')\n"
      ],
      "metadata": {
        "id": "DhxyYwHwh2V4",
        "colab": {
          "base_uri": "https://localhost:8080/"
        },
        "outputId": "18f8be1e-0936-4e79-c4fd-34122e3e3de5"
      },
      "execution_count": null,
      "outputs": [
        {
          "output_type": "stream",
          "name": "stdout",
          "text": [
            "Начинаем викторину!\n",
            "Какая страна является домом для кенгуру?\n",
            "Ответ: россия\n",
            "Ответ неправильный! Ваш балл 0\n",
            "\n",
            "Следующий вопрос!\n",
            "Какой певческий голос самый высокий: сопрано, тенор или баритон?\n",
            "Ответ: тенор\n",
            "Ответ неправильный! Ваш балл 0\n",
            "\n",
            "Следующий вопрос!\n",
            "Какой певческий голос самый высокий: сопрано, тенор или баритон?\n",
            "Ответ: Сопрано\n",
            "Ответ правильный! Ваш балл: 2\n",
            "\n",
            "Викторина завершена.\n",
            "Хотите ли вы добавить свой вопрос? да\n",
            "Введите новый вопрос: Когда можно отдыхать?\n",
            "Введите ответ на него: После экзаменов\n",
            "Введите количество баллов за правильный ответ: 100\n",
            "Вопрос добавлен!\n"
          ]
        }
      ]
    }
  ]
}
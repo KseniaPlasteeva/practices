{
  "nbformat": 4,
  "nbformat_minor": 0,
  "metadata": {
    "colab": {
      "provenance": []
    },
    "kernelspec": {
      "name": "python3",
      "display_name": "Python 3"
    },
    "language_info": {
      "name": "python"
    }
  },
  "cells": [
    {
      "cell_type": "markdown",
      "source": [
        "ФИО: Пластеева Ксения Евгеньевна"
      ],
      "metadata": {
        "id": "fLDS5f_mCnPa"
      }
    },
    {
      "cell_type": "markdown",
      "source": [
        "# Задание (совместное с преподавателем)\n",
        "\n",
        "\n"
      ],
      "metadata": {
        "id": "-CSHUbWzCqeM"
      }
    },
    {
      "cell_type": "markdown",
      "source": [
        "Напишите систему для учёта отпусков с возможностью узнавать, сколько дней отпуска осталось у того или иного сотрудника.\n",
        "Для этого создайте класс Employee со следующими методами:\n",
        "\n",
        "- Метод consume_vacation должен отвечать за списание дней отпуска.\n",
        "\n",
        "Единственный параметр этого метода (кроме self) — количество потраченных отпускных дней (целое число).\n",
        "\n",
        "При вызове метода consume_vacation соответствующее количество дней должно вычитаться из общего числа доступных отпускных дней сотрудника.\n",
        "\n",
        "Чтобы определить число доступных отпускных дней конкретного сотрудника, в классе опишите атрибут экземпляра |, который по умолчанию будет равен значению атрибута класса vacation_days, и используйте этот атрибут в работе метода.\n",
        "\n",
        "- Метод get_vacation_details должен возвращать остаток отпускных дней сотрудника в формате: ```Остаток отпускных дней: <число>.```\n",
        "\n",
        "\n",
        "Чтобы проверить работу программы:\n",
        "1. Создайте экземпляр класса Employee.\n",
        "2. Вызовите метод consume_vacation, указав подходящее значение аргумента, например 7.\n",
        "3. Вызовите метод get_vacation_details."
      ],
      "metadata": {
        "id": "a_flBjZOCwYz"
      }
    },
    {
      "cell_type": "code",
      "source": [
        "class Employee:\n",
        "    vacation_days = 28\n",
        "\n",
        "    def __init__(self, first_name, second_name, gender): # конструктор\n",
        "        self.first_name = first_name\n",
        "        self.second_name = second_name\n",
        "        self.gender = gender\n",
        "        self.remaining_vacation_days = vacation_days\n",
        "\n",
        "    def consume_vacation(self, days): # метод для вычитания дней\n",
        "        self.remaining_vacation_days -= days\n",
        "\n",
        "    def get_vacation_details(self):\n",
        "        return f'Остаток отпускных дней: {self.remaining_vacation_days}.'\n",
        "\n"
      ],
      "metadata": {
        "id": "G4bUraN4CwBI"
      },
      "execution_count": null,
      "outputs": []
    },
    {
      "cell_type": "markdown",
      "source": [
        "# Задание 1"
      ],
      "metadata": {
        "id": "8XGka5GtEBK1"
      }
    },
    {
      "cell_type": "markdown",
      "source": [
        "Задание:\n",
        "\n",
        "Создайте класс с именем Rectangle который имеет:\n",
        "- Атрибуты ширины и высоты.\n",
        "- Метод расчета площади.\n",
        "- Метод расчета периметра.\n",
        "- Метод отображения размеров прямоугольника.\n",
        "\n",
        "Создайте экземпляр класса Rectangleи продемонстрируйте его функциональность."
      ],
      "metadata": {
        "id": "jQ4qqd8nEZBY"
      }
    },
    {
      "cell_type": "code",
      "source": [
        "class Rectangle:\n",
        "\n",
        "  def __init__(self, width, height):\n",
        "    self.width = width\n",
        "    self.height = height\n",
        "\n",
        "  def square_count(self):\n",
        "    square = self.width * self.height\n",
        "    return square\n",
        "\n",
        "  def perimeter_count(self):\n",
        "    perimeter = 2 * (self.width + self.height)\n",
        "    return perimeter\n",
        "\n",
        "  def show_size(self):\n",
        "    return f'Размеры прямоугольника: {self.width} и {self.height}.'\n",
        "\n"
      ],
      "metadata": {
        "id": "dG6uNPqTEAvt",
        "colab": {
          "base_uri": "https://localhost:8080/"
        },
        "outputId": "3c77efe5-88d5-4b26-b025-16acfc262384"
      },
      "execution_count": null,
      "outputs": [
        {
          "output_type": "stream",
          "name": "stdout",
          "text": [
            "72\n",
            "44\n",
            "Размеры прямоугольника: 18 и 4.\n"
          ]
        }
      ]
    },
    {
      "cell_type": "code",
      "source": [
        "some_figure = Rectangle(18,4) # создаем объект класса\n",
        "print(some_figure.square_count()) #площадь\n",
        "print(some_figure.perimeter_count()) #  периметр\n",
        "print(some_figure.show_size()) # сообщение с размерами"
      ],
      "metadata": {
        "colab": {
          "base_uri": "https://localhost:8080/"
        },
        "id": "nl5PmV-cwaWK",
        "outputId": "f8288acc-d517-4e89-96a6-b6696ef14399"
      },
      "execution_count": null,
      "outputs": [
        {
          "output_type": "stream",
          "name": "stdout",
          "text": [
            "72\n",
            "44\n",
            "Размеры прямоугольника: 18 и 4.\n"
          ]
        }
      ]
    },
    {
      "cell_type": "code",
      "source": [
        "some_figure2 = Rectangle(8,14) # создаем объект класса\n",
        "print(some_figure2.square_count()) #площадь\n",
        "print(some_figure2.perimeter_count()) #  периметр\n",
        "print(some_figure2.show_size()) # сообщение с размерами"
      ],
      "metadata": {
        "colab": {
          "base_uri": "https://localhost:8080/"
        },
        "id": "_c4EXlZnwara",
        "outputId": "156bcfd3-5a57-42cb-d519-f91b861b7652"
      },
      "execution_count": null,
      "outputs": [
        {
          "output_type": "stream",
          "name": "stdout",
          "text": [
            "112\n",
            "44\n",
            "Размеры прямоугольника: 8 и 14.\n"
          ]
        }
      ]
    },
    {
      "cell_type": "markdown",
      "source": [
        "# Задание 2"
      ],
      "metadata": {
        "id": "0ct1u6lqE73j"
      }
    },
    {
      "cell_type": "markdown",
      "source": [
        "Задание: Создайте мини версию банковской системы:\n",
        "\n",
        "\n",
        "Инструкции:\n",
        "\n",
        "1. Создайте класс BankAccountсо следующими атрибутами:\n",
        "    - account_holder -  владелец счета\n",
        "    - balance - баланс счета\n",
        "\n",
        "2. Реализуйте следующие методы:\n",
        "    - Метод для инициализации владельца счета: имя владельца счета и установите начальный баланс на 0.\n",
        "    - deposit(amount): Добавьте указанную сумму к балансу.\n",
        "    - withdraw(amount): Вычесть указанную сумму из баланса, если средств достаточно; в противном случае вывести предупреждение.\n",
        "    - get_balance(): Возврат текущего баланса.\n",
        "\n",
        "\n",
        "Создайте объект класса и продемонстрируйте его возможности"
      ],
      "metadata": {
        "id": "FOpIpcLxE-WK"
      }
    },
    {
      "cell_type": "code",
      "source": [
        "class BankAccountco:\n",
        "\n",
        "  def __init__(self, account_holder, balance):\n",
        "    self.account_holder = account_holder\n",
        "    self.balance = balance\n",
        "\n",
        "  def withdraw(self):\n",
        "    amount = int(input('Какую сумму хотите вычесть? '))\n",
        "    if amount > self.balance:\n",
        "      return f'Указанная сумма больше баланса. Вывод невозможен.'\n",
        "    else:\n",
        "      self.balance -= amount\n",
        "      return f'Баланс: {self.balance}'\n",
        "\n",
        "  def deposit(self):\n",
        "    amount = int(input('Какую сумму хотите добавить? '))\n",
        "    self.balance += amount\n",
        "    return f'Баланс: {self.balance}'\n",
        "\n",
        "  def get_balance(self):\n",
        "    return f'Баланс клиента {self.account_holder} : {self.balance}'\n",
        "\n",
        "\n",
        "client = BankAccountco('Юлия', 0)\n",
        "print(client.deposit())\n",
        "print(client.withdraw())\n",
        "print(client.get_balance())\n"
      ],
      "metadata": {
        "id": "WWXNIUrCE99W",
        "colab": {
          "base_uri": "https://localhost:8080/"
        },
        "outputId": "b14eca5e-1684-4d67-ccc2-6b410ceed3af"
      },
      "execution_count": null,
      "outputs": [
        {
          "output_type": "stream",
          "name": "stdout",
          "text": [
            "Какую сумму хотите добавить? 5000\n",
            "Баланс: 5000\n",
            "Какую сумму хотите вычесть? 674\n",
            "Баланс: 4326\n",
            "Баланс клиента Юлия : 4326\n"
          ]
        }
      ]
    },
    {
      "cell_type": "markdown",
      "source": [
        "# Задание 3"
      ],
      "metadata": {
        "id": "C5DX5Uf2FfP6"
      }
    },
    {
      "cell_type": "markdown",
      "source": [
        "Возьмите код и задание (Рыцарь и дракон) из предыдущей практики и реализуйте его с применением классов"
      ],
      "metadata": {
        "id": "0cR-MYepFgz6"
      }
    },
    {
      "cell_type": "code",
      "source": [
        "from random import randint as rnd\n",
        "\n",
        "class Player:\n",
        "\n",
        "  def __init__(self, name, armor, weapon):\n",
        "    self.name = name\n",
        "    self.armor = armor\n",
        "    self.weapon = weapon\n",
        "\n",
        "  def defenition_of_health_and_damage(self):\n",
        "    if armor == 1 and weapon == 1:\n",
        "      health = 125\n",
        "      damage = 15\n",
        "    elif armor == 2 and weapon == 1:\n",
        "      health = 75\n",
        "      damage = 25\n",
        "    elif armor == 1 and weapon == 2:\n",
        "      health = 125\n",
        "      damage = 25\n",
        "    elif armor == 2 and weapon == 2:\n",
        "      health = 125\n",
        "      damage = 35\n",
        "    print(f'Ваш максимальный урон: {damage}, здоровье: {health}.')\n",
        "    return health, damage\n",
        "\n",
        "\n",
        "def fight(d_name, d_health, d_damage, p_health, p_damage):\n",
        "  print('Вы замечаете дракона по имени', d_name)\n",
        "  print('Его характеристики: здоровье', d_health, ', максимальный урон', d_damage)\n",
        "  print('Вам предстоит сразиться с ним. Битва начинается!')\n",
        "  print()\n",
        "  while p_health > 0 and d_health > 0:\n",
        "    print('Ваша очередь бить')\n",
        "    tap = input('Нажмите любую клавишу, если готовы ')\n",
        "    delta_1 = rnd(10, p_damage)\n",
        "    d_health = d_health - delta_1\n",
        "    print('Вам удалось нанести дракону урон! Теперь его здоровье равно', d_health)\n",
        "    print('Теперь бьёт дракон')\n",
        "    delta_2 = rnd(10, d_damage)\n",
        "    p_health = p_health - delta_2\n",
        "    print('Своим ударом дракон понижает ваше здоровье до', p_health)\n",
        "    print()\n",
        "  if d_health <= 0:\n",
        "    print('Поздравляем! Дракон побеждён')\n",
        "  elif p_health <= 0:\n",
        "    print('Вам не удалось победить дракона. Возможно, получится в следующий раз)')\n",
        "\n",
        "\n",
        "print('Добро пожаловать в игру Рыцарь и Дракон!')   # Начало игры\n",
        "\n",
        "name_player = input('Введите имя персонажа: ')\n",
        "armor = int(input('Выберите доспехи (1 - цельные, 2 - подвижно-составные): '))\n",
        "weapon = int(input('Выберите оружие (1 - холодное, 2 - огнестрельное): '))\n",
        "\n",
        "player1 = Player(name_player, armor, weapon)\n",
        "health_p, damage_p = player1.defenition_of_health_and_damage()\n",
        "\n",
        "print()\n",
        "print('Вы - персонаж по имени', name_player, '- движетесь по тёмному лесу.')\n",
        "print('Неожиданно тропинка разделяется.')\n",
        "way = input('Стоит повернуть налево или направо? ')\n",
        "print()\n",
        "\n",
        "if way == 'налево':\n",
        "  print('Вы решаете свернуть налево.')\n",
        "  print('После долгих скитайний по темноте Вы находите водоём. В котором ...')\n",
        "  name_dragon = 'Левиафан'\n",
        "  health_d = 100\n",
        "  damage_d = 25\n",
        "  fight(name_dragon, health_d, damage_d, health_p, damage_p)\n",
        "elif way == 'направо':\n",
        "  print('Вы решаете свернуть направо.')\n",
        "  print('Преодолев болото, Вы продолжаете свой путь.')\n",
        "  print('Как вдруг проваливаетесь в пещеру, в которой ...')\n",
        "  name_dragon = 'Нидхёгг'\n",
        "  health_d = 125\n",
        "  damage_d = 30\n",
        "  fight(name_dragon, health_d, damage_d, health_p, damage_p)"
      ],
      "metadata": {
        "id": "Oz9BZbhAFwua",
        "colab": {
          "base_uri": "https://localhost:8080/"
        },
        "outputId": "63ad4cd8-febc-47c7-87c4-8d80218bd6ed"
      },
      "execution_count": null,
      "outputs": [
        {
          "output_type": "stream",
          "name": "stdout",
          "text": [
            "Добро пожаловать в игру Рыцарь и Дракон!\n",
            "Введите имя персонажа: trges\n",
            "Выберите доспехи (1 - цельные, 2 - подвижно-составные): 1\n",
            "Выберите оружие (1 - холодное, 2 - огнестрельное): 1\n",
            "Ваш максимальный урон: 15, здоровье: 125.\n",
            "\n",
            "Вы - персонаж по имени trges - движетесь по тёмному лесу.\n",
            "Неожиданно тропинка разделяется.\n",
            "Стоит повернуть налево или направо? налево\n",
            "\n",
            "Вы решаете свернуть налево.\n",
            "После долгих скитайний по темноте Вы находите водоём. В котором ...\n",
            "Вы замечаете дракона по имени Левиафан\n",
            "Его характеристики: здоровье 100 , максимальный урон 25\n",
            "Вам предстоит сразиться с ним. Битва начинается!\n",
            "\n",
            "Ваша очередь бить\n",
            "Нажмите любую клавишу, если готовы р\n",
            "Вам удалось нанести дракону урон! Теперь его здоровье равно 90\n",
            "Теперь бьёт дракон\n",
            "Своим ударом дракон понижает ваше здоровье до 104\n",
            "\n",
            "Ваша очередь бить\n",
            "Нажмите любую клавишу, если готовы г\n",
            "Вам удалось нанести дракону урон! Теперь его здоровье равно 76\n",
            "Теперь бьёт дракон\n",
            "Своим ударом дракон понижает ваше здоровье до 94\n",
            "\n",
            "Ваша очередь бить\n",
            "Нажмите любую клавишу, если готовы г\n",
            "Вам удалось нанести дракону урон! Теперь его здоровье равно 64\n",
            "Теперь бьёт дракон\n",
            "Своим ударом дракон понижает ваше здоровье до 71\n",
            "\n",
            "Ваша очередь бить\n",
            "Нажмите любую клавишу, если готовы г\n",
            "Вам удалось нанести дракону урон! Теперь его здоровье равно 51\n",
            "Теперь бьёт дракон\n",
            "Своим ударом дракон понижает ваше здоровье до 60\n",
            "\n",
            "Ваша очередь бить\n",
            "Нажмите любую клавишу, если готовы г\n",
            "Вам удалось нанести дракону урон! Теперь его здоровье равно 41\n",
            "Теперь бьёт дракон\n",
            "Своим ударом дракон понижает ваше здоровье до 39\n",
            "\n",
            "Ваша очередь бить\n",
            "Нажмите любую клавишу, если готовы г\n",
            "Вам удалось нанести дракону урон! Теперь его здоровье равно 28\n",
            "Теперь бьёт дракон\n",
            "Своим ударом дракон понижает ваше здоровье до 28\n",
            "\n",
            "Ваша очередь бить\n",
            "Нажмите любую клавишу, если готовы г\n",
            "Вам удалось нанести дракону урон! Теперь его здоровье равно 15\n",
            "Теперь бьёт дракон\n",
            "Своим ударом дракон понижает ваше здоровье до 12\n",
            "\n",
            "Ваша очередь бить\n",
            "Нажмите любую клавишу, если готовы г\n",
            "Вам удалось нанести дракону урон! Теперь его здоровье равно 0\n",
            "Теперь бьёт дракон\n",
            "Своим ударом дракон понижает ваше здоровье до -2\n",
            "\n",
            "Поздравляем! Дракон побеждён\n"
          ]
        }
      ]
    },
    {
      "cell_type": "markdown",
      "source": [
        "# Дополнительное задание\n"
      ],
      "metadata": {
        "id": "b_mJHXcQGI9t"
      }
    },
    {
      "cell_type": "markdown",
      "source": [
        "Задача: Система управления библиотекой\n",
        "\n",
        "**Цель**\n",
        "Создайте простую систему управления библиотекой, которая позволит пользователям добавлять книги, брать книги, возвращать книги и просматривать список доступных книг.\n",
        "\n",
        "**Требования**\n",
        "\n",
        "1. **Определение класса**:\n",
        "   – Создайте класс с именем «Book» со следующими атрибутами:\n",
        "     - `title`\n",
        "     - `автор`\n",
        "     - `isbn`\n",
        "     - `is_borrowed` (по умолчанию `False`)\n",
        "\n",
        "2. **Класс библиотеки**:\n",
        "   - Создайте класс с именем Library, который управляет коллекцией книг.\n",
        "   - Класс должен иметь следующие методы:\n",
        "     - `__init__(self)`: инициализирует пустой список книг.\n",
        "     - `add_book(self, book: Book)`: добавляет новую книгу в библиотеку.\n",
        "     - `borrow_book(self, isbn: str)`: помечает книгу как заимствованную. Если книга не найдена или уже взята, выведите соответствующее сообщение.\n",
        "     - `return_book(self, isbn: str)`: помечает книгу как возвращенную. Если книга не найдена или не была взята взаймы, выведите соответствующее сообщение.\n",
        "     - `list_available_books(self)`: печатает список всех доступных книг в библиотеке.\n",
        "     - `find_book(self, isbn: str)`: возвращает объект книги, если он найден, в противном случае возвращает `None`.\n",
        "\n",
        "3. **Взаимодействие с пользователем**:\n",
        "   - Создайте простое текстовое меню, которое позволит пользователям:\n",
        "     - Добавить книгу\n",
        "     - Одолжить книгу\n",
        "     - Вернуть книгу\n",
        "     - Список доступных книг\n",
        "     - Выйти из программы"
      ],
      "metadata": {
        "id": "pnIUdFPcGOVL"
      }
    },
    {
      "cell_type": "code",
      "source": [],
      "metadata": {
        "id": "GKKmdfN8GL6f"
      },
      "execution_count": null,
      "outputs": []
    }
  ]
}
{
  "nbformat": 4,
  "nbformat_minor": 0,
  "metadata": {
    "colab": {
      "provenance": []
    },
    "kernelspec": {
      "name": "python3",
      "display_name": "Python 3"
    },
    "language_info": {
      "name": "python"
    }
  },
  "cells": [
    {
      "cell_type": "markdown",
      "source": [
        "**ФИО:**"
      ],
      "metadata": {
        "id": "GEsFKJm-ABFp"
      }
    },
    {
      "cell_type": "code",
      "execution_count": null,
      "metadata": {
        "id": "wZMLYG_G_-19"
      },
      "outputs": [],
      "source": [
        "Пластеева Ксения Евгеньевна"
      ]
    },
    {
      "cell_type": "markdown",
      "source": [
        "# Задание 1"
      ],
      "metadata": {
        "id": "H4DrYnJjADuZ"
      }
    },
    {
      "cell_type": "markdown",
      "source": [
        "**Описание:** Создайте иерархию классов для разных типов сотрудников в компании. Реализуйте родительский класс Employee и дочерние классы Manager и Developer. Каждый класс должен иметь метод для расчета зарплаты на основе различных критериев класса.\n",
        "\n",
        "\n",
        "Отрабатываемый принцип: Наследование\n",
        "\n"
      ],
      "metadata": {
        "id": "C17FWep-AF4a"
      }
    },
    {
      "cell_type": "code",
      "source": [
        "class Employee:\n",
        "\n",
        "  def __init__(self, name, employee_id, base_salary):\n",
        "    self.name = name\n",
        "    self.employee_id = employee_id\n",
        "    self.base_salary = base_salary\n",
        "\n",
        "  def calculate_salary(self):\n",
        "    return self.base_salary\n",
        "\n",
        "\n",
        "class Manager(Employee):\n",
        "\n",
        "  def __init__(self, name, employee_id, base_salary, bonus_percentage):\n",
        "    super().__init__(name, employee_id, base_salary)\n",
        "    self.bonus_percentage = bonus_percentage\n",
        "\n",
        "  def calculate_salary(self):\n",
        "    bonus = self.base_salary * (self.bonus_percentage / 100)\n",
        "    return self.base_salary + bonus\n",
        "\n",
        "\n",
        "class Developer(Employee):\n",
        "\n",
        "  def __init__(self, name, employee_id, base_salary, overtime_hours, hourly_rate):\n",
        "    super().__init__(name, employee_id, base_salary)\n",
        "    self.overtime_hours = overtime_hours\n",
        "    self.hourly_rate = hourly_rate\n",
        "\n",
        "  def calculate_salary(self):\n",
        "    overtime_pay = self.overtime_hours * self.hourly_rate\n",
        "    return self.base_salary + overtime_pay\n",
        "\n",
        "\n",
        "\n",
        "employee1 = Employee(\"Иван Иванов\", 101, 60000)\n",
        "manager1 = Manager(\"Петр Петров\", 201, 80000, 15)\n",
        "developer1 = Developer(\"Анна Сидорова\", 301, 70000, 20, 500)\n",
        "\n",
        "print(employee1)\n",
        "print(f\"  Зарплата: {employee1.calculate_salary()}\")\n",
        "\n",
        "print(manager1)\n",
        "print(f\"  Зарплата: {manager1.calculate_salary()}\")\n",
        "\n",
        "print(developer1)\n",
        "print(f\"  Зарплата: {developer1.calculate_salary()}\")"
      ],
      "metadata": {
        "colab": {
          "base_uri": "https://localhost:8080/"
        },
        "id": "kAM95j78MdzU",
        "outputId": "5dbd0b97-1fe4-4e4b-d389-e3ab88e3b827"
      },
      "execution_count": null,
      "outputs": [
        {
          "output_type": "stream",
          "name": "stdout",
          "text": [
            "<__main__.Employee object at 0x7f21907bdc60>\n",
            "  Зарплата: 60000\n",
            "<__main__.Manager object at 0x7f21907bdc00>\n",
            "  Зарплата: 92000.0\n",
            "<__main__.Developer object at 0x7f21907bdea0>\n",
            "  Зарплата: 80000\n"
          ]
        }
      ]
    },
    {
      "cell_type": "markdown",
      "source": [
        "# Задание 2"
      ],
      "metadata": {
        "id": "ERAi0TG5BI6v"
      }
    },
    {
      "cell_type": "markdown",
      "source": [
        "**Описание:** Создайте иерархию классов для различных типов транспортных средств (Необходим один родительский класс и 3 дочерних). Реализуйте метод, который позволяет каждому транспортному средству возвращать собственное описание (Метод в каждом классе должен иметь одинаковое название). Продемонстрируйте вызов данного метода для каждого транспортного средства.\n",
        "\n",
        "\n",
        "Отрабатываемый принцип: Полиморфизм"
      ],
      "metadata": {
        "id": "sJ3k7ZcgBK87"
      }
    },
    {
      "cell_type": "code",
      "source": [
        "class Vehicle:\n",
        "\n",
        "  def __init__(self, model, color, year):\n",
        "    self.model = model\n",
        "    self.color = color\n",
        "    self.year = year\n",
        "\n",
        "  def describe(self):\n",
        "    return f'Транспортное средство: {self.model}, Цвет: {self.color}, Год: {self.year}'\n",
        "\n",
        "\n",
        "class Car(Vehicle):\n",
        "\n",
        "  def __init__(self, model, color, year, num_doors):\n",
        "    super().__init__(model, color, year)\n",
        "    self.num_doors = num_doors\n",
        "\n",
        "  def describe(self):\n",
        "    return f'Автомобиль: {self.model}, Цвет: {self.color}, Год: {self.year}, Кол-во дверей: {self.num_doors}'\n",
        "\n",
        "\n",
        "class Motorcycle(Vehicle):\n",
        "\n",
        "  def __init__(self, model, color, year, engine_type):\n",
        "    super().__init__(model, color, year)\n",
        "    self.engine_type = engine_type\n",
        "\n",
        "  def describe(self):\n",
        "    return f'Мотоцикл: {self.model}, Цвет: {self.color}, Год: {self.year}, Тип двигателя: {self.engine_type}'\n",
        "\n",
        "\n",
        "class Bicycle(Vehicle):\n",
        "\n",
        "  def __init__(self, model, color, year, typee):\n",
        "    super().__init__(model, color, year)\n",
        "    self.typee = typee\n",
        "\n",
        "  def describe(self):\n",
        "    return f'Велосипед: {self.model}, Цвет: {self.color}, Год: {self.year}, Тип: {self.typee}'\n",
        "\n",
        "\n",
        "vehicle = Vehicle(\"Generic Vehicle\", \"Black\", 2023)\n",
        "car = Car(\"Toyota Camry\", \"Silver\", 2022, 4)\n",
        "motorcycle = Motorcycle(\"Honda CBR\", \"Red\", 2021, \"Inline-4\")\n",
        "bicycle = Bicycle(\"Mountain Bike\", \"Blue\", 2020, \"Mountain\")\n",
        "\n",
        "\n",
        "print(vehicle.describe())\n",
        "print(car.describe())\n",
        "print(motorcycle.describe())\n",
        "print(bicycle.describe())"
      ],
      "metadata": {
        "id": "WOFOZQmDBKf4",
        "colab": {
          "base_uri": "https://localhost:8080/"
        },
        "outputId": "95bf237d-d29e-44bd-da50-3f1f9f1c6249"
      },
      "execution_count": null,
      "outputs": [
        {
          "output_type": "stream",
          "name": "stdout",
          "text": [
            "Транспортное средство: Generic Vehicle, Цвет: Black, Год: 2023\n",
            "Автомобиль: Toyota Camry, Цвет: Silver, Год: 2022, Кол-во дверей: 4\n",
            "Мотоцикл: Honda CBR, Цвет: Red, Год: 2021, Тип двигателя: Inline-4\n",
            "Велосипед: Mountain Bike, Цвет: Blue, Год: 2020, Тип: Mountain\n"
          ]
        }
      ]
    },
    {
      "cell_type": "markdown",
      "source": [
        "# Задание 3"
      ],
      "metadata": {
        "id": "7E_SJXMJBvD4"
      }
    },
    {
      "cell_type": "markdown",
      "source": [
        "Онлайн-магазин:\n",
        "- Создайте модель для онлайн-магазина с классами Product, Order, Customer, и ShoppingCart.\n",
        "- Product включает информацию о цене, наличии на складе и категории товара.\n",
        "Order обрабатывает процесс покупки, включая расчет цены с учетом скидок и налогов.\n",
        "- Customer управляет информацией о пользователе и его истории заказов.\n",
        "- ShoppingCart позволяет добавлять, удалять и обновлять количество товаров перед оформлением заказа.\n"
      ],
      "metadata": {
        "id": "dd1mwKj_BxHa"
      }
    },
    {
      "cell_type": "code",
      "source": [
        "class Product:\n",
        "\n",
        "    def __init__(self, product_id, name, price, stock, category):\n",
        "        self.product_id = product_id\n",
        "        self.name = name\n",
        "        self.price = price\n",
        "        self.stock = stock\n",
        "        self.category = category\n",
        "\n",
        "    def __str__(self):\n",
        "        return f'ID: {self.product_id}, Название: {self.name}, Цена: {self.price}, Остаток: {self.stock}, Категория: {self.category}'\n",
        "\n",
        "\n",
        "class Order:\n",
        "\n",
        "    def __init__(self, order_id, customer):\n",
        "        self.order_id = order_id\n",
        "        self.customer = customer\n",
        "        self.items = []\n",
        "        self.total_amount = 0.0\n",
        "\n",
        "    def add_item(self, product, quantity):\n",
        "        if product.stock >= quantity:\n",
        "            self.items.append({'product': product, 'quantity': quantity})\n",
        "            product.stock -= quantity\n",
        "            self.calculate_total()\n",
        "            print(f'Добавлен товар {product.name} в количестве {quantity}. Остаток на складе: {product.stock}')\n",
        "        else:\n",
        "            print(f'Недостаточно товара {product.name} на складе. Остаток: {product.stock}')\n",
        "\n",
        "    def remove_item(self, product, quantity):\n",
        "        for item in self.items:\n",
        "            if item['product'].product_id == product.product_id:\n",
        "                if item['quantity'] <= quantity:\n",
        "                    self.items.remove(item)\n",
        "                    product.stock += item['quantity']\n",
        "                    print(f'Товар {product.name} удален из заказа. Возвращено на склад {item[\"quantity\"]}. Остаток: {product.stock}')\n",
        "                    self.calculate_total()\n",
        "                    return\n",
        "                else:\n",
        "                    item['quantity'] -= quantity\n",
        "                    product.stock += quantity\n",
        "                    self.calculate_total()\n",
        "                    print(f'Количество товара {product.name} уменьшено на {quantity}. Остаток на складе: {product.stock}')\n",
        "                    return\n",
        "        print (f'Товар {product.name} не найден в заказе.')\n",
        "\n",
        "    def calculate_total(self):\n",
        "        self.total_amount = 0.0\n",
        "        for item in self.items:\n",
        "            self.total_amount += item['product'].price * item['quantity']\n",
        "\n",
        "    def apply_discount(self, discount_rate):\n",
        "        self.total_amount -= self.total_amount * discount_rate\n",
        "        print(f'Применена скидка {discount_rate*100}%')\n",
        "\n",
        "    def apply_tax(self, tax_rate):\n",
        "        self.total_amount += self.total_amount * tax_rate\n",
        "        print(f'Применен налог {tax_rate*100}%')\n",
        "\n",
        "    def __str__(self):\n",
        "        return f'Заказ ID: {self.order_id}, Покупатель: {self.customer.name}, Всего товаров: {len(self.items)}, Общая стоимость: {self.total_amount}'\n",
        "\n",
        "\n",
        "class Customer:\n",
        "\n",
        "    def __init__(self, customer_id, name):\n",
        "        self.customer_id = customer_id\n",
        "        self.name = name\n",
        "        self.order_history = []\n",
        "\n",
        "    def add_order(self, order):\n",
        "        self.order_history.append(order)\n",
        "\n",
        "    def __str__(self):\n",
        "        return f'ID: {self.customer_id}, Имя: {self.name}, Заказов: {len(self.order_history)}'\n",
        "\n",
        "\n",
        "class ShoppingCart:\n",
        "\n",
        "    def __init__(self, customer):\n",
        "        self.customer = customer\n",
        "        self.items = {}\n",
        "\n",
        "    def add_item(self, product, quantity):\n",
        "        if product.product_id in self.items:\n",
        "            self.items[product.product_id] += quantity\n",
        "            print(f'Количество {product.name} в корзине увеличено до {self.items[product.product_id]}.')\n",
        "        else:\n",
        "            self.items[product.product_id] = quantity\n",
        "            print(f'Товар {product.name} в количестве {quantity} добавлен в корзину.')\n",
        "\n",
        "    def remove_item(self, product, quantity):\n",
        "        if product.product_id in self.items:\n",
        "            if self.items[product.product_id] <= quantity:\n",
        "                del self.items[product.product_id]\n",
        "                print (f'Товар {product.name} удален из корзины.')\n",
        "            else:\n",
        "                self.items[product.product_id] -= quantity\n",
        "                print (f'Количество товара {product.name} уменьшено на {quantity}. Остаток в корзине {self.items[product.product_id]}')\n",
        "        else:\n",
        "            print (f'Товар {product.name} не найден в корзине.')\n",
        "\n",
        "    def update_quantity(self, product, quantity):\n",
        "        if product.product_id in self.items:\n",
        "            self.items[product.product_id] = quantity\n",
        "            print (f'Количество товара {product.name} обновлено до {quantity}.')\n",
        "        else:\n",
        "            print (f'Товар {product.name} не найден в корзине.')\n",
        "\n",
        "    def clear_cart(self):\n",
        "        self.items = {}\n",
        "        print('Корзина очищена')\n",
        "\n",
        "    def create_order(self, order_id):\n",
        "        order = Order(order_id, self.customer)\n",
        "        for product_id, quantity in self.items.items():\n",
        "            product = None\n",
        "            for prod in products:\n",
        "                if prod.product_id == product_id:\n",
        "                    product = prod\n",
        "                    break\n",
        "            if product:\n",
        "                order.add_item(product, quantity)\n",
        "            else:\n",
        "                print(f'Товар с ID {product_id} не найден и не добавлен в заказ.')\n",
        "\n",
        "        self.customer.add_order(order)\n",
        "        self.clear_cart()\n",
        "        return order\n",
        "\n",
        "\n",
        "products = [\n",
        "    Product(1, 'Планшет', 120000.00, 17, 'Electronics'),\n",
        "    Product(2, 'Телефон', 80000.00, 1, 'Electronics'),\n",
        "    Product(3, 'Футболка', 250.00, 50, 'Clothing'),\n",
        "    Product(4, 'Штаны', 750.00, 30, 'Clothing')\n",
        "    ]\n",
        "customer = Customer(101, 'Мария')\n",
        "cart = ShoppingCart(customer)\n",
        "cart.add_item(products[0], 2)\n",
        "cart.add_item(products[2], 3)\n",
        "cart.add_item(products[1], 50)\n",
        "cart.remove_item(products[0], 1)\n",
        "cart.remove_item(products[3], 1)\n",
        "cart.update_quantity(products[2], 5)\n",
        "order = cart.create_order(201)\n",
        "order.apply_discount(0.10)\n",
        "order.apply_tax(0.05)\n",
        "print(order)\n",
        "print(customer)\n",
        "for product in products:\n",
        "    print(product)"
      ],
      "metadata": {
        "id": "wkCcv_K-Bwdv",
        "colab": {
          "base_uri": "https://localhost:8080/"
        },
        "outputId": "1c812d0b-7689-448d-c7ea-89e1c456fa8e"
      },
      "execution_count": null,
      "outputs": [
        {
          "output_type": "stream",
          "name": "stdout",
          "text": [
            "Товар Планшет в количестве 2 добавлен в корзину.\n",
            "Товар Футболка в количестве 3 добавлен в корзину.\n",
            "Товар Телефон в количестве 50 добавлен в корзину.\n",
            "Количество товара Планшет уменьшено на 1. Остаток в корзине 1\n",
            "Товар Штаны не найден в корзине.\n",
            "Количество товара Футболка обновлено до 5.\n",
            "Добавлен товар Планшет в количестве 1. Остаток на складе: 16\n",
            "Добавлен товар Футболка в количестве 5. Остаток на складе: 45\n",
            "Недостаточно товара Телефон на складе. Остаток: 1\n",
            "Корзина очищена\n",
            "Применена скидка 10.0%\n",
            "Применен налог 5.0%\n",
            "Заказ ID: 201, Покупатель: Мария, Всего товаров: 2, Общая стоимость: 114581.25\n",
            "ID: 101, Имя: Мария, Заказов: 1\n",
            "ID: 1, Название: Планшет, Цена: 120000.0, Остаток: 16, Категория: Electronics\n",
            "ID: 2, Название: Телефон, Цена: 80000.0, Остаток: 1, Категория: Electronics\n",
            "ID: 3, Название: Футболка, Цена: 250.0, Остаток: 45, Категория: Clothing\n",
            "ID: 4, Название: Штаны, Цена: 750.0, Остаток: 30, Категория: Clothing\n"
          ]
        }
      ]
    },
    {
      "cell_type": "markdown",
      "source": [
        "# Задание 4"
      ],
      "metadata": {
        "id": "ih7iPlYfB7lL"
      }
    },
    {
      "cell_type": "markdown",
      "source": [
        "Симулятор космического корабля:\n",
        "- Создайте симулятор управления космическим кораблем с классами SpaceShip, CrewMember, и Mission.\n",
        "- SpaceShip имеет атрибуты для управления топливом, состоянием корпуса, и текущей скоростью.\n",
        "- CrewMember контролирует здоровье, навыки, и роли в команде (например, пилот, инженер).\n",
        "- Mission определяет цели, ресурсы, и возможные события (например, аварии, встречи с астероидами)."
      ],
      "metadata": {
        "id": "zLwqVCbpCBvc"
      }
    },
    {
      "cell_type": "code",
      "source": [
        "import random\n",
        "\n",
        "class SpaceShip:\n",
        "    def __init__(self, model_name, fuel_capacity_value, hull_strength_value):\n",
        "        self.model = model_name\n",
        "        self.fuel_capacity = fuel_capacity_value\n",
        "        self.hull_strength = hull_strength_value\n",
        "        self.fuel_level = fuel_capacity_value\n",
        "        self.hull_condition = hull_strength_value\n",
        "        self.speed = 0\n",
        "\n",
        "    def accelerate(self, acceleration_rate_value):\n",
        "        if self.fuel_level > 0:\n",
        "            fuel_consumption_value = acceleration_rate_value * 2\n",
        "            if self.fuel_level >= fuel_consumption_value:\n",
        "                self.speed += acceleration_rate_value\n",
        "                self.fuel_level -= fuel_consumption_value\n",
        "                print(f'Корабль ускорен. Скорость: {self.speed}. Топливо: {self.fuel_level}/{self.fuel_capacity}')\n",
        "            else:\n",
        "                print(f'Недостаточно топлива для ускорения. Топливо: {self.fuel_level}/{self.fuel_capacity}')\n",
        "        else:\n",
        "            print('Топливо закончилось. Ускорение невозможно.')\n",
        "\n",
        "    def decelerate(self, deceleration_rate_value):\n",
        "        if self.speed > 0:\n",
        "            self.speed = max(0, self.speed - deceleration_rate_value)\n",
        "            print(f'Корабль замедлен. Скорость: {self.speed}')\n",
        "        else:\n",
        "            print('Скорость равна нулю. Замедление невозможно.')\n",
        "\n",
        "    def repair_hull(self, repair_amount_value):\n",
        "         self.hull_condition = min(self.hull_strength, self.hull_condition + repair_amount_value)\n",
        "         print(f'Корпус корабля восстановлен. Состояние: {self.hull_condition}/{self.hull_strength}')\n",
        "\n",
        "    def take_damage(self, damage_amount_value):\n",
        "        self.hull_condition = max(0, self.hull_condition - damage_amount_value)\n",
        "        print(f'Корабль получил повреждения. Состояние корпуса: {self.hull_condition}/{self.hull_strength}')\n",
        "\n",
        "    def refuel(self, refuel_amount_value):\n",
        "        self.fuel_level = min(self.fuel_capacity, self.fuel_level + refuel_amount_value)\n",
        "        print(f'Топливо пополнено. Топливо: {self.fuel_level}/{self.fuel_capacity}')\n",
        "\n",
        "    def __str__(self):\n",
        "        return f'Модель: {self.model}, Топливо: {self.fuel_level}/{self.fuel_capacity}, Прочность: {self.hull_condition}/{self.hull_strength}, Скорость: {self.speed}'\n",
        "\n",
        "\n",
        "class CrewMember:\n",
        "    def __init__(self, member_name, member_role, member_health=100, member_skills=None):\n",
        "        self.name = member_name\n",
        "        self.role = member_role\n",
        "        self.health = member_health\n",
        "        self.skills = member_skills if member_skills else {}\n",
        "\n",
        "    def perform_task(self, task_name_value):\n",
        "        if self.health > 0:\n",
        "            skill_check_value = random.randint(1, 100)\n",
        "            if skill_check_value > 20:\n",
        "                health_damage_value = random.randint(0, 10)\n",
        "                self.health -= health_damage_value\n",
        "                print(f'Член экипажа {self.name} выполняет {task_name_value}. Здоровье: {self.health}')\n",
        "            else:\n",
        "                 print(f'Член экипажа {self.name} не смог выполнить {task_name_value}. Здоровье не изменилось')\n",
        "        else:\n",
        "             print(f'Член экипажа {self.name} не может выполнить {task_name_value}. Здоровье = 0')\n",
        "\n",
        "\n",
        "    def __str__(self):\n",
        "        return f'Имя: {self.name}, Роль: {self.role}, Здоровье: {self.health}, Навыки: {self.skills}'\n",
        "\n",
        "\n",
        "class Mission:\n",
        "    def __init__(self, mission_name, mission_goal, mission_resources=None, mission_events=None):\n",
        "        self.name = mission_name\n",
        "        self.goal = mission_goal\n",
        "        self.resources = mission_resources if mission_resources else {}\n",
        "        self.events = mission_events if mission_events else []\n",
        "        self.current_event_index = 0\n",
        "        self.is_completed = False\n",
        "\n",
        "    def next_event(self, ship_object):\n",
        "        if self.current_event_index < len(self.events):\n",
        "            current_event_value = self.events[self.current_event_index]\n",
        "            print(f'Происходит событие: {current_event_value}')\n",
        "\n",
        "            if current_event_value == 'Астероидное поле':\n",
        "                damage_value = random.randint(10, 30)\n",
        "                ship_object.take_damage(damage_value)\n",
        "\n",
        "            elif current_event_value == 'Поломка двигателя':\n",
        "                 repair_value = random.randint(10,20)\n",
        "                 ship_object.repair_hull(repair_value)\n",
        "\n",
        "            elif current_event_value == 'Космическая аномалия':\n",
        "                 refuel_value = random.randint(10, 30)\n",
        "                 ship_object.refuel(refuel_value)\n",
        "\n",
        "            self.current_event_index += 1\n",
        "        else:\n",
        "             print('Все события миссии пройдены.')\n",
        "             self.is_completed = True\n",
        "\n",
        "    def is_mission_complete(self):\n",
        "        return self.is_completed\n",
        "\n",
        "    def __str__(self):\n",
        "        return f'Название: {self.name}, Цель: {self.goal}, Ресурсы: {self.resources}, События: {self.events}'\n",
        "\n",
        "my_ship = SpaceShip('Исследователь', 100, 80)\n",
        "my_pilot = CrewMember('Алиса', 'Пилот', 90, {'пилотирование': 80})\n",
        "my_engineer = CrewMember('Борис', 'Инженер', 85, {'ремонт': 70})\n",
        "my_scientist = CrewMember('Евгений', 'Ученый', 75, {'исследования': 90})\n",
        "my_mission = Mission(\n",
        "    'Путешествие на Марс',\n",
        "    'Достичь и исследовать Марс',\n",
        "    {'топливо': 100, 'ремкомплекты': 5},\n",
        "    ['Астероидное поле', 'Поломка двигателя', 'Космическая аномалия', 'Астероидное поле']\n",
        ")\n",
        "print('Начало миссии:')\n",
        "print(f'Корабль: {my_ship}')\n",
        "print(f'Экипаж:\\n - {my_pilot}\\n - {my_engineer}\\n - {my_scientist}')\n",
        "print(f'Миссия: {my_mission}')\n",
        "print('')\n",
        "my_ship.accelerate(20)\n",
        "my_ship.accelerate(30)\n",
        "my_pilot.perform_task('навигация')\n",
        "my_engineer.perform_task('ремонт')\n",
        "my_ship.decelerate(10)\n",
        "while not my_mission.is_mission_complete():\n",
        "    my_mission.next_event(my_ship)\n",
        "    print(f'Корабль после события: {my_ship}')"
      ],
      "metadata": {
        "id": "4NyrOOy8B9ED",
        "colab": {
          "base_uri": "https://localhost:8080/"
        },
        "outputId": "67327764-f496-496b-ddff-b02b369eaa8e"
      },
      "execution_count": null,
      "outputs": [
        {
          "output_type": "stream",
          "name": "stdout",
          "text": [
            "Начало миссии:\n",
            "Корабль: Модель: Исследователь, Топливо: 100/100, Прочность: 80/80, Скорость: 0\n",
            "Экипаж:\n",
            " - Имя: Алиса, Роль: Пилот, Здоровье: 90, Навыки: {'пилотирование': 80}\n",
            " - Имя: Борис, Роль: Инженер, Здоровье: 85, Навыки: {'ремонт': 70}\n",
            " - Имя: Евгений, Роль: Ученый, Здоровье: 75, Навыки: {'исследования': 90}\n",
            "Миссия: Название: Путешествие на Марс, Цель: Достичь и исследовать Марс, Ресурсы: {'топливо': 100, 'ремкомплекты': 5}, События: ['Астероидное поле', 'Поломка двигателя', 'Космическая аномалия', 'Астероидное поле']\n",
            "\n",
            "Корабль ускорен. Скорость: 20. Топливо: 60/100\n",
            "Корабль ускорен. Скорость: 50. Топливо: 0/100\n",
            "Член экипажа Алиса выполняет навигация. Здоровье: 89\n",
            "Член экипажа Борис выполняет ремонт. Здоровье: 83\n",
            "Корабль замедлен. Скорость: 40\n",
            "Происходит событие: Астероидное поле\n",
            "Корабль получил повреждения. Состояние корпуса: 64/80\n",
            "Корабль после события: Модель: Исследователь, Топливо: 0/100, Прочность: 64/80, Скорость: 40\n",
            "Происходит событие: Поломка двигателя\n",
            "Корпус корабля восстановлен. Состояние: 77/80\n",
            "Корабль после события: Модель: Исследователь, Топливо: 0/100, Прочность: 77/80, Скорость: 40\n",
            "Происходит событие: Космическая аномалия\n",
            "Топливо пополнено. Топливо: 12/100\n",
            "Корабль после события: Модель: Исследователь, Топливо: 12/100, Прочность: 77/80, Скорость: 40\n",
            "Происходит событие: Астероидное поле\n",
            "Корабль получил повреждения. Состояние корпуса: 63/80\n",
            "Корабль после события: Модель: Исследователь, Топливо: 12/100, Прочность: 63/80, Скорость: 40\n",
            "Все события миссии пройдены.\n",
            "Корабль после события: Модель: Исследователь, Топливо: 12/100, Прочность: 63/80, Скорость: 40\n"
          ]
        }
      ]
    },
    {
      "cell_type": "markdown",
      "source": [
        "# Дополнительно:"
      ],
      "metadata": {
        "id": "F7mRVsZjCXk0"
      }
    },
    {
      "cell_type": "markdown",
      "source": [
        "**Описание:** создайте консольную версию игры крестики-нолики, используя классы"
      ],
      "metadata": {
        "id": "X4Lkf86UCc1h"
      }
    },
    {
      "cell_type": "code",
      "source": [],
      "metadata": {
        "id": "x9OxpNsyCcUo"
      },
      "execution_count": null,
      "outputs": []
    }
  ]
}
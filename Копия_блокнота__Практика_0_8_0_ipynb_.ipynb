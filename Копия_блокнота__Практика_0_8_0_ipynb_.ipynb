{
  "nbformat": 4,
  "nbformat_minor": 0,
  "metadata": {
    "colab": {
      "provenance": [],
      "collapsed_sections": [
        "eecUb-akU1ji",
        "QGrsZrv5U1s8"
      ]
    },
    "kernelspec": {
      "name": "python3",
      "display_name": "Python 3"
    },
    "language_info": {
      "name": "python"
    }
  },
  "cells": [
    {
      "cell_type": "markdown",
      "source": [
        "# Задание 1"
      ],
      "metadata": {
        "id": "ra45s33wUt-C"
      }
    },
    {
      "cell_type": "markdown",
      "source": [
        "ФИО Пластеева Ксения Евгеньевна"
      ],
      "metadata": {
        "id": "M99hNCpFu5oi"
      }
    },
    {
      "cell_type": "markdown",
      "source": [
        "Задача: Создать чат бота для получения информации об исследованиях космоса\n",
        "\n",
        "Описание: Создайте комплексное приложение командной строки, которое будет использоваться в качестве панели управления исследованиями космоса. Данное приложение будет обращаться к https://api.nasa.gov/ для предоставления пользователям набора информации о космосе, включая:\n",
        "\n",
        "- Астрономическая картинка дня (APOD): Отображение APOD с пояснениями к нему.\n",
        "- Фотографии с марсохода: позволяет пользователям выбирать и фильтровать фотографии с марсохода по дате и типу камеры.\n",
        "- Объекты, сближающиеся с Землей (ОСЗ): Поиск и отображение информации об объекте, сближающихся с Землей, на определенную дату, включая их размеры и потенциальную опасность.\n",
        "- Данные о космической погоде: Отображают последние данные о космической погоде, включая солнечные вспышки и геомагнитные бури.\n",
        "Приложение должно позволять пользователям ориентироваться в этих функциях, корректно обрабатывать ошибки и обеспечивать удобство работы.\n",
        "\n",
        "Требования:\n",
        "- Пользовательский ввод: Приложение должно предложить пользователю ввести данные, чтобы выбрать, какую функцию он хочет изучить.\n",
        "- Проверка данных: Убедитесь, что пользовательские данные (например, даты) проверены.\n",
        "- Обработка ошибок: Корректно обрабатывайте ошибки API и неверные ответы.\n",
        "- Представление данных: Представляйте данные в четкой и организованной форме.\n",
        "- Опция выхода: позволяет пользователям выходить из приложения в любое время."
      ],
      "metadata": {
        "id": "G56D5mNCUwp5"
      }
    },
    {
      "cell_type": "code",
      "execution_count": null,
      "metadata": {
        "id": "wGeJM9n4UqUD",
        "colab": {
          "base_uri": "https://localhost:8080/"
        },
        "outputId": "9aa5cd16-02e2-45fd-b702-99ddeeb6ef20"
      },
      "outputs": [
        {
          "output_type": "stream",
          "name": "stdout",
          "text": [
            "Requirement already satisfied: requests in /usr/local/lib/python3.10/dist-packages (2.32.3)\n",
            "Requirement already satisfied: charset-normalizer<4,>=2 in /usr/local/lib/python3.10/dist-packages (from requests) (3.4.0)\n",
            "Requirement already satisfied: idna<4,>=2.5 in /usr/local/lib/python3.10/dist-packages (from requests) (3.10)\n",
            "Requirement already satisfied: urllib3<3,>=1.21.1 in /usr/local/lib/python3.10/dist-packages (from requests) (2.2.3)\n",
            "Requirement already satisfied: certifi>=2017.4.17 in /usr/local/lib/python3.10/dist-packages (from requests) (2024.8.30)\n"
          ]
        }
      ],
      "source": [
        "pip install requests"
      ]
    },
    {
      "cell_type": "code",
      "source": [
        "import requests\n",
        "\n",
        "DEMO_KEY = '1rsovARnzpDDARGknan5Lapi2ssWfawihjoGamNh'\n",
        "\n",
        "option = int(input('Введите номер функции, которую хотите изучить (1 - Астрономическая картина дня, 2 - Фотография с марсохода, 3 - Объекты, сближающиеся с Землей, 4 - Данные о космической погоде, 5 - Выйти из приложения): '))\n",
        "\n",
        "if option == 1:\n",
        "  response = requests.get(f'https://api.nasa.gov/planetary/apod?api_key={DEMO_KEY}')\n",
        "  if response.status_code == 200:\n",
        "    print(response.json()['explanation'])\n",
        "    print('Ссылка на изображение: ', response.json()['hdurl'])\n",
        "  else:\n",
        "    print('ошибка')\n",
        "elif option == 2:\n",
        "  date = input('Введите дату фотографии (в формате ГГГГ-ММ-ДД): ')\n",
        "  camera = input('Введите тип камеры: ')\n",
        "  response = requests.get(f'https://api.nasa.gov/mars-photos/api/v1/rovers/curiosity/photos?earth_date={date}&camera={camera}&api_key={DEMO_KEY}')\n",
        "  if response.status_code == 200:\n",
        "    answer = response.json()\n",
        "    answer1 = answer['photos']\n",
        "    answer2 = answer1[0]\n",
        "    answer3 = answer2['img_src']\n",
        "\n",
        "    print('Ссылка на изображение: ', answer3)\n",
        "  else:\n",
        "    print('ошибка')\n",
        "elif option == 3:\n",
        "  sdate = input('Введите начальную дату: ')\n",
        "  fdate = input('Введите конечную дату: ')\n",
        "  response = requests.get(f'https://api.nasa.gov/neo/rest/v1/feed?start_date={sdate}&end_date={fdate}&api_key={DEMO_KEY}')\n",
        "  if response.status_code == 200:\n",
        "    a = response.json()['near_earth_objects']\n",
        "    b = a['2024-11-20']\n",
        "    c = b[0]\n",
        "    d = c['name']\n",
        "    print(f'Название: {d}')\n",
        "  else:\n",
        "    print('ошибка')\n",
        "elif option == 4:\n",
        "  sdate = input('Введите начальную дату: ')\n",
        "  fdate = input('Введите конечную дату: ')\n",
        "  response = requests.get(f'https://api.nasa.gov/DONKI/GST?startDate={sdate}&endDate={fdate}&api_key={DEMO_KEY}')\n",
        "  if response.status_code == 200:\n",
        "    print(response.json())\n",
        "  else:\n",
        "    print('ошибка')\n",
        "if option == 5:\n",
        "  print('Вы вышли из приложения')\n",
        "\n"
      ],
      "metadata": {
        "id": "C2q8Vn_qQdgy",
        "colab": {
          "base_uri": "https://localhost:8080/"
        },
        "outputId": "bb596972-0399-4496-a9f5-e413f98bf3bc"
      },
      "execution_count": null,
      "outputs": [
        {
          "output_type": "stream",
          "name": "stdout",
          "text": [
            "Введите номер функции, которую хотите изучить (1 - Астрономическая картина дня, 2 - Фотография с марсохода, 3 - Объекты, сближающиеся с Землей, 4 - Данные о космической погоде, 5 - Выйти из приложения): 2\n",
            "Введите дату фотографии (в формате ГГГГ-ММ-ДД): 2024-1-17\n",
            "Введите тип камеры: FHAZ\n",
            "Ссылка на изображение:  https://mars.nasa.gov/msl-raw-images/proj/msl/redops/ods/surface/sol/04070/opgs/edr/fcam/FLB_758819227EDR_F1051684FHAZ00337M_.JPG\n"
          ]
        }
      ]
    },
    {
      "cell_type": "markdown",
      "source": [
        "# Задание 2"
      ],
      "metadata": {
        "id": "ia9UtA0cU1Iy"
      }
    },
    {
      "cell_type": "markdown",
      "source": [
        "Описание задачи\n",
        "\n",
        "Цель этой задачи - создать скрипт на Python, который взаимодействует с API Чикагского института искусств (https://api.artic.edu/docs/) для извлечения и отображения произведений искусства. Скрипт должен позволять пользователям просматривать работы по страницам, фильтровать их по имени художника и просматривать подробную информацию о выбранных произведениях искусства. Ниже приведены требования и функциональные возможности, которые необходимо реализовать:\n",
        "\n",
        "Требования:\n",
        "Извлекать произведения искусства:\n",
        "\n",
        "- Создайте функцию, которая извлекает список произведений искусства из API Чикагского института искусств.\n",
        "Функция должна принимать параметр page для разбивки на страницы и возвращать список произведений искусства вместе с информацией о разбивке на страницы.\n",
        "Фильтровать произведения искусства:\n",
        "\n",
        "- Реализуйте функцию, которая фильтрует список произведений искусства на основе имени указанного художника. Функция должна возвращать список работ, которые соответствуют имени художника (без учета регистра).\n",
        "Отображать подробную информацию об оформлении:\n",
        "\n",
        "- Напишите функцию, которая отображает названия работ для пользователя и позволяет ему выбрать одну из них, введя соответствующий номер.\n",
        "После выбора функция должна отображать подробную информацию о выбранном произведении, включая название, исполнителя, дату и носитель.\n",
        "Разбивка на страницы и взаимодействие с пользователем:\n",
        "\n",
        "- Создайте основную функцию, которая управляет выборкой произведений и взаимодействием с пользователем.\n",
        "\n",
        "Разрешите пользователям перемещаться по страницам с произведениями искусства, выполнять фильтрацию по исполнителю или выходить из программы.\n",
        "\n",
        "Если страниц с произведениями искусства несколько, укажите варианты перехода к следующей странице, предыдущей странице, фильтрации по исполнителю или выхода из программы."
      ],
      "metadata": {
        "id": "Ofu_GmqrU1Iy"
      }
    },
    {
      "cell_type": "code",
      "execution_count": null,
      "metadata": {
        "id": "jjUH1GznU1Iy",
        "colab": {
          "base_uri": "https://localhost:8080/"
        },
        "outputId": "26139f4a-a064-4126-ea79-7aac7e81c433"
      },
      "outputs": [
        {
          "output_type": "stream",
          "name": "stdout",
          "text": [
            "Requirement already satisfied: requests in /usr/local/lib/python3.10/dist-packages (2.32.3)\n",
            "Requirement already satisfied: charset-normalizer<4,>=2 in /usr/local/lib/python3.10/dist-packages (from requests) (3.4.0)\n",
            "Requirement already satisfied: idna<4,>=2.5 in /usr/local/lib/python3.10/dist-packages (from requests) (3.10)\n",
            "Requirement already satisfied: urllib3<3,>=1.21.1 in /usr/local/lib/python3.10/dist-packages (from requests) (2.2.3)\n",
            "Requirement already satisfied: certifi>=2017.4.17 in /usr/local/lib/python3.10/dist-packages (from requests) (2024.12.14)\n"
          ]
        }
      ],
      "source": [
        "pip install requests"
      ]
    },
    {
      "cell_type": "code",
      "source": [
        "import requests\n",
        "\n",
        "\n",
        "def fetch_artworks(page=1):\n",
        "  try:\n",
        "    params = {\"page\": page}\n",
        "    response = requests.get(f'https://api.artic.edu/api/v1/artworks', params=params)\n",
        "    response.raise_for_status()\n",
        "    data = response.json()\n",
        "    return data.get('data', []), data.get('pagination', {})\n",
        "  except:\n",
        "    print(f'Ошибка')\n",
        "    return None, None\n",
        "\n",
        "\n",
        "def filter_artworks_by_artist(artworks, artist_name):\n",
        "  if not artworks:\n",
        "    return []\n",
        "  filtered_artworks = []\n",
        "  for artwork in artworks:\n",
        "    artist_title = artwork.get('artist_title')\n",
        "    if artist_title:\n",
        "      filtered_artworks.append(artwork)\n",
        "  return filtered_artworks\n",
        "\n",
        "\n",
        "def display_artwork_details(artworks):\n",
        "  if not artworks:\n",
        "    print('Нет доступных произведений искусства.')\n",
        "    return\n",
        "  print('Доступные произведения:')\n",
        "  for i, artwork in enumerate(artworks):\n",
        "    print(i+1, '. ', artwork.get('title', 'Без названия'))\n",
        "    try:\n",
        "      choice = int(input(\"Выберите номер произведения для просмотра деталей (или 0 для отмены): \"))\n",
        "      if choice == 0:\n",
        "        break\n",
        "      if 1 <= choice <= len(artworks):\n",
        "        selected_artwork = artworks[choice - 1]\n",
        "        print(f'Детали:')\n",
        "        print('Название: ', selected_artwork.get('title', 'Нет данных'))\n",
        "        print('Художник: ', selected_artwork.get('artist_title', 'Нет данных'))\n",
        "        print('Дата: ', selected_artwork.get('date_display', 'Нет данных'))\n",
        "        print('Материал: ', selected_artwork.get('medium_display', 'Нет данных'))\n",
        "        break\n",
        "      else:\n",
        "        print('Неверный ввод. Пожалуйста, выберите номер из списка или 0.')\n",
        "    except:\n",
        "      print('Неверный ввод. Введите число.')\n",
        "\n",
        "\n",
        "def main_function():\n",
        "  page = 1\n",
        "  while True:\n",
        "    print(f'Страница {page}')\n",
        "    artworks, pagination = fetch_artworks(page)\n",
        "    if artworks is None:\n",
        "      print ('Произошла ошибка при загрузке данных.')\n",
        "      break\n",
        "    if not artworks:\n",
        "      print('Нет доступных произведений искусства на этой странице.')\n",
        "    else:\n",
        "      display_artwork_details(artworks)\n",
        "      next_page = pagination.get('next_url')\n",
        "      prev_page = pagination.get('prev_url')\n",
        "      options = ['Следующая страница', 'Предыдущая страница', 'Фильтровать по художнику', 'Выход']\n",
        "      if not next_page:\n",
        "        options.remove('Следующая страница')\n",
        "      if not prev_page:\n",
        "        options.remove('Предыдущая страница')\n",
        "      print('Выберите действие:')\n",
        "      for i, option in enumerate(options):\n",
        "        print(f'{i + 1}. {option}')\n",
        "        while True:\n",
        "          try:\n",
        "            choice = int(input('Ваш выбор: '))\n",
        "            if 1 <= choice <= len(options):\n",
        "              break\n",
        "            else:\n",
        "              print('Пожалуйста, выберите корректный номер.')\n",
        "          except:\n",
        "            print('Пожалуйста, введите число.')\n",
        "        selected_option = options[choice-1]\n",
        "        if selected_option == 'Следующая страница' and next_page:\n",
        "            page += 1\n",
        "        elif selected_option == 'Предыдущая страница' and prev_page:\n",
        "            page -= 1\n",
        "        elif selected_option == 'Фильтровать по художнику':\n",
        "            artist_name = input('Введите имя художника: ')\n",
        "            filtered_artworks = filter_artworks_by_artist(artworks, artist_name)\n",
        "            if filtered_artworks:\n",
        "                 display_artwork_details(filtered_artworks)\n",
        "            else:\n",
        "                print('Нет произведений искусства, соответствующих данному фильтру.')\n",
        "        elif selected_option == 'Выход':\n",
        "            break"
      ],
      "metadata": {
        "id": "BQ3lyPHvod6K"
      },
      "execution_count": null,
      "outputs": []
    },
    {
      "cell_type": "markdown",
      "source": [
        "# Задание 3"
      ],
      "metadata": {
        "id": "eecUb-akU1ji"
      }
    },
    {
      "cell_type": "markdown",
      "source": [
        "Задача: Создать программу по управлению портфелем криптовалют\n",
        "\n",
        "Цель: Создать скрипт на Python, который извлекает цены на криптовалюты в режиме реального времени, позволяет пользователям управлять портфелем криптовалют, вычисляет общую стоимость портфеля, отслеживает изменения цен и предоставляет исторические данные о ценах для анализа.\n",
        "\n",
        "Требования:\n",
        "Получение текущих цен на криптовалюты:\n",
        "\n",
        "Используйте https://docs.coingecko.com/ для получения актуальных цен на список криптовалют.\n",
        "\n",
        "Управление портфелем:\n",
        "\n",
        "- Позволяет пользователю создавать портфель криптовалют и управлять им, указывая количество каждой криптовалюты, которой он владеет.\n",
        "- Расчитывает общую стоимость портфеля в указанной фиатной валюте (например, долларах США).\n",
        "\n",
        "Отслеживание изменения цен:\n",
        "\n",
        "- Отображение процентного изменения цены для каждой криптовалюты в портфеле за последние 24 часа.\n",
        "- Выделите все криптовалюты, стоимость которых значительно увеличилась или снизилась.\n",
        "\n",
        "Поиск исторических данных о ценах:\n",
        "\n",
        "- Получение исторических данных о ценах на указанную криптовалюту за последнюю неделю.\n",
        "- Предоставьте пользователю возможность визуализировать эти данные в простом текстовом формате (например, цены за день).\n",
        "\n",
        "Взаимодействие с пользователем:\n",
        "\n",
        "- Реализуйте интерфейс командной строки для ввода данных пользователем.\n",
        "- Предоставьте опции для получения текущих цен, управления портфелем, просмотра изменений цен или анализа исторических данных.\n"
      ],
      "metadata": {
        "id": "jsK7IKptU1ji"
      }
    },
    {
      "cell_type": "code",
      "source": [
        "pip install requests"
      ],
      "metadata": {
        "id": "_0DToTqlvywa",
        "colab": {
          "base_uri": "https://localhost:8080/"
        },
        "outputId": "53526a68-6fbb-442e-d03a-1d666c0ff744"
      },
      "execution_count": null,
      "outputs": [
        {
          "output_type": "stream",
          "name": "stdout",
          "text": [
            "Requirement already satisfied: requests in /usr/local/lib/python3.10/dist-packages (2.32.3)\n",
            "Requirement already satisfied: charset-normalizer<4,>=2 in /usr/local/lib/python3.10/dist-packages (from requests) (3.4.0)\n",
            "Requirement already satisfied: idna<4,>=2.5 in /usr/local/lib/python3.10/dist-packages (from requests) (3.10)\n",
            "Requirement already satisfied: urllib3<3,>=1.21.1 in /usr/local/lib/python3.10/dist-packages (from requests) (2.2.3)\n",
            "Requirement already satisfied: certifi>=2017.4.17 in /usr/local/lib/python3.10/dist-packages (from requests) (2024.8.30)\n"
          ]
        }
      ]
    },
    {
      "cell_type": "code",
      "source": [],
      "metadata": {
        "id": "BrESr9Jdy-T0"
      },
      "execution_count": null,
      "outputs": []
    },
    {
      "cell_type": "markdown",
      "source": [
        "# Дополнительно: Задание 4"
      ],
      "metadata": {
        "id": "QGrsZrv5U1s8"
      }
    },
    {
      "cell_type": "markdown",
      "source": [
        "Задание 4: Проектное\n",
        "\n",
        "Вам необходимо самостоятельно найти откртое API предоставляющее информацию в открытом доступе и реализовать собственный проект!\n",
        "\n",
        "\n",
        "Критерии приемки результата:\n",
        "\n",
        "- Проект включает в себя не менее 5 возможостей для пользователя\n",
        "- Проект позволяет использовать все возможности проекта пользователю при помощи взаимодействия через коммандную строку\n",
        "- Проект работает с открытым API (это значит что при проверке вашей работы преподавателем, преподавателю необходимо просто запустить ячейку с кодом вашего проекта и она будет работать без дополнительных манипуляции)\n",
        "- Проект должен обязательно включать в себя ряд используемых конструкции:\n",
        "    - Функции\n",
        "    - Условные конструкции\n",
        "    - Ввод/вывод\n",
        "    - Словари/Списки\n",
        "- Допускается использование библиотек:\n",
        "    - requests\n",
        "    - datetime\n",
        "    - random"
      ],
      "metadata": {
        "id": "qs_XITmYU1s8"
      }
    },
    {
      "cell_type": "markdown",
      "source": [
        "**Здесь добавьте описание вашего проекта**"
      ],
      "metadata": {
        "id": "VKXhaJi4FL0B"
      }
    },
    {
      "cell_type": "code",
      "execution_count": null,
      "metadata": {
        "id": "wiA55k1KU1s8"
      },
      "outputs": [],
      "source": [
        "#  А здесь код"
      ]
    }
  ]
}
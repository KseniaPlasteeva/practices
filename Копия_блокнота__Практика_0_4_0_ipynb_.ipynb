{
  "nbformat": 4,
  "nbformat_minor": 0,
  "metadata": {
    "colab": {
      "provenance": []
    },
    "kernelspec": {
      "name": "python3",
      "display_name": "Python 3"
    },
    "language_info": {
      "name": "python"
    }
  },
  "cells": [
    {
      "cell_type": "markdown",
      "source": [
        "Введите ваше ФИО:"
      ],
      "metadata": {
        "id": "k8oVfdwrMXyc"
      }
    },
    {
      "cell_type": "code",
      "execution_count": null,
      "metadata": {
        "id": "5mcBLsKMI1-5"
      },
      "outputs": [],
      "source": [
        "Пластеева Ксения Евгеньевна"
      ]
    },
    {
      "cell_type": "markdown",
      "source": [
        "***Дисклеймер***\n",
        "\n",
        "В данной практике запрещено использования функций:\n",
        "\n",
        "\n",
        "*   sum()\n",
        "*   min()\n",
        "*   max()\n",
        "*   average()\n",
        "*   reversed()\n",
        "*   sorted()\n",
        "*   готовые функции или библиотеки\n"
      ],
      "metadata": {
        "id": "8HbYUbm3Jw3o"
      }
    },
    {
      "cell_type": "markdown",
      "source": [
        "# **Задача 1:**"
      ],
      "metadata": {
        "id": "we2HyahuYvxm"
      }
    },
    {
      "cell_type": "markdown",
      "source": [
        "Интернет-магазин предлагает следующие условия скидок:\n",
        "\n",
        "*   Для заказов больше 1000 единиц, клиент получает скидку 5%. Если клиент использует промокод SUPERDISCOUNT, он получает скидку 10% (вместо 5%).\n",
        "*  Для заказов более 5000 единиц, клиент получает скидку 15%, а использование промокода SUPERDISCOUNT увеличивает скидку до 20% (вместо 15%).\n",
        "\n",
        "Этап 1:\n",
        "Ввод:\n",
        "```\n",
        "Введите стоимость единицы товара: 5\n",
        "Введите количество товара: 1001\n",
        "Введите промокод: GiVEMEDISCONT\n",
        "```\n",
        "\n",
        "Вывод:\n",
        "\n",
        "```\n",
        "Ваша скидка: 5%\n",
        "Итоговая сумма: 4754.75\n",
        "```\n",
        "Этап 2:\n",
        "\n",
        "Оформите ваш код в виде функции"
      ],
      "metadata": {
        "id": "HmX0c6YPJSQr"
      }
    },
    {
      "cell_type": "code",
      "source": [
        "price = int(input('Ввелите стоимость единицы товара: '))\n",
        "quantity = int(input('Введите количество товара: '))\n",
        "promocode = input('Введите промокод: ')\n",
        "\n",
        "if quantity > 1000 and  quantity <= 5000 and  promocode != 'SUPERDISCOUNT':\n",
        "  discount = 5\n",
        "elif quantity > 1000 and  quantity <= 5000 and promocode == 'SUPERDISCOUNT':\n",
        "  discount = 10\n",
        "elif quantity > 5000 and promocode != 'SUPERDISCOUNT':\n",
        "  discount = 15\n",
        "elif quantity > 5000 and promocode == 'SUPERDISCOUNT':\n",
        "  discount = 20\n",
        "\n",
        "amount = price * quantity\n",
        "result = amount * ( 1 - 0.01 * discount)\n",
        "\n",
        "print('Ваша скидка: ', discount, '%')\n",
        "print('Итоговая сумма: ', result)"
      ],
      "metadata": {
        "id": "OAIMIpklMN5D",
        "colab": {
          "base_uri": "https://localhost:8080/"
        },
        "outputId": "de990fb9-0793-4a38-c7e3-f39bbc5dee84"
      },
      "execution_count": null,
      "outputs": [
        {
          "output_type": "stream",
          "name": "stdout",
          "text": [
            "Ввелите стоимость единицы товара: 5\n",
            "Введите количество товара: 1001\n",
            "Введите промокод: GiVEMEDISCONT\n",
            "Ваша скидка:  5 %\n",
            "Итоговая сумма:  4754.75\n"
          ]
        }
      ]
    },
    {
      "cell_type": "code",
      "source": [
        "def discount_counter(x, y):\n",
        "  discount = 0\n",
        "  if x > 1000 and  x <= 5000 and  y != 'SUPERDISCOUNT':\n",
        "    discount = 5\n",
        "  elif x > 1000 and  x <= 5000 and y == 'SUPERDISCOUNT':\n",
        "    discount = 10\n",
        "  elif x > 5000 and y != 'SUPERDISCOUNT':\n",
        "    discount = 15\n",
        "  elif x > 5000 and y == 'SUPERDISCOUNT':\n",
        "    discount = 20\n",
        "  return discount\n",
        "\n",
        "\n",
        "price = int(input('Ввелите стоимость единицы товара: '))\n",
        "quantity = int(input('Введите количество товара: '))\n",
        "promocode = input('Введите промокод: ')\n",
        "\n",
        "amount = price * quantity\n",
        "result = amount * ( 1 - 0.01 * discount_counter(quantity, promocode))\n",
        "\n",
        "print('Ваша скидка: ', discount_counter(quantity, promocode), '%')\n",
        "print('Итоговая сумма: ', result)"
      ],
      "metadata": {
        "colab": {
          "base_uri": "https://localhost:8080/"
        },
        "id": "_tina01rd42W",
        "outputId": "3e2562db-3cea-4466-c0d9-afd369b6bd74"
      },
      "execution_count": null,
      "outputs": [
        {
          "output_type": "stream",
          "name": "stdout",
          "text": [
            "Ввелите стоимость единицы товара: 5\n",
            "Введите количество товара: 1001\n",
            "Введите промокод: GiVEMEDISCONT\n",
            "Ваша скидка:  5 %\n",
            "Итоговая сумма:  4754.75\n"
          ]
        }
      ]
    },
    {
      "cell_type": "markdown",
      "source": [
        "# **Задача 2:**\n"
      ],
      "metadata": {
        "id": "xmZNFqOuY1AA"
      }
    },
    {
      "cell_type": "markdown",
      "source": [
        "Этап 1:\n",
        "Напишите программу способную отфильтровать список и вывести только положительные элементы\n",
        "\n",
        "\n",
        "Ввод:\n",
        "```\n",
        "-1 5 1 2 -3\n",
        "```\n",
        "\n",
        "Вывод:\n",
        "\n",
        "```\n",
        "5 1 2\n",
        "```\n",
        "\n",
        "Этап 2:\n",
        "\n",
        "Оформите ваш код в виде функции"
      ],
      "metadata": {
        "id": "eeRVWpuLNGJ0"
      }
    },
    {
      "cell_type": "code",
      "source": [
        "list = [-1, 5, 1, 2, -3]\n",
        "\n",
        "new_list = []\n",
        "\n",
        "for el in list:\n",
        "  if el > 0:\n",
        "    new_list.append(el)\n",
        "\n",
        "print(new_list)"
      ],
      "metadata": {
        "id": "Xbi6bL0WOE9N",
        "colab": {
          "base_uri": "https://localhost:8080/"
        },
        "outputId": "82ddf077-9c27-4d81-9186-75173c1a8ee2"
      },
      "execution_count": null,
      "outputs": [
        {
          "output_type": "stream",
          "name": "stdout",
          "text": [
            "[5, 1, 2]\n"
          ]
        }
      ]
    },
    {
      "cell_type": "code",
      "source": [
        "def positive_numbers(lisst):\n",
        "  new_list = []\n",
        "  for el in lisst:\n",
        "    if el > 0:\n",
        "      new_list.append(el)\n",
        "  return new_list\n",
        "\n",
        "list_1 = [-1, 5, 1, 2, -3]\n",
        "\n",
        "\n",
        "print(positive_numbers(list_1))"
      ],
      "metadata": {
        "colab": {
          "base_uri": "https://localhost:8080/"
        },
        "id": "LgLalk1WaPgz",
        "outputId": "12ce5147-0887-4a93-a8cb-a09e33f9fb2e"
      },
      "execution_count": null,
      "outputs": [
        {
          "output_type": "stream",
          "name": "stdout",
          "text": [
            "[5, 1, 2]\n"
          ]
        }
      ]
    },
    {
      "cell_type": "markdown",
      "source": [
        "# **Задача 3:**"
      ],
      "metadata": {
        "id": "KeriMGDLY5gt"
      }
    },
    {
      "cell_type": "markdown",
      "source": [
        "\n",
        "\n",
        "Этап 1:\n",
        "Напишите программу реализующую Алгоритм Евклида\n",
        "\n",
        "\n",
        "> Алгоритм Евклида – это алгоритм нахождения наибольшего общего делителя (НОД) пары целых чисел.\n",
        "\n",
        "\n",
        "\n",
        "Ввод:\n",
        "```\n",
        "30 18\n",
        "```\n",
        "\n",
        "Вывод:\n",
        "\n",
        "```\n",
        "6\n",
        "```\n",
        "\n",
        "Этап 2:\n",
        "Оформите ваш код в виде функции\n"
      ],
      "metadata": {
        "id": "lV-w6G-POa6F"
      }
    },
    {
      "cell_type": "code",
      "source": [
        "first_number = int(input('Введите первое число: '))\n",
        "second_number = int(input('Введите второе число: '))\n",
        "\n",
        "while first_number != 0 and second_number != 0:\n",
        "    if first_number > second_number:\n",
        "        first_number = first_number % second_number\n",
        "    else:\n",
        "        second_number = second_number % first_number\n",
        "\n",
        "print('Наибольший общий делитель: ', first_number + second_number)"
      ],
      "metadata": {
        "id": "X2n6fnd91yt7",
        "colab": {
          "base_uri": "https://localhost:8080/"
        },
        "outputId": "29303a63-7c9a-400d-fa3d-d69893a9e9b0"
      },
      "execution_count": null,
      "outputs": [
        {
          "output_type": "stream",
          "name": "stdout",
          "text": [
            "Введите первое число: 1651616\n",
            "Введите второе число: 4451\n",
            "Наибольший общий делитель:  1\n"
          ]
        }
      ]
    },
    {
      "cell_type": "code",
      "source": [
        "def greatest_common_divisor(x, y):\n",
        "  while x != 0 and y != 0:\n",
        "    if x > y:\n",
        "        x = x % y\n",
        "    else:\n",
        "        y = y % x\n",
        "  return x + y\n",
        "\n",
        "\n",
        "first_number = int(input('Введите первое число: '))\n",
        "second_number = int(input('Введите второе число: '))\n",
        "\n",
        "print('Наибольший общий делитель: ', greatest_common_divisor(first_number, second_number))"
      ],
      "metadata": {
        "colab": {
          "base_uri": "https://localhost:8080/"
        },
        "id": "_kmQyd3Cdjm4",
        "outputId": "b4c17dc4-498a-41ff-cc18-822140c21495"
      },
      "execution_count": null,
      "outputs": [
        {
          "output_type": "stream",
          "name": "stdout",
          "text": [
            "Введите первое число: 100\n",
            "Введите второе число: 25\n",
            "Наибольший общий делитель:  25\n"
          ]
        }
      ]
    },
    {
      "cell_type": "markdown",
      "source": [
        "# **Задача 4:**"
      ],
      "metadata": {
        "id": "Aa83ADofPcPZ"
      }
    },
    {
      "cell_type": "markdown",
      "source": [
        "Этап 1:\n",
        "Напишите функцию программу, которая принимает строку и возвращает список слов и количество их упомнинаний в предложении\n",
        "\n",
        "Этап 2:\n",
        "Оформите ваш код в виде функции\n",
        "\n",
        "Ввод:\n",
        "```\n",
        "apple banana apple\n",
        "```\n",
        "\n",
        "Вывод:\n",
        "\n",
        "```\n",
        "apple: 2,\n",
        "banana: 1\n",
        "```"
      ],
      "metadata": {
        "id": "WIfPFxpsO0zL"
      }
    },
    {
      "cell_type": "code",
      "source": [
        "def words_counter(string):\n",
        "  words = string.split(' ')\n",
        "  quantity = []\n",
        "  words_original = set(words)\n",
        "  for word in words_original:\n",
        "      counter = words.count(word)\n",
        "      quantity.append(counter)\n",
        "  result = dict(zip(words_original, quantity))\n",
        "  return result\n",
        "\n",
        "\n",
        "entry = input('Введите строку: ')\n",
        "print(words_counter(entry))\n"
      ],
      "metadata": {
        "id": "DgsmFeW5Po_x",
        "colab": {
          "base_uri": "https://localhost:8080/"
        },
        "outputId": "ad8a460c-a287-4912-e611-7f69c4164a0c"
      },
      "execution_count": null,
      "outputs": [
        {
          "output_type": "stream",
          "name": "stdout",
          "text": [
            "Введите строку: apple banana apple\n",
            "{'banana': 1, 'apple': 2}\n"
          ]
        }
      ]
    },
    {
      "cell_type": "markdown",
      "source": [
        "# **Задача 5:**"
      ],
      "metadata": {
        "id": "4AQcChvUZDZI"
      }
    },
    {
      "cell_type": "markdown",
      "source": [
        "Этап 1:\n",
        "Детектор анаграмм Напишите программу на Python, которая принимает в качестве входных данных две строки и проверяет, являются ли они анаграммами друг друга\n",
        "\n",
        "Этап 2:\n",
        "Оформите ваш код в виде функции\n",
        "\n",
        "Ввод:\n",
        "```\n",
        "listen, silent\n",
        "```\n",
        "\n",
        "Вывод:\n",
        "\n",
        "```\n",
        "True\n",
        "```"
      ],
      "metadata": {
        "id": "5BmIJLUZP9I-"
      }
    },
    {
      "cell_type": "code",
      "source": [
        "first_word = input('Введите первое слово: ')\n",
        "letters_of_first = list(first_word)\n",
        "letters_of_first.sort\n",
        "\n",
        "second_word = input('Введите второе  слово: ')\n",
        "letters_of_second = list(second_word)\n",
        "letters_of_second.sort\n",
        "\n",
        "coincidence = 0\n",
        "\n",
        "for letter_ in letters_of_first:\n",
        "  if letter_ in letters_of_second:\n",
        "    coincidence = coincidence + 1\n",
        "\n",
        "if coincidence == len(letters_of_first):\n",
        "  print('True')\n",
        "else:\n",
        "  print('False')"
      ],
      "metadata": {
        "id": "7LNW8DuHQJwH",
        "colab": {
          "base_uri": "https://localhost:8080/"
        },
        "outputId": "05458da5-f3d0-4c96-faf3-ec1752631341"
      },
      "execution_count": null,
      "outputs": [
        {
          "output_type": "stream",
          "name": "stdout",
          "text": [
            "Введите первое слово: listen\n",
            "Введите второе  слово: silent\n",
            "True\n"
          ]
        }
      ]
    },
    {
      "cell_type": "code",
      "source": [
        "def anagram_detector(word1, word2):\n",
        "  letters_of_1 = list(word1)\n",
        "  letters_of_1.sort\n",
        "  letters_of_2 = list(word2)\n",
        "  letters_of_2.sort\n",
        "  coincidence = 0\n",
        "  for letter_ in letters_of_1:\n",
        "    if letter_ in letters_of_2:\n",
        "      coincidence = coincidence + 1\n",
        "  if coincidence == len(letters_of_first):\n",
        "    return True\n",
        "  else:\n",
        "    return False\n",
        "\n",
        "\n",
        "first_word = input('Введите первое слово: ')\n",
        "second_word = input('Введите второе  слово: ')\n",
        "\n",
        "print(anagram_detector(first_word, second_word))"
      ],
      "metadata": {
        "id": "StpbP6Qq8gBL",
        "colab": {
          "base_uri": "https://localhost:8080/"
        },
        "outputId": "83fea047-595c-4b85-a4d8-810c03ca89c1"
      },
      "execution_count": null,
      "outputs": [
        {
          "output_type": "stream",
          "name": "stdout",
          "text": [
            "Введите первое слово: listen\n",
            "Введите второе  слово: silent\n",
            "True\n"
          ]
        }
      ]
    },
    {
      "cell_type": "markdown",
      "source": [
        "# **Задача 6:**\n"
      ],
      "metadata": {
        "id": "ZlJgrovsZGGp"
      }
    },
    {
      "cell_type": "markdown",
      "source": [
        "Шифр ​​Цезаря\n",
        "\n",
        "Напишите программу на Python, которая реализует шифр Цезаря, простой метод шифрования, который заменяет каждую букву буквой на фиксированное количество позиций вниз по алфавиту. Программа должна запрашивать у пользователя сообщение и значение сдвига, а затем шифровать и расшифровывать сообщение.\n",
        "\n",
        "Этап 1:\n",
        "\n",
        "Напишите код для реализации данной задачи\n",
        "\n",
        "Этап 2:\n",
        "\n",
        "Оформите код в виде нескольких функций:\n",
        "\n",
        "* Зашифровывает сообщение\n",
        "* Расшифровывает сообщение"
      ],
      "metadata": {
        "id": "-SIWYSq2QKBh"
      }
    },
    {
      "cell_type": "code",
      "source": [
        "import string\n",
        "\n",
        "\n",
        "ALPHABET = list(string.ascii_lowercase)\n",
        "\n",
        "\n",
        "def encrypt_the_message(string, change):\n",
        "  result = []\n",
        "  words = string.split(' ')\n",
        "  result_words = []\n",
        "  result_word = []\n",
        "  for word in words:\n",
        "    letters = list(word)\n",
        "    result_letters = []\n",
        "    for letter in letters:\n",
        "      index = ALPHABET.index(letter)\n",
        "      result_index = (index + change) % 26\n",
        "      letter = ALPHABET[result_index]\n",
        "      result_letters.append(letter)\n",
        "    result_word = ''.join(result_letters)\n",
        "    result_words.append(result_word)\n",
        "  result = ' '.join(result_words)\n",
        "  return result\n",
        "\n",
        "\n",
        "def decrypt_the_message(string, change):\n",
        "  result = []\n",
        "  words = string.split(' ')\n",
        "  result_words = []\n",
        "  result_word = []\n",
        "  for word in words:\n",
        "    letters = list(word)\n",
        "    result_letters = []\n",
        "    for letter in letters:\n",
        "      index = ALPHABET.index(letter)\n",
        "      result_index = (index - change) % 26\n",
        "      letter = ALPHABET[result_index]\n",
        "      result_letters.append(letter)\n",
        "    result_word = ''.join(result_letters)\n",
        "    result_words.append(result_word)\n",
        "  result = ' '.join(result_words)\n",
        "  return result\n",
        "\n",
        "message = input('Введите сообщение: ')\n",
        "shift = int(input('Введите значение сдвига: '))\n",
        "\n",
        "print(encrypt_the_message(message, shift))\n",
        "print(decrypt_the_message(message, shift))"
      ],
      "metadata": {
        "id": "anThYirsQe6N",
        "colab": {
          "base_uri": "https://localhost:8080/"
        },
        "outputId": "a0f154e3-1a2d-42c6-c5b7-3541ae14841a"
      },
      "execution_count": null,
      "outputs": [
        {
          "output_type": "stream",
          "name": "stdout",
          "text": [
            "Введите сообщение: cat and dog\n",
            "Введите значение сдвига: 2\n",
            "ecv cpf fqi\n",
            "ayr ylb bme\n"
          ]
        }
      ]
    },
    {
      "cell_type": "markdown",
      "source": [
        "# **Задача 7**"
      ],
      "metadata": {
        "id": "lm9TDmZhZIcU"
      }
    },
    {
      "cell_type": "markdown",
      "source": [
        "Задача: «Банковская система»\n",
        "\n",
        "Создайте программу Python, которая имитирует базовую банковскую систему. Система должна иметь следующие функции:\n",
        "\n",
        "Требования\n",
        "*   Система должна позволять клиентам создавать счета и хранить их балансы.\n",
        "*   Система должна позволять клиентам вносить и снимать деньги со своих счетов.\n",
        "*   Система должна позволять клиентам проверять свой текущий баланс.\n",
        "*   Система должна позволять клиентам переводить деньги между счетами.\n",
        "*   Система должна отслеживать транзакции (депозиты, снятия и переводы) и иметь возможность печатать детали транзакций.\n",
        "\n",
        "\n",
        "Задачи\n",
        "1. Реализуйте банковскую систему, используя только базовые конструкции Python, такие как def, lists, if, elif и else, без классов или словарей.\n",
        "Определите функции для создания счетов, внесения и снятия денег, получения балансов счетов, перевода денег между счетами, а также создания и печати транзакций.\n",
        "2. Напишите основную функцию, которая демонстрирует использование банковской системы путем создания счетов, внесения и снятия денег и перевода денег между счетами.\n",
        "3. Бонусное задание\n",
        "Реализуйте способ хранения и печати истории транзакций для каждого счета.\n",
        "\n",
        "Ограничения\n",
        "Не используйте классы или словари.\n",
        "Используйте только базовые конструкции Python, такие как def, lists, if, elif и else.\n"
      ],
      "metadata": {
        "id": "avFZRRXrQz9O"
      }
    },
    {
      "cell_type": "code",
      "source": [
        "all_accounts = []\n",
        "\n",
        "def create_account(accounts, balance = 0):\n",
        "  number = len(accounts) + 1\n",
        "  accounts.append([number, balance])\n",
        "  print(f'Создан счет: {number}, баланс: {balance}')\n",
        "  return accounts\n",
        "\n",
        "\n",
        "def change_balance(accounts):\n",
        "  number = int(input('Введите номер счета: '))\n",
        "  delta = int(input('Какую сумму хотите внести? (введите число со знаком \"-\", если хотите снять деньги): '))\n",
        "  for account in accounts:\n",
        "    if account[0] == number:\n",
        "      account[1] += delta\n",
        "      print(f'Ваш счет: {account[0]}, баланс: {account[1]}')\n",
        "  return accounts\n",
        "\n",
        "\n",
        "def check_balance(accounts):\n",
        "  number = int(input('Введите номер счета: '))\n",
        "  for account in accounts:\n",
        "    if account[0] == number:\n",
        "      print(f'Ваш счет: {account[0]}, баланс: {account[1]}')\n",
        "      return accounts\n",
        "\n",
        "\n",
        "def send_money(accounts):\n",
        "  number1 = int(input('Введите номер счета, с которого хотите отправить деньги: '))\n",
        "  number2 = int(input('Введите номер счета, на который хотите внести деньги: '))\n",
        "  delta = int(input('Введите сумму: '))\n",
        "  for account in accounts:\n",
        "    if account[0] == number1:\n",
        "      account[1] -= delta\n",
        "      print(f'Счет: {account[0]}, баланс: {account[1]}')\n",
        "    if account[0] == number2:\n",
        "      account[1] += delta\n",
        "      print(f'Счет: {account[0]}, баланс: {account[1]}')\n",
        "  print(f'Операция выполнена!')\n",
        "  return accounts\n",
        "\n",
        "\n",
        "create_account(all_accounts, 200)\n",
        "create_account(all_accounts, 100)\n",
        "create_account(all_accounts, 150)\n",
        "create_account(all_accounts, 220)\n",
        "create_account(all_accounts)\n",
        "change_balance(all_accounts)\n",
        "change_balance(all_accounts)\n",
        "check_balance(all_accounts)\n",
        "send_money(all_accounts)"
      ],
      "metadata": {
        "id": "dWEW10zIRwjs",
        "colab": {
          "base_uri": "https://localhost:8080/"
        },
        "outputId": "4322efd4-aaca-4e37-b623-65404cd4a3cc"
      },
      "execution_count": null,
      "outputs": [
        {
          "output_type": "stream",
          "name": "stdout",
          "text": [
            "Создан счет: 1, баланс: 200\n",
            "Создан счет: 2, баланс: 100\n",
            "Создан счет: 3, баланс: 150\n",
            "Создан счет: 4, баланс: 220\n",
            "Создан счет: 5, баланс: 0\n",
            "Введите номер счета: 2\n",
            "Какую сумму хотите внести? (введите число со знаком \"-\", если хотите снять деньги): 100\n",
            "Ваш счет: 2, баланс: 200\n",
            "Введите номер счета: 3\n",
            "Какую сумму хотите внести? (введите число со знаком \"-\", если хотите снять деньги): -10\n",
            "Ваш счет: 3, баланс: 140\n",
            "Введите номер счета: 4\n",
            "Ваш счет: 4, баланс: 220\n",
            "Введите номер счета, с которого хотите отправить деньги: 2\n",
            "Введите номер счета, на который хотите внести деньги: 5\n",
            "Введите сумму: 100\n",
            "Счет: 2, баланс: 100\n",
            "Счет: 5, баланс: 100\n",
            "Операция выполнена!\n"
          ]
        },
        {
          "output_type": "execute_result",
          "data": {
            "text/plain": [
              "[[1, 200], [2, 100], [3, 140], [4, 220], [5, 100]]"
            ]
          },
          "metadata": {},
          "execution_count": 64
        }
      ]
    }
  ]
}
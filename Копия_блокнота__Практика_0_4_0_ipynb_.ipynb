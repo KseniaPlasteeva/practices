{
  "nbformat": 4,
  "nbformat_minor": 0,
  "metadata": {
    "colab": {
      "provenance": []
    },
    "kernelspec": {
      "name": "python3",
      "display_name": "Python 3"
    },
    "language_info": {
      "name": "python"
    }
  },
  "cells": [
    {
      "cell_type": "markdown",
      "source": [
        "Введите ваше ФИО:"
      ],
      "metadata": {
        "id": "k8oVfdwrMXyc"
      }
    },
    {
      "cell_type": "code",
      "execution_count": null,
      "metadata": {
        "id": "5mcBLsKMI1-5"
      },
      "outputs": [],
      "source": [
        "Пластеева Ксения Евгеньевна"
      ]
    },
    {
      "cell_type": "markdown",
      "source": [
        "***Дисклеймер***\n",
        "\n",
        "В данной практике запрещено использования функций:\n",
        "\n",
        "\n",
        "*   sum()\n",
        "*   min()\n",
        "*   max()\n",
        "*   average()\n",
        "*   reversed()\n",
        "*   sorted()\n",
        "*   готовые функции или библиотеки\n"
      ],
      "metadata": {
        "id": "8HbYUbm3Jw3o"
      }
    },
    {
      "cell_type": "markdown",
      "source": [
        "# **Задача 1:**"
      ],
      "metadata": {
        "id": "we2HyahuYvxm"
      }
    },
    {
      "cell_type": "markdown",
      "source": [
        "Интернет-магазин предлагает следующие условия скидок:\n",
        "\n",
        "*   Для заказов больше 1000 единиц, клиент получает скидку 5%. Если клиент использует промокод SUPERDISCOUNT, он получает скидку 10% (вместо 5%).\n",
        "*  Для заказов более 5000 единиц, клиент получает скидку 15%, а использование промокода SUPERDISCOUNT увеличивает скидку до 20% (вместо 15%).\n",
        "\n",
        "Этап 1:\n",
        "Ввод:\n",
        "```\n",
        "Введите стоимость единицы товара: 5\n",
        "Введите количество товара: 1001\n",
        "Введите промокод: GiVEMEDISCONT\n",
        "```\n",
        "\n",
        "Вывод:\n",
        "\n",
        "```\n",
        "Ваша скидка: 5%\n",
        "Итоговая сумма: 4754.75\n",
        "```\n",
        "Этап 2:\n",
        "\n",
        "Оформите ваш код в виде функции"
      ],
      "metadata": {
        "id": "HmX0c6YPJSQr"
      }
    },
    {
      "cell_type": "code",
      "source": [
        "price = int(input('Ввелите стоимость единицы товара: '))\n",
        "quantity = int(input('Введите количество товара: '))\n",
        "promocode = input('Введите промокод: ')\n",
        "\n",
        "if quantity > 1000 and  quantity <= 5000 and  promocode != 'SUPERDISCOUNT':\n",
        "  discount = 5\n",
        "elif quantity > 1000 and  quantity <= 5000 and promocode == 'SUPERDISCOUNT':\n",
        "  discount = 10\n",
        "elif quantity > 5000 and promocode != 'SUPERDISCOUNT':\n",
        "  discount = 15\n",
        "elif quantity > 5000 and promocode == 'SUPERDISCOUNT':\n",
        "  discount = 20\n",
        "\n",
        "amount = price * quantity\n",
        "result = amount * ( 1 - 0.01 * discount)\n",
        "\n",
        "print('Ваша скидка: ', discount, '%')\n",
        "print('Итоговая сумма: ', result)"
      ],
      "metadata": {
        "id": "OAIMIpklMN5D",
        "colab": {
          "base_uri": "https://localhost:8080/"
        },
        "outputId": "de990fb9-0793-4a38-c7e3-f39bbc5dee84"
      },
      "execution_count": null,
      "outputs": [
        {
          "output_type": "stream",
          "name": "stdout",
          "text": [
            "Ввелите стоимость единицы товара: 5\n",
            "Введите количество товара: 1001\n",
            "Введите промокод: GiVEMEDISCONT\n",
            "Ваша скидка:  5 %\n",
            "Итоговая сумма:  4754.75\n"
          ]
        }
      ]
    },
    {
      "cell_type": "code",
      "source": [
        "def discount_counter(x, y):\n",
        "  discount = 0\n",
        "  if x > 1000 and  x <= 5000 and  y != 'SUPERDISCOUNT':\n",
        "    discount = 5\n",
        "  elif x > 1000 and  x <= 5000 and y == 'SUPERDISCOUNT':\n",
        "    discount = 10\n",
        "  elif x > 5000 and y != 'SUPERDISCOUNT':\n",
        "    discount = 15\n",
        "  elif x > 5000 and y == 'SUPERDISCOUNT':\n",
        "    discount = 20\n",
        "  return discount\n",
        "\n",
        "\n",
        "price = int(input('Ввелите стоимость единицы товара: '))\n",
        "quantity = int(input('Введите количество товара: '))\n",
        "promocode = input('Введите промокод: ')\n",
        "\n",
        "amount = price * quantity\n",
        "result = amount * ( 1 - 0.01 * discount_counter(quantity, promocode))\n",
        "\n",
        "print('Ваша скидка: ', discount_counter(quantity, promocode), '%')\n",
        "print('Итоговая сумма: ', result)"
      ],
      "metadata": {
        "colab": {
          "base_uri": "https://localhost:8080/"
        },
        "id": "_tina01rd42W",
        "outputId": "3e2562db-3cea-4466-c0d9-afd369b6bd74"
      },
      "execution_count": null,
      "outputs": [
        {
          "output_type": "stream",
          "name": "stdout",
          "text": [
            "Ввелите стоимость единицы товара: 5\n",
            "Введите количество товара: 1001\n",
            "Введите промокод: GiVEMEDISCONT\n",
            "Ваша скидка:  5 %\n",
            "Итоговая сумма:  4754.75\n"
          ]
        }
      ]
    },
    {
      "cell_type": "markdown",
      "source": [
        "# **Задача 2:**\n"
      ],
      "metadata": {
        "id": "xmZNFqOuY1AA"
      }
    },
    {
      "cell_type": "markdown",
      "source": [
        "Этап 1:\n",
        "Напишите программу способную отфильтровать список и вывести только положительные элементы\n",
        "\n",
        "\n",
        "Ввод:\n",
        "```\n",
        "-1 5 1 2 -3\n",
        "```\n",
        "\n",
        "Вывод:\n",
        "\n",
        "```\n",
        "5 1 2\n",
        "```\n",
        "\n",
        "Этап 2:\n",
        "\n",
        "Оформите ваш код в виде функции"
      ],
      "metadata": {
        "id": "eeRVWpuLNGJ0"
      }
    },
    {
      "cell_type": "code",
      "source": [
        "list = [-1, 5, 1, 2, -3]\n",
        "\n",
        "new_list = []\n",
        "\n",
        "for el in list:\n",
        "  if el > 0:\n",
        "    new_list.append(el)\n",
        "\n",
        "print(new_list)"
      ],
      "metadata": {
        "id": "Xbi6bL0WOE9N",
        "colab": {
          "base_uri": "https://localhost:8080/"
        },
        "outputId": "82ddf077-9c27-4d81-9186-75173c1a8ee2"
      },
      "execution_count": null,
      "outputs": [
        {
          "output_type": "stream",
          "name": "stdout",
          "text": [
            "[5, 1, 2]\n"
          ]
        }
      ]
    },
    {
      "cell_type": "code",
      "source": [
        "def positive_numbers(x):\n",
        "  if x > 0:\n",
        "    new_list.append(x)\n",
        "    return new_list\n",
        "\n",
        "list = [-1, 5, 1, 2, -3]\n",
        "\n",
        "new_list = []\n",
        "\n",
        "for el in list:\n",
        "  positive_numbers(el)\n",
        "\n",
        "print(new_list)"
      ],
      "metadata": {
        "colab": {
          "base_uri": "https://localhost:8080/"
        },
        "id": "LgLalk1WaPgz",
        "outputId": "ad66ec3c-d88b-4d21-de50-548a4bd42b38"
      },
      "execution_count": null,
      "outputs": [
        {
          "output_type": "stream",
          "name": "stdout",
          "text": [
            "[5, 1, 2]\n"
          ]
        }
      ]
    },
    {
      "cell_type": "markdown",
      "source": [
        "# **Задача 3:**"
      ],
      "metadata": {
        "id": "KeriMGDLY5gt"
      }
    },
    {
      "cell_type": "markdown",
      "source": [
        "\n",
        "\n",
        "Этап 1:\n",
        "Напишите программу реализующую Алгоритм Евклида\n",
        "\n",
        "\n",
        "> Алгоритм Евклида – это алгоритм нахождения наибольшего общего делителя (НОД) пары целых чисел.\n",
        "\n",
        "\n",
        "\n",
        "Ввод:\n",
        "```\n",
        "30 18\n",
        "```\n",
        "\n",
        "Вывод:\n",
        "\n",
        "```\n",
        "6\n",
        "```\n",
        "\n",
        "Этап 2:\n",
        "Оформите ваш код в виде функции\n"
      ],
      "metadata": {
        "id": "lV-w6G-POa6F"
      }
    },
    {
      "cell_type": "code",
      "source": [
        "first_number = int(input('Введите первое число: '))\n",
        "second_number = int(input('Введите второе число: '))\n",
        "\n",
        "while first_number != 0 and second_number != 0:\n",
        "    if first_number > second_number:\n",
        "        first_number = first_number % second_number\n",
        "    else:\n",
        "        second_number = second_number % first_number\n",
        "\n",
        "print('Наибольший общий делитель: ', first_number + second_number)"
      ],
      "metadata": {
        "id": "X2n6fnd91yt7",
        "colab": {
          "base_uri": "https://localhost:8080/"
        },
        "outputId": "6da6e382-17df-4dd0-cce5-8a5be560bfbb"
      },
      "execution_count": null,
      "outputs": [
        {
          "output_type": "stream",
          "name": "stdout",
          "text": [
            "Введите первое число: 30\n",
            "Введите второе число: 18\n",
            "Наибольший общий делитель:  6\n"
          ]
        }
      ]
    },
    {
      "cell_type": "code",
      "source": [
        "def greatest_common_divisor(x, y):\n",
        "  while x != 0 and y != 0:\n",
        "    if x > y:\n",
        "        x = x % y\n",
        "    else:\n",
        "        y = y % x\n",
        "  return x + y\n",
        "\n",
        "\n",
        "first_number = int(input('Введите первое число: '))\n",
        "second_number = int(input('Введите второе число: '))\n",
        "\n",
        "print('Наибольший общий делитель: ', greatest_common_divisor(first_number, second_number))"
      ],
      "metadata": {
        "colab": {
          "base_uri": "https://localhost:8080/"
        },
        "id": "_kmQyd3Cdjm4",
        "outputId": "29b3e2f2-4250-4e89-97c7-9d6fbf9bb7fb"
      },
      "execution_count": null,
      "outputs": [
        {
          "output_type": "stream",
          "name": "stdout",
          "text": [
            "Введите первое число: 30\n",
            "Введите второе число: 18\n",
            "Наибольший общий делитель:  6\n"
          ]
        }
      ]
    },
    {
      "cell_type": "markdown",
      "source": [
        "# **Задача 4:**"
      ],
      "metadata": {
        "id": "Aa83ADofPcPZ"
      }
    },
    {
      "cell_type": "markdown",
      "source": [
        "Этап 1:\n",
        "Напишите функцию программу, которая принимает строку и возвращает список слов и количество их упомнинаний в предложении\n",
        "\n",
        "Этап 2:\n",
        "Оформите ваш код в виде функции\n",
        "\n",
        "Ввод:\n",
        "```\n",
        "apple banana apple\n",
        "```\n",
        "\n",
        "Вывод:\n",
        "\n",
        "```\n",
        "apple: 2,\n",
        "banana: 1\n",
        "```"
      ],
      "metadata": {
        "id": "WIfPFxpsO0zL"
      }
    },
    {
      "cell_type": "code",
      "source": [
        "fruits = ['apple', 'banana', 'apple']\n",
        "fruits_2 = []\n",
        "amounts = []\n",
        "result = {}\n",
        "for fruit in fruits:\n",
        "  if fruit not in fruits_2:\n",
        "    fruits_2.append(fruit)\n",
        "  counter = fruits.count(fruit)\n",
        "  amounts.append(counter)\n",
        "for fruit_2 in fruits_2:\n",
        "  for amount in amounts:\n",
        "    if fruit_2 and amount:\n",
        "      result.setdefault(fruit_2, amount)\n",
        "print(result)"
      ],
      "metadata": {
        "id": "DgsmFeW5Po_x",
        "colab": {
          "base_uri": "https://localhost:8080/"
        },
        "outputId": "afd2258b-40f8-4ab4-f4c0-b533d3175879"
      },
      "execution_count": null,
      "outputs": [
        {
          "output_type": "stream",
          "name": "stdout",
          "text": [
            "{'apple': 2, 'banana': 2}\n"
          ]
        }
      ]
    },
    {
      "cell_type": "code",
      "source": [],
      "metadata": {
        "id": "9u-nUB13BZ4y"
      },
      "execution_count": null,
      "outputs": []
    },
    {
      "cell_type": "markdown",
      "source": [
        "# **Задача 5:**"
      ],
      "metadata": {
        "id": "4AQcChvUZDZI"
      }
    },
    {
      "cell_type": "markdown",
      "source": [
        "Этап 1:\n",
        "Детектор анаграмм Напишите программу на Python, которая принимает в качестве входных данных две строки и проверяет, являются ли они анаграммами друг друга\n",
        "\n",
        "Этап 2:\n",
        "Оформите ваш код в виде функции\n",
        "\n",
        "Ввод:\n",
        "```\n",
        "listen, silent\n",
        "```\n",
        "\n",
        "Вывод:\n",
        "\n",
        "```\n",
        "True\n",
        "```"
      ],
      "metadata": {
        "id": "5BmIJLUZP9I-"
      }
    },
    {
      "cell_type": "code",
      "source": [
        "first_word = input('Введите первое слово: ')\n",
        "letters_of_first = list(first_word)\n",
        "letters_of_first.sort\n",
        "\n",
        "second_word = input('Введите второе  слово: ')\n",
        "letters_of_second = list(second_word)\n",
        "letters_of_second.sort\n",
        "\n",
        "coincidence = 0\n",
        "\n",
        "for letter_ in letters_of_first:\n",
        "  if letter_ in letters_of_second:\n",
        "    coincidence = coincidence + 1\n",
        "\n",
        "if coincidence == len(letters_of_first):\n",
        "  print('True')"
      ],
      "metadata": {
        "id": "7LNW8DuHQJwH",
        "colab": {
          "base_uri": "https://localhost:8080/"
        },
        "outputId": "27ee88bc-853b-4423-8a73-54ca05f1e258"
      },
      "execution_count": null,
      "outputs": [
        {
          "output_type": "stream",
          "name": "stdout",
          "text": [
            "Введите первое слово: listen\n",
            "Введите второе  слово: silent\n",
            "True\n"
          ]
        }
      ]
    },
    {
      "cell_type": "code",
      "source": [],
      "metadata": {
        "id": "StpbP6Qq8gBL"
      },
      "execution_count": null,
      "outputs": []
    },
    {
      "cell_type": "markdown",
      "source": [
        "# **Задача 6:**\n"
      ],
      "metadata": {
        "id": "ZlJgrovsZGGp"
      }
    },
    {
      "cell_type": "markdown",
      "source": [
        "Шифр ​​Цезаря\n",
        "\n",
        "Напишите программу на Python, которая реализует шифр Цезаря, простой метод шифрования, который заменяет каждую букву буквой на фиксированное количество позиций вниз по алфавиту. Программа должна запрашивать у пользователя сообщение и значение сдвига, а затем шифровать и расшифровывать сообщение.\n",
        "\n",
        "Этап 1:\n",
        "\n",
        "Напишите код для реализации данной задачи\n",
        "\n",
        "Этап 2:\n",
        "\n",
        "Оформите код в виде нескольких функций:\n",
        "\n",
        "* Зашифровывает сообщение\n",
        "* Расшифровывает сообщение"
      ],
      "metadata": {
        "id": "-SIWYSq2QKBh"
      }
    },
    {
      "cell_type": "code",
      "source": [],
      "metadata": {
        "id": "anThYirsQe6N"
      },
      "execution_count": null,
      "outputs": []
    },
    {
      "cell_type": "markdown",
      "source": [
        "# **Задача 7**"
      ],
      "metadata": {
        "id": "lm9TDmZhZIcU"
      }
    },
    {
      "cell_type": "markdown",
      "source": [
        "Задача: «Банковская система»\n",
        "\n",
        "Создайте программу Python, которая имитирует базовую банковскую систему. Система должна иметь следующие функции:\n",
        "\n",
        "Требования\n",
        "*   Система должна позволять клиентам создавать счета и хранить их балансы.\n",
        "*   Система должна позволять клиентам вносить и снимать деньги со своих счетов.\n",
        "*   Система должна позволять клиентам проверять свой текущий баланс.\n",
        "*   Система должна позволять клиентам переводить деньги между счетами.\n",
        "*   Система должна отслеживать транзакции (депозиты, снятия и переводы) и иметь возможность печатать детали транзакций.\n",
        "\n",
        "\n",
        "Задачи\n",
        "1. Реализуйте банковскую систему, используя только базовые конструкции Python, такие как def, lists, if, elif и else, без классов или словарей.\n",
        "Определите функции для создания счетов, внесения и снятия денег, получения балансов счетов, перевода денег между счетами, а также создания и печати транзакций.\n",
        "2. Напишите основную функцию, которая демонстрирует использование банковской системы путем создания счетов, внесения и снятия денег и перевода денег между счетами.\n",
        "3. Бонусное задание\n",
        "Реализуйте способ хранения и печати истории транзакций для каждого счета.\n",
        "\n",
        "Ограничения\n",
        "Не используйте классы или словари.\n",
        "Используйте только базовые конструкции Python, такие как def, lists, if, elif и else.\n"
      ],
      "metadata": {
        "id": "avFZRRXrQz9O"
      }
    },
    {
      "cell_type": "code",
      "source": [],
      "metadata": {
        "id": "dWEW10zIRwjs"
      },
      "execution_count": null,
      "outputs": []
    }
  ]
}